{
  "nbformat": 4,
  "nbformat_minor": 0,
  "metadata": {
    "colab": {
      "provenance": [],
      "authorship_tag": "ABX9TyNGj9ktjzhA/EsKA589R1vv",
      "include_colab_link": true
    },
    "kernelspec": {
      "name": "python3",
      "display_name": "Python 3"
    },
    "language_info": {
      "name": "python"
    }
  },
  "cells": [
    {
      "cell_type": "markdown",
      "metadata": {
        "id": "view-in-github",
        "colab_type": "text"
      },
      "source": [
        "<a href=\"https://colab.research.google.com/github/jasmine-tokudome/python-practice/blob/main/Python_7.ipynb\" target=\"_parent\"><img src=\"https://colab.research.google.com/assets/colab-badge.svg\" alt=\"Open In Colab\"/></a>"
      ]
    },
    {
      "cell_type": "markdown",
      "source": [],
      "metadata": {
        "id": "FYJCVua8ulW2"
      }
    },
    {
      "cell_type": "markdown",
      "source": [
        "# リストの操作　#1"
      ],
      "metadata": {
        "id": "J1sJW4aJumhV"
      }
    },
    {
      "cell_type": "code",
      "source": [
        "weekdays = [\"Monday\", \"Tuesday\", \"Wednesday\", \"Thursday\", \"Friday\"]\n",
        "weekdays"
      ],
      "metadata": {
        "colab": {
          "base_uri": "https://localhost:8080/"
        },
        "id": "vTBB2IT6uqvq",
        "outputId": "5b12df01-9d82-4f76-c95d-1879b7298d84"
      },
      "execution_count": 2,
      "outputs": [
        {
          "output_type": "execute_result",
          "data": {
            "text/plain": [
              "['Monday', 'Tuesday', 'Wednesday', 'Thursday', 'Friday']"
            ]
          },
          "metadata": {},
          "execution_count": 2
        }
      ]
    },
    {
      "cell_type": "code",
      "source": [
        "weekdays[0:2]"
      ],
      "metadata": {
        "colab": {
          "base_uri": "https://localhost:8080/"
        },
        "id": "1Fn0eiUBvVG0",
        "outputId": "b2601ee2-e11f-4207-8375-f2772ca3f7c6"
      },
      "execution_count": 4,
      "outputs": [
        {
          "output_type": "execute_result",
          "data": {
            "text/plain": [
              "['Monday', 'Tuesday']"
            ]
          },
          "metadata": {},
          "execution_count": 4
        }
      ]
    },
    {
      "cell_type": "code",
      "source": [
        "weekdays[0] = \"Sunday\""
      ],
      "metadata": {
        "id": "yHW9QbbsvcMR"
      },
      "execution_count": 8,
      "outputs": []
    },
    {
      "cell_type": "code",
      "source": [
        "weekdays"
      ],
      "metadata": {
        "colab": {
          "base_uri": "https://localhost:8080/"
        },
        "id": "kkax-e9ivi8E",
        "outputId": "f259b85c-2612-4a3d-9fa4-aef448894f9d"
      },
      "execution_count": 7,
      "outputs": [
        {
          "output_type": "execute_result",
          "data": {
            "text/plain": [
              "[['Sunday'], 'Tuesday', 'Wednesday', 'Thursday', 'Friday']"
            ]
          },
          "metadata": {},
          "execution_count": 7
        }
      ]
    },
    {
      "cell_type": "markdown",
      "source": [
        "他の言語のいわゆる「配列」。Pythonではリストと呼ぶ。"
      ],
      "metadata": {
        "id": "S00wNUQBvMaC"
      }
    },
    {
      "cell_type": "markdown",
      "source": [
        "リストはミュータブルなので書き換えが可能。"
      ],
      "metadata": {
        "id": "nYuyk8FRvp-0"
      }
    },
    {
      "cell_type": "code",
      "source": [
        "today = [\"Sunday\", 1, 22, 2022]"
      ],
      "metadata": {
        "id": "gnyXaMDov1tR"
      },
      "execution_count": 9,
      "outputs": []
    },
    {
      "cell_type": "code",
      "source": [
        "today"
      ],
      "metadata": {
        "colab": {
          "base_uri": "https://localhost:8080/"
        },
        "id": "oiQ8YdF8v0JO",
        "outputId": "19aa4b93-2efa-45f3-8366-e81b599db1c4"
      },
      "execution_count": 10,
      "outputs": [
        {
          "output_type": "execute_result",
          "data": {
            "text/plain": [
              "['Sunday', 1, 22, 2022]"
            ]
          },
          "metadata": {},
          "execution_count": 10
        }
      ]
    },
    {
      "cell_type": "code",
      "source": [
        "yesterday = [\"Friday\", 1, 21, 2022]\n",
        "tomorrow = [\"Sunday\", 1, 23, 2022]\n",
        "three_days = [yesterday, today, tomorrow]\n",
        "three_days"
      ],
      "metadata": {
        "colab": {
          "base_uri": "https://localhost:8080/"
        },
        "id": "Bfdc0EU_wAqR",
        "outputId": "e2a8d929-b50e-40a8-bd4c-f3add4f2497b"
      },
      "execution_count": 13,
      "outputs": [
        {
          "output_type": "execute_result",
          "data": {
            "text/plain": [
              "[['Friday', 1, 21, 2022], ['Sunday', 1, 22, 2022], ['Sunday', 1, 23, 2022]]"
            ]
          },
          "metadata": {},
          "execution_count": 13
        }
      ]
    },
    {
      "cell_type": "code",
      "source": [
        "weekdays = [\"Monday\", \"Tuesday\", \"Wednesday\", \"Thursday\", \"Friday\"]\n",
        "weekend = [\"Saturday\", \"Sunday\"]"
      ],
      "metadata": {
        "id": "9EFX8Z92wstx"
      },
      "execution_count": 14,
      "outputs": []
    },
    {
      "cell_type": "code",
      "source": [
        "weekend.append(\"Monday\")"
      ],
      "metadata": {
        "id": "ONnKy6QYw4-6"
      },
      "execution_count": 15,
      "outputs": []
    },
    {
      "cell_type": "code",
      "source": [
        "weekend"
      ],
      "metadata": {
        "colab": {
          "base_uri": "https://localhost:8080/"
        },
        "id": "8D7mk3qtxX1Y",
        "outputId": "0682312f-f1f9-49ce-8ff9-bc13ed94eb67"
      },
      "execution_count": 16,
      "outputs": [
        {
          "output_type": "execute_result",
          "data": {
            "text/plain": [
              "['Saturday', 'Sunday', 'Monday']"
            ]
          },
          "metadata": {},
          "execution_count": 16
        }
      ]
    },
    {
      "cell_type": "markdown",
      "source": [
        "appendは指定された要素をリストの末尾に追加する"
      ],
      "metadata": {
        "id": "flo44Gd8xb5Z"
      }
    },
    {
      "cell_type": "code",
      "source": [
        "weekdays.extend(weekend)"
      ],
      "metadata": {
        "id": "rnWHwEkDxfok"
      },
      "execution_count": 17,
      "outputs": []
    },
    {
      "cell_type": "code",
      "source": [
        "weekdays"
      ],
      "metadata": {
        "colab": {
          "base_uri": "https://localhost:8080/"
        },
        "id": "TaHqf6XPxt9t",
        "outputId": "64fe2afb-0e95-471d-b38a-952924629d38"
      },
      "execution_count": 18,
      "outputs": [
        {
          "output_type": "execute_result",
          "data": {
            "text/plain": [
              "['Monday',\n",
              " 'Tuesday',\n",
              " 'Wednesday',\n",
              " 'Thursday',\n",
              " 'Friday',\n",
              " 'Saturday',\n",
              " 'Sunday',\n",
              " 'Monday']"
            ]
          },
          "metadata": {},
          "execution_count": 18
        }
      ]
    },
    {
      "cell_type": "markdown",
      "source": [
        "extendは2つのリストを結合することができる"
      ],
      "metadata": {
        "id": "JJn_MRYdxxTe"
      }
    },
    {
      "cell_type": "code",
      "source": [
        "weekdays = [\"Monday\", \"Tuesday\", \"Wednesday\", \"Thursday\", \"Friday\"]\n",
        "weekend = [\"Saturday\", \"Sunday\"]"
      ],
      "metadata": {
        "id": "ziwhPzUzx1jX"
      },
      "execution_count": 19,
      "outputs": []
    },
    {
      "cell_type": "code",
      "source": [
        "weekdays.append(weekend)"
      ],
      "metadata": {
        "id": "ANNpQ6LXyB-9"
      },
      "execution_count": 20,
      "outputs": []
    },
    {
      "cell_type": "code",
      "source": [
        "weekdays"
      ],
      "metadata": {
        "colab": {
          "base_uri": "https://localhost:8080/"
        },
        "id": "_ZhNnmL_yHuL",
        "outputId": "adb41149-6c11-46c1-d9a9-e9b96eeb5443"
      },
      "execution_count": 21,
      "outputs": [
        {
          "output_type": "execute_result",
          "data": {
            "text/plain": [
              "['Monday',\n",
              " 'Tuesday',\n",
              " 'Wednesday',\n",
              " 'Thursday',\n",
              " 'Friday',\n",
              " ['Saturday', 'Sunday']]"
            ]
          },
          "metadata": {},
          "execution_count": 21
        }
      ]
    },
    {
      "cell_type": "code",
      "source": [
        "weekdays += weekend\n",
        "weekdays"
      ],
      "metadata": {
        "colab": {
          "base_uri": "https://localhost:8080/"
        },
        "id": "EDzhblf2yL5B",
        "outputId": "435a29ab-d106-44cd-a890-261b75c092e1"
      },
      "execution_count": 24,
      "outputs": [
        {
          "output_type": "execute_result",
          "data": {
            "text/plain": [
              "['Monday',\n",
              " 'Tuesday',\n",
              " 'Wednesday',\n",
              " 'Thursday',\n",
              " 'Friday',\n",
              " ['Saturday', 'Sunday'],\n",
              " 'Saturday',\n",
              " 'Sunday',\n",
              " 'Saturday',\n",
              " 'Sunday',\n",
              " 'Saturday',\n",
              " 'Sunday']"
            ]
          },
          "metadata": {},
          "execution_count": 24
        }
      ]
    },
    {
      "cell_type": "code",
      "source": [
        "a = 1\n",
        "a = a + 1\n",
        "a"
      ],
      "metadata": {
        "colab": {
          "base_uri": "https://localhost:8080/"
        },
        "id": "jT6O2HvZyR1u",
        "outputId": "9486513c-3ca4-42d3-8f3c-0d518d564f79"
      },
      "execution_count": 25,
      "outputs": [
        {
          "output_type": "execute_result",
          "data": {
            "text/plain": [
              "2"
            ]
          },
          "metadata": {},
          "execution_count": 25
        }
      ]
    },
    {
      "cell_type": "code",
      "source": [
        "a = 1\n",
        "a += 1\n",
        "a"
      ],
      "metadata": {
        "colab": {
          "base_uri": "https://localhost:8080/"
        },
        "id": "slL5rRg7yZfp",
        "outputId": "83252ffe-bd3a-4d35-b0e7-ddddcc56362c"
      },
      "execution_count": 26,
      "outputs": [
        {
          "output_type": "execute_result",
          "data": {
            "text/plain": [
              "2"
            ]
          },
          "metadata": {},
          "execution_count": 26
        }
      ]
    }
  ]
}