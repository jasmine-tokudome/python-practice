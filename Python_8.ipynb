{
  "nbformat": 4,
  "nbformat_minor": 0,
  "metadata": {
    "colab": {
      "provenance": [],
      "authorship_tag": "ABX9TyOmykZ1I0xnbbkvqQfYDaBd",
      "include_colab_link": true
    },
    "kernelspec": {
      "name": "python3",
      "display_name": "Python 3"
    },
    "language_info": {
      "name": "python"
    }
  },
  "cells": [
    {
      "cell_type": "markdown",
      "metadata": {
        "id": "view-in-github",
        "colab_type": "text"
      },
      "source": [
        "<a href=\"https://colab.research.google.com/github/jasmine-tokudome/python-practice/blob/main/Python_8.ipynb\" target=\"_parent\"><img src=\"https://colab.research.google.com/assets/colab-badge.svg\" alt=\"Open In Colab\"/></a>"
      ]
    },
    {
      "cell_type": "code",
      "source": [
        "コンストラクタとは、クラスをインスタンス化した時に一番初めに自動的に呼び出される関数（初期化処理等を書く）"
      ],
      "metadata": {
        "id": "UjM--DAnKrKs"
      },
      "execution_count": null,
      "outputs": []
    },
    {
      "cell_type": "markdown",
      "source": [],
      "metadata": {
        "id": "BgGW4vbSKqyA"
      }
    },
    {
      "cell_type": "code",
      "execution_count": 2,
      "metadata": {
        "id": "WxCKQXXwGd5-"
      },
      "outputs": [],
      "source": [
        "class Car:\n",
        "  def __init__(self, name, value):\n",
        "    self.name = name\n",
        "    self.value = value\n",
        "\n",
        "  def run(self, speed):\n",
        "    return f'running {speed}'"
      ]
    },
    {
      "cell_type": "code",
      "source": [
        "car1 = Car('BMW', '3M')"
      ],
      "metadata": {
        "id": "-Udvk86gLVyE"
      },
      "execution_count": 3,
      "outputs": []
    },
    {
      "cell_type": "code",
      "source": [
        "car1.run('500km/h')"
      ],
      "metadata": {
        "colab": {
          "base_uri": "https://localhost:8080/",
          "height": 35
        },
        "id": "KEXUcOiXLipg",
        "outputId": "cbd1484c-bfd6-4aae-cbc1-2e8b193c9dab"
      },
      "execution_count": 4,
      "outputs": [
        {
          "output_type": "execute_result",
          "data": {
            "text/plain": [
              "'running 500km/h'"
            ],
            "application/vnd.google.colaboratory.intrinsic+json": {
              "type": "string"
            }
          },
          "metadata": {},
          "execution_count": 4
        }
      ]
    },
    {
      "cell_type": "markdown",
      "source": [
        "オブジェクトは自身が持つ状態を「オブジェクト.状態（変数）」という形で持っており、クラス内でそれを表現するときはオブジェクト自身をselfと記述して「self.状態」というふうに書くルールがある。"
      ],
      "metadata": {
        "id": "H4UX4H6U0m4G"
      }
    },
    {
      "cell_type": "code",
      "source": [
        "car1.name"
      ],
      "metadata": {
        "id": "WcnTtSGM5R4Y",
        "outputId": "5b73c8cc-7456-4b51-f917-7729a0791462",
        "colab": {
          "base_uri": "https://localhost:8080/",
          "height": 35
        }
      },
      "execution_count": 5,
      "outputs": [
        {
          "output_type": "execute_result",
          "data": {
            "text/plain": [
              "'BMW'"
            ],
            "application/vnd.google.colaboratory.intrinsic+json": {
              "type": "string"
            }
          },
          "metadata": {},
          "execution_count": 5
        }
      ]
    },
    {
      "cell_type": "code",
      "source": [
        "car1.value"
      ],
      "metadata": {
        "id": "A6NDNkM55Z2k",
        "outputId": "504b601f-146f-4391-cdd4-d6148ea91c79",
        "colab": {
          "base_uri": "https://localhost:8080/",
          "height": 35
        }
      },
      "execution_count": 6,
      "outputs": [
        {
          "output_type": "execute_result",
          "data": {
            "text/plain": [
              "'3M'"
            ],
            "application/vnd.google.colaboratory.intrinsic+json": {
              "type": "string"
            }
          },
          "metadata": {},
          "execution_count": 6
        }
      ]
    },
    {
      "cell_type": "code",
      "source": [
        "car1.wheel = 4"
      ],
      "metadata": {
        "id": "NvRk5O7L5j0G"
      },
      "execution_count": 7,
      "outputs": []
    },
    {
      "cell_type": "code",
      "source": [
        "car1.wheel"
      ],
      "metadata": {
        "id": "0o0TZbm05neM",
        "outputId": "7d9365b1-0c02-4a91-af11-e74773995892",
        "colab": {
          "base_uri": "https://localhost:8080/"
        }
      },
      "execution_count": 8,
      "outputs": [
        {
          "output_type": "execute_result",
          "data": {
            "text/plain": [
              "4"
            ]
          },
          "metadata": {},
          "execution_count": 8
        }
      ]
    }
  ]
}