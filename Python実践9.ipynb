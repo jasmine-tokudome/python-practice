{
  "nbformat": 4,
  "nbformat_minor": 0,
  "metadata": {
    "colab": {
      "provenance": [],
      "authorship_tag": "ABX9TyO6sYPb9wf0vNPWGSGKUvB4",
      "include_colab_link": true
    },
    "kernelspec": {
      "name": "python3",
      "display_name": "Python 3"
    },
    "language_info": {
      "name": "python"
    }
  },
  "cells": [
    {
      "cell_type": "markdown",
      "metadata": {
        "id": "view-in-github",
        "colab_type": "text"
      },
      "source": [
        "<a href=\"https://colab.research.google.com/github/jasmine-tokudome/python-practice/blob/main/Python%E5%AE%9F%E8%B7%B59.ipynb\" target=\"_parent\"><img src=\"https://colab.research.google.com/assets/colab-badge.svg\" alt=\"Open In Colab\"/></a>"
      ]
    },
    {
      "cell_type": "code",
      "execution_count": 8,
      "metadata": {
        "id": "YSZqvvVn72gQ"
      },
      "outputs": [],
      "source": [
        "class Deco:\n",
        "\n",
        "  def __init__(self):\n",
        "    self.deco = \"@@@@@@@@@@@@@@@@@@@@\"\n",
        "\n",
        "  def deco_print(self,p=\"no content\"):\n",
        "    print(self.deco)\n",
        "    print(p)\n",
        "    print(self.deco)\n",
        "\n",
        "  def today_info(self,**kwargs):\n",
        "    print(self.deco)\n",
        "    for key, value in kwargs.items():\n",
        "      print(f\"{key} = {value}\")\n",
        "    print(self.deco)\n",
        "\n",
        "  def print_greet(self,*args):\n",
        "    print(\"self.deco\")\n",
        "    for greet in args:\n",
        "      print(greet)\n",
        "    print(\"self.deco\")"
      ]
    },
    {
      "cell_type": "code",
      "source": [
        "deco = Deco()"
      ],
      "metadata": {
        "id": "busObHu-unUD"
      },
      "execution_count": 10,
      "outputs": []
    },
    {
      "cell_type": "code",
      "source": [
        "deco.deco_print()"
      ],
      "metadata": {
        "colab": {
          "base_uri": "https://localhost:8080/"
        },
        "id": "pV6Y9UWEuqy9",
        "outputId": "d300fafc-9316-4523-b656-e6c5d03bdfac"
      },
      "execution_count": 11,
      "outputs": [
        {
          "output_type": "stream",
          "name": "stdout",
          "text": [
            "@@@@@@@@@@@@@@@@@@@@\n",
            "no content\n",
            "@@@@@@@@@@@@@@@@@@@@\n"
          ]
        }
      ]
    },
    {
      "cell_type": "code",
      "source": [
        "deco.deco_print('Hello World')"
      ],
      "metadata": {
        "colab": {
          "base_uri": "https://localhost:8080/"
        },
        "id": "C_s0_yLiwAid",
        "outputId": "87577a85-f4c6-495f-9222-f1f246a6a5b0"
      },
      "execution_count": 12,
      "outputs": [
        {
          "output_type": "stream",
          "name": "stdout",
          "text": [
            "@@@@@@@@@@@@@@@@@@@@\n",
            "Hello World\n",
            "@@@@@@@@@@@@@@@@@@@@\n"
          ]
        }
      ]
    },
    {
      "cell_type": "code",
      "source": [
        "deco.today_info(a='good Morning',b='Good Evening')"
      ],
      "metadata": {
        "colab": {
          "base_uri": "https://localhost:8080/"
        },
        "id": "OHYdKqTtwF5M",
        "outputId": "24b15a11-b080-45fc-c077-d5d225e6bebd"
      },
      "execution_count": 13,
      "outputs": [
        {
          "output_type": "stream",
          "name": "stdout",
          "text": [
            "@@@@@@@@@@@@@@@@@@@@\n",
            "a = good Morning\n",
            "b = Good Evening\n",
            "@@@@@@@@@@@@@@@@@@@@\n"
          ]
        }
      ]
    }
  ]
}