{
  "nbformat": 4,
  "nbformat_minor": 0,
  "metadata": {
    "colab": {
      "provenance": [],
      "authorship_tag": "ABX9TyMUleSItFuWry7yqj7qz5C8",
      "include_colab_link": true
    },
    "kernelspec": {
      "name": "python3",
      "display_name": "Python 3"
    },
    "language_info": {
      "name": "python"
    }
  },
  "cells": [
    {
      "cell_type": "markdown",
      "metadata": {
        "id": "view-in-github",
        "colab_type": "text"
      },
      "source": [
        "<a href=\"https://colab.research.google.com/github/jasmine-tokudome/python-practice/blob/main/Python%E5%AE%9F%E8%B7%B59.ipynb\" target=\"_parent\"><img src=\"https://colab.research.google.com/assets/colab-badge.svg\" alt=\"Open In Colab\"/></a>"
      ]
    },
    {
      "cell_type": "code",
      "execution_count": null,
      "metadata": {
        "id": "YSZqvvVn72gQ"
      },
      "outputs": [],
      "source": [
        "class Deco:\n",
        "\n",
        "def __init__(self):\n",
        "  self.deco = \"@@@@@@@@@@@@@@@@@@@@\"\n",
        "\n",
        "  @staticmethod\n",
        "  def deco_print(p=\"no content\"):\n",
        "    print(self.deco)\n",
        "    print(p)\n",
        "    print(self.deco)\n",
        "\n",
        "  def today_info(**kwargs):\n",
        "    print(self.deco)\n",
        "    for key, value in kwargs.items():\n",
        "      print(f\"{key} = {value}\")\n",
        "    print(self.deco)\n",
        "\n",
        "  def print_greet(*args):\n",
        "    print(\"self.deco\")\n",
        "    for greet in args:\n",
        "      print(greet)\n",
        "    print(\"self.deco\")"
      ]
    }
  ]
}