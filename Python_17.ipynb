{
  "nbformat": 4,
  "nbformat_minor": 0,
  "metadata": {
    "colab": {
      "provenance": [],
      "authorship_tag": "ABX9TyNgNdb/m/AEOofpHMJOtJFo",
      "include_colab_link": true
    },
    "kernelspec": {
      "name": "python3",
      "display_name": "Python 3"
    },
    "language_info": {
      "name": "python"
    }
  },
  "cells": [
    {
      "cell_type": "markdown",
      "metadata": {
        "id": "view-in-github",
        "colab_type": "text"
      },
      "source": [
        "<a href=\"https://colab.research.google.com/github/jasmine-tokudome/python-practice/blob/main/Python_17.ipynb\" target=\"_parent\"><img src=\"https://colab.research.google.com/assets/colab-badge.svg\" alt=\"Open In Colab\"/></a>"
      ]
    },
    {
      "cell_type": "markdown",
      "source": [
        "# 関数の基礎"
      ],
      "metadata": {
        "id": "ufcK7Bge2ZPL"
      }
    },
    {
      "cell_type": "markdown",
      "source": [
        "関連のある一連の処理（プログラム）をまとめて再生利用可能にしたもの。"
      ],
      "metadata": {
        "id": "FbLG9gvp2h4k"
      }
    },
    {
      "cell_type": "code",
      "execution_count": 1,
      "metadata": {
        "id": "O2I0VYnJ2VNK"
      },
      "outputs": [],
      "source": [
        "def add(a, b):\n",
        "  c = a + b\n",
        "  return c"
      ]
    },
    {
      "cell_type": "code",
      "source": [
        "add(2, 3)"
      ],
      "metadata": {
        "colab": {
          "base_uri": "https://localhost:8080/"
        },
        "id": "Wiv9huaO27wn",
        "outputId": "2551ba31-7325-4d02-fc5c-0705985bfae2"
      },
      "execution_count": 2,
      "outputs": [
        {
          "output_type": "execute_result",
          "data": {
            "text/plain": [
              "5"
            ]
          },
          "metadata": {},
          "execution_count": 2
        }
      ]
    },
    {
      "cell_type": "code",
      "source": [
        "add(4, 5)"
      ],
      "metadata": {
        "colab": {
          "base_uri": "https://localhost:8080/"
        },
        "id": "8lOvXPyu3kbA",
        "outputId": "4c14c115-6d5b-4996-9989-c14a0e3350f8"
      },
      "execution_count": 3,
      "outputs": [
        {
          "output_type": "execute_result",
          "data": {
            "text/plain": [
              "9"
            ]
          },
          "metadata": {},
          "execution_count": 3
        }
      ]
    },
    {
      "cell_type": "markdown",
      "source": [
        "仮引数　関数定義内で使われる引数\n",
        "実引数　関数の呼び出しで使われる引数"
      ],
      "metadata": {
        "id": "9qUwlB_F3oE1"
      }
    },
    {
      "cell_type": "code",
      "source": [
        "2 + 3"
      ],
      "metadata": {
        "colab": {
          "base_uri": "https://localhost:8080/"
        },
        "id": "AX1PdSyefxjN",
        "outputId": "d3b11205-11f2-410b-fc70-6d9b24b35ebd"
      },
      "execution_count": 1,
      "outputs": [
        {
          "output_type": "execute_result",
          "data": {
            "text/plain": [
              "5"
            ]
          },
          "metadata": {},
          "execution_count": 1
        }
      ]
    },
    {
      "cell_type": "code",
      "source": [
        "def deco_print(p):\n",
        "  print(\"@@@@@@@@@@@@@@\")\n",
        "  print(p)\n",
        "  print(\"@@@@@@@@@@@@@@\")"
      ],
      "metadata": {
        "id": "roHqmg30f5AH"
      },
      "execution_count": 2,
      "outputs": []
    },
    {
      "cell_type": "code",
      "source": [
        "deco_print(\"Hello World\")"
      ],
      "metadata": {
        "colab": {
          "base_uri": "https://localhost:8080/"
        },
        "id": "3BSctSOGgN1-",
        "outputId": "8efb2fc0-1224-4ccb-962d-3412caeb0f3f"
      },
      "execution_count": 3,
      "outputs": [
        {
          "output_type": "stream",
          "name": "stdout",
          "text": [
            "@@@@@@@@@@@@@@\n",
            "Hello World\n",
            "@@@@@@@@@@@@@@\n"
          ]
        }
      ]
    },
    {
      "cell_type": "markdown",
      "source": [
        "print()関数などはPythonが標準で備えている関数（組み込み関数）"
      ],
      "metadata": {
        "id": "2GLqGrzfgctv"
      }
    },
    {
      "cell_type": "code",
      "source": [],
      "metadata": {
        "id": "-SzN-4aOgcWQ"
      },
      "execution_count": null,
      "outputs": []
    },
    {
      "cell_type": "code",
      "source": [],
      "metadata": {
        "id": "dvW-O6Zpg7R9"
      },
      "execution_count": null,
      "outputs": []
    }
  ]
}