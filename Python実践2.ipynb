{
  "nbformat": 4,
  "nbformat_minor": 0,
  "metadata": {
    "colab": {
      "provenance": [],
      "authorship_tag": "ABX9TyPNR7I93XYAsdosZ3SuXWqv",
      "include_colab_link": true
    },
    "kernelspec": {
      "name": "python3",
      "display_name": "Python 3"
    },
    "language_info": {
      "name": "python"
    }
  },
  "cells": [
    {
      "cell_type": "markdown",
      "metadata": {
        "id": "view-in-github",
        "colab_type": "text"
      },
      "source": [
        "<a href=\"https://colab.research.google.com/github/jasmine-tokudome/python-practice/blob/main/Python%E5%AE%9F%E8%B7%B52.ipynb\" target=\"_parent\"><img src=\"https://colab.research.google.com/assets/colab-badge.svg\" alt=\"Open In Colab\"/></a>"
      ]
    },
    {
      "cell_type": "markdown",
      "source": [
        "# 例外処理"
      ],
      "metadata": {
        "id": "TxwBZVp-HS3v"
      }
    },
    {
      "cell_type": "code",
      "execution_count": 1,
      "metadata": {
        "id": "l9Aj3OfhHOpy"
      },
      "outputs": [],
      "source": [
        "items = ['note', 'notebook', 'sketchbook']\n",
        "def get_book(index):\n",
        "  try:\n",
        "    return items[index]\n",
        "  except IndexError:\n",
        "      return \"範囲外です\""
      ]
    },
    {
      "cell_type": "markdown",
      "source": [
        "# else"
      ],
      "metadata": {
        "id": "Yopi1jxuHzwW"
      }
    },
    {
      "cell_type": "code",
      "source": [
        "def get_book(index):\n",
        "  try:\n",
        "    book = items[index]\n",
        "  except IndexError:\n",
        "      return \"範囲外です\"\n",
        "  else:\n",
        "    return book.upper()"
      ],
      "metadata": {
        "id": "PSXEp3pDIhfb"
      },
      "execution_count": 5,
      "outputs": []
    },
    {
      "cell_type": "code",
      "source": [
        "get_book(0)"
      ],
      "metadata": {
        "colab": {
          "base_uri": "https://localhost:8080/",
          "height": 35
        },
        "id": "_M8ZAmItH1BP",
        "outputId": "1b463d50-e170-49f6-91ad-02924376c405"
      },
      "execution_count": 6,
      "outputs": [
        {
          "output_type": "execute_result",
          "data": {
            "text/plain": [
              "'NOTE'"
            ],
            "application/vnd.google.colaboratory.intrinsic+json": {
              "type": "string"
            }
          },
          "metadata": {},
          "execution_count": 6
        }
      ]
    },
    {
      "cell_type": "markdown",
      "source": [
        "try節ではエラーが起こる可能性のあるコードのみを書いてできるだけ短くする（エラー箇所を明確化し可読性を上げる）。"
      ],
      "metadata": {
        "id": "ngmsPDS9HKmZ"
      }
    },
    {
      "cell_type": "code",
      "source": [
        "3 / 0"
      ],
      "metadata": {
        "colab": {
          "base_uri": "https://localhost:8080/",
          "height": 141
        },
        "id": "8IBDOPzhva_L",
        "outputId": "6d209e48-a526-4f35-8608-3799dc4f18c4"
      },
      "execution_count": 1,
      "outputs": [
        {
          "output_type": "error",
          "ename": "ZeroDivisionError",
          "evalue": "division by zero",
          "traceback": [
            "\u001b[0;31m---------------------------------------------------------------------------\u001b[0m",
            "\u001b[0;31mZeroDivisionError\u001b[0m                         Traceback (most recent call last)",
            "\u001b[0;32m<ipython-input-1-e1965806ec03>\u001b[0m in \u001b[0;36m<cell line: 0>\u001b[0;34m()\u001b[0m\n\u001b[0;32m----> 1\u001b[0;31m \u001b[0;36m3\u001b[0m \u001b[0;34m/\u001b[0m \u001b[0;36m0\u001b[0m\u001b[0;34m\u001b[0m\u001b[0;34m\u001b[0m\u001b[0m\n\u001b[0m",
            "\u001b[0;31mZeroDivisionError\u001b[0m: division by zero"
          ]
        }
      ]
    },
    {
      "cell_type": "code",
      "source": [
        "def div_num(a, b):\n",
        "  try:\n",
        "    print(a / b)\n",
        "  except ZeroDivisionError:\n",
        "    print('0で割っています')\n",
        "  finally:\n",
        "    print('終了')"
      ],
      "metadata": {
        "id": "BYxI5L52vd21"
      },
      "execution_count": 3,
      "outputs": []
    },
    {
      "cell_type": "code",
      "source": [
        "div_num(3,2)"
      ],
      "metadata": {
        "colab": {
          "base_uri": "https://localhost:8080/"
        },
        "id": "-4CJ2dR1f18T",
        "outputId": "8be26bde-9a07-42ca-d822-57be2dd22085"
      },
      "execution_count": 4,
      "outputs": [
        {
          "output_type": "stream",
          "name": "stdout",
          "text": [
            "1.5\n",
            "終了\n"
          ]
        }
      ]
    },
    {
      "cell_type": "code",
      "source": [
        "div_num(3,0)"
      ],
      "metadata": {
        "colab": {
          "base_uri": "https://localhost:8080/"
        },
        "id": "Zw6L0x5SgEzw",
        "outputId": "21e0efa2-1fd8-4235-e77b-9453285fac45"
      },
      "execution_count": 5,
      "outputs": [
        {
          "output_type": "stream",
          "name": "stdout",
          "text": [
            "0で割っています\n",
            "終了\n"
          ]
        }
      ]
    },
    {
      "cell_type": "code",
      "source": [
        "raise TypeError('タイプエラーです')"
      ],
      "metadata": {
        "colab": {
          "base_uri": "https://localhost:8080/",
          "height": 141
        },
        "id": "XFaCCn3qgVhm",
        "outputId": "d0c482fd-db2a-45d8-e482-39f58e2d925a"
      },
      "execution_count": 7,
      "outputs": [
        {
          "output_type": "error",
          "ename": "TypeError",
          "evalue": "タイプエラーです",
          "traceback": [
            "\u001b[0;31m---------------------------------------------------------------------------\u001b[0m",
            "\u001b[0;31mTypeError\u001b[0m                                 Traceback (most recent call last)",
            "\u001b[0;32m<ipython-input-7-20261ea2659a>\u001b[0m in \u001b[0;36m<cell line: 0>\u001b[0;34m()\u001b[0m\n\u001b[0;32m----> 1\u001b[0;31m \u001b[0;32mraise\u001b[0m \u001b[0mTypeError\u001b[0m\u001b[0;34m(\u001b[0m\u001b[0;34m'タイプエラーです'\u001b[0m\u001b[0;34m)\u001b[0m\u001b[0;34m\u001b[0m\u001b[0;34m\u001b[0m\u001b[0m\n\u001b[0m",
            "\u001b[0;31mTypeError\u001b[0m: タイプエラーです"
          ]
        }
      ]
    },
    {
      "cell_type": "code",
      "source": [],
      "metadata": {
        "id": "3FfCr0migaaY"
      },
      "execution_count": null,
      "outputs": []
    }
  ]
}