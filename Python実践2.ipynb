{
  "nbformat": 4,
  "nbformat_minor": 0,
  "metadata": {
    "colab": {
      "provenance": [],
      "authorship_tag": "ABX9TyMn8aC8//pcweCyp7+uWkTc",
      "include_colab_link": true
    },
    "kernelspec": {
      "name": "python3",
      "display_name": "Python 3"
    },
    "language_info": {
      "name": "python"
    }
  },
  "cells": [
    {
      "cell_type": "markdown",
      "metadata": {
        "id": "view-in-github",
        "colab_type": "text"
      },
      "source": [
        "<a href=\"https://colab.research.google.com/github/jasmine-tokudome/python-practice/blob/main/Python%E5%AE%9F%E8%B7%B52.ipynb\" target=\"_parent\"><img src=\"https://colab.research.google.com/assets/colab-badge.svg\" alt=\"Open In Colab\"/></a>"
      ]
    },
    {
      "cell_type": "markdown",
      "source": [
        "# 例外処理"
      ],
      "metadata": {
        "id": "TxwBZVp-HS3v"
      }
    },
    {
      "cell_type": "code",
      "execution_count": 1,
      "metadata": {
        "id": "l9Aj3OfhHOpy"
      },
      "outputs": [],
      "source": [
        "items = ['note', 'notebook', 'sketchbook']\n",
        "def get_book(index):\n",
        "  try:\n",
        "    return items[index]\n",
        "  except IndexError:\n",
        "      return \"範囲外です\""
      ]
    },
    {
      "cell_type": "markdown",
      "source": [
        "# else"
      ],
      "metadata": {
        "id": "Yopi1jxuHzwW"
      }
    },
    {
      "cell_type": "code",
      "source": [
        "def get_book(index):\n",
        "  try:\n",
        "    book = items[index]\n",
        "  except IndexError:\n",
        "      return \"範囲外です\"\n",
        "  else:\n",
        "    return book.upper()"
      ],
      "metadata": {
        "id": "PSXEp3pDIhfb"
      },
      "execution_count": 5,
      "outputs": []
    },
    {
      "cell_type": "code",
      "source": [
        "get_book(0)"
      ],
      "metadata": {
        "colab": {
          "base_uri": "https://localhost:8080/",
          "height": 35
        },
        "id": "_M8ZAmItH1BP",
        "outputId": "1b463d50-e170-49f6-91ad-02924376c405"
      },
      "execution_count": 6,
      "outputs": [
        {
          "output_type": "execute_result",
          "data": {
            "text/plain": [
              "'NOTE'"
            ],
            "application/vnd.google.colaboratory.intrinsic+json": {
              "type": "string"
            }
          },
          "metadata": {},
          "execution_count": 6
        }
      ]
    },
    {
      "cell_type": "markdown",
      "source": [
        "try節ではエラーが起こる可能性のあるコードのみを書いてできるだけ短くする（エラー箇所を明確化し可読性を上げる）。"
      ],
      "metadata": {
        "id": "ngmsPDS9HKmZ"
      }
    }
  ]
}