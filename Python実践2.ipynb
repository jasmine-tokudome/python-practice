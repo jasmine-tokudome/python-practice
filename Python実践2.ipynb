{
  "nbformat": 4,
  "nbformat_minor": 0,
  "metadata": {
    "colab": {
      "provenance": [],
      "authorship_tag": "ABX9TyNihCwGuHjKP8c5M7Z50shO",
      "include_colab_link": true
    },
    "kernelspec": {
      "name": "python3",
      "display_name": "Python 3"
    },
    "language_info": {
      "name": "python"
    }
  },
  "cells": [
    {
      "cell_type": "markdown",
      "metadata": {
        "id": "view-in-github",
        "colab_type": "text"
      },
      "source": [
        "<a href=\"https://colab.research.google.com/github/jasmine-tokudome/python-practice/blob/main/Python%E5%AE%9F%E8%B7%B52.ipynb\" target=\"_parent\"><img src=\"https://colab.research.google.com/assets/colab-badge.svg\" alt=\"Open In Colab\"/></a>"
      ]
    },
    {
      "cell_type": "markdown",
      "source": [
        "# 例外処理"
      ],
      "metadata": {
        "id": "TxwBZVp-HS3v"
      }
    },
    {
      "cell_type": "code",
      "execution_count": 10,
      "metadata": {
        "id": "l9Aj3OfhHOpy"
      },
      "outputs": [],
      "source": [
        "items = ['note', 'notebook', 'sketchbook']\n",
        "def get_book(index):\n",
        "  try:\n",
        "    return items[index]\n",
        "  except IndexError:\n",
        "      return \"範囲外です\""
      ]
    },
    {
      "cell_type": "markdown",
      "source": [
        "# else"
      ],
      "metadata": {
        "id": "Yopi1jxuHzwW"
      }
    },
    {
      "cell_type": "code",
      "source": [
        "def get_book(index):\n",
        "  try:\n",
        "    book = items[index]\n",
        "    return book.upper()\n",
        "  except IndexError:\n",
        "      return \"範囲外です\""
      ],
      "metadata": {
        "id": "PSXEp3pDIhfb"
      },
      "execution_count": 13,
      "outputs": []
    },
    {
      "cell_type": "code",
      "source": [
        "get_book(2)"
      ],
      "metadata": {
        "colab": {
          "base_uri": "https://localhost:8080/",
          "height": 35
        },
        "id": "_M8ZAmItH1BP",
        "outputId": "150931e2-4613-4f96-b0a2-2f5718a26806"
      },
      "execution_count": 14,
      "outputs": [
        {
          "output_type": "execute_result",
          "data": {
            "text/plain": [
              "'SKETCHBOOK'"
            ],
            "application/vnd.google.colaboratory.intrinsic+json": {
              "type": "string"
            }
          },
          "metadata": {},
          "execution_count": 14
        }
      ]
    }
  ]
}