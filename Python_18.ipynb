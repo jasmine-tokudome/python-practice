{
  "nbformat": 4,
  "nbformat_minor": 0,
  "metadata": {
    "colab": {
      "provenance": [],
      "authorship_tag": "ABX9TyNoJ09qnUXE/gids/rYGi3L",
      "include_colab_link": true
    },
    "kernelspec": {
      "name": "python3",
      "display_name": "Python 3"
    },
    "language_info": {
      "name": "python"
    }
  },
  "cells": [
    {
      "cell_type": "markdown",
      "metadata": {
        "id": "view-in-github",
        "colab_type": "text"
      },
      "source": [
        "<a href=\"https://colab.research.google.com/github/jasmine-tokudome/python-practice/blob/main/Python_18.ipynb\" target=\"_parent\"><img src=\"https://colab.research.google.com/assets/colab-badge.svg\" alt=\"Open In Colab\"/></a>"
      ]
    },
    {
      "cell_type": "markdown",
      "source": [
        "関数の引数"
      ],
      "metadata": {
        "id": "WShHZY1gkFbv"
      }
    },
    {
      "cell_type": "code",
      "execution_count": 1,
      "metadata": {
        "id": "IHGagduIj8zO"
      },
      "outputs": [],
      "source": [
        "def deco_print(p):\n",
        "  print(\"@@@@@@@@@@@@@@@@@\")\n",
        "  print(p)\n",
        "  print(\"@@@@@@@@@@@@@@@@@\")"
      ]
    },
    {
      "cell_type": "code",
      "source": [
        "deco_print(\"Hello World\")"
      ],
      "metadata": {
        "colab": {
          "base_uri": "https://localhost:8080/"
        },
        "id": "laTNR8QpedU5",
        "outputId": "92df4fe2-b77a-43c7-8b90-673f61790f2e"
      },
      "execution_count": 2,
      "outputs": [
        {
          "output_type": "stream",
          "name": "stdout",
          "text": [
            "@@@@@@@@@@@@@@@@@\n",
            "Hello World\n",
            "@@@@@@@@@@@@@@@@@\n"
          ]
        }
      ]
    },
    {
      "cell_type": "code",
      "source": [
        "deco_print()"
      ],
      "metadata": {
        "colab": {
          "base_uri": "https://localhost:8080/",
          "height": 141
        },
        "id": "a23PaduzekZ3",
        "outputId": "a2b6e17d-dc48-451d-c1ea-eebce3a6b513"
      },
      "execution_count": 3,
      "outputs": [
        {
          "output_type": "error",
          "ename": "TypeError",
          "evalue": "deco_print() missing 1 required positional argument: 'p'",
          "traceback": [
            "\u001b[0;31m---------------------------------------------------------------------------\u001b[0m",
            "\u001b[0;31mTypeError\u001b[0m                                 Traceback (most recent call last)",
            "\u001b[0;32m<ipython-input-3-91b1512bb0dc>\u001b[0m in \u001b[0;36m<cell line: 1>\u001b[0;34m()\u001b[0m\n\u001b[0;32m----> 1\u001b[0;31m \u001b[0mdeco_print\u001b[0m\u001b[0;34m(\u001b[0m\u001b[0;34m)\u001b[0m\u001b[0;34m\u001b[0m\u001b[0;34m\u001b[0m\u001b[0m\n\u001b[0m",
            "\u001b[0;31mTypeError\u001b[0m: deco_print() missing 1 required positional argument: 'p'"
          ]
        }
      ]
    },
    {
      "cell_type": "code",
      "source": [
        "def deco_print(p = \"no content\"):\n",
        "  print(\"@@@@@@@@@@@@@@@@@\")\n",
        "  print(p)\n",
        "  print(\"@@@@@@@@@@@@@@@@@\")"
      ],
      "metadata": {
        "id": "l0O1_QHMeoqn"
      },
      "execution_count": 4,
      "outputs": []
    },
    {
      "cell_type": "code",
      "source": [
        "deco_print()"
      ],
      "metadata": {
        "colab": {
          "base_uri": "https://localhost:8080/"
        },
        "id": "e9PrUdede10n",
        "outputId": "39db4be6-265f-430b-a5fa-dc3114e052f3"
      },
      "execution_count": 5,
      "outputs": [
        {
          "output_type": "stream",
          "name": "stdout",
          "text": [
            "@@@@@@@@@@@@@@@@@\n",
            "no content\n",
            "@@@@@@@@@@@@@@@@@\n"
          ]
        }
      ]
    },
    {
      "cell_type": "code",
      "source": [
        "deco_print(\"Hello\")"
      ],
      "metadata": {
        "colab": {
          "base_uri": "https://localhost:8080/"
        },
        "id": "Dr2Dd7vce6ck",
        "outputId": "cfe70313-4ac9-47b5-8bcd-5cc5f2af4afd"
      },
      "execution_count": 6,
      "outputs": [
        {
          "output_type": "stream",
          "name": "stdout",
          "text": [
            "@@@@@@@@@@@@@@@@@\n",
            "Hello\n",
            "@@@@@@@@@@@@@@@@@\n"
          ]
        }
      ]
    },
    {
      "cell_type": "markdown",
      "source": [
        "# 位置引数"
      ],
      "metadata": {
        "id": "YQlz-3hALP95"
      }
    },
    {
      "cell_type": "markdown",
      "source": [
        "位置引数 仮引数を指定せずに渡す実引数"
      ],
      "metadata": {
        "id": "0KlRf3ZQLVtl"
      }
    },
    {
      "cell_type": "code",
      "source": [
        "def div(a, b):\n",
        "  return a / b"
      ],
      "metadata": {
        "id": "JiUD_fZaLr9n"
      },
      "execution_count": 1,
      "outputs": []
    },
    {
      "cell_type": "code",
      "source": [
        "div(10, 3)"
      ],
      "metadata": {
        "colab": {
          "base_uri": "https://localhost:8080/"
        },
        "id": "49o0aCcOLRnZ",
        "outputId": "91596f32-780a-42be-8bd7-1e3908787141"
      },
      "execution_count": 2,
      "outputs": [
        {
          "output_type": "execute_result",
          "data": {
            "text/plain": [
              "3.3333333333333335"
            ]
          },
          "metadata": {},
          "execution_count": 2
        }
      ]
    },
    {
      "cell_type": "code",
      "source": [
        "div(3, 10)"
      ],
      "metadata": {
        "colab": {
          "base_uri": "https://localhost:8080/"
        },
        "id": "GKoR2az7MWIF",
        "outputId": "04be7cdc-2e6a-4834-d282-1f87a80fec46"
      },
      "execution_count": 4,
      "outputs": [
        {
          "output_type": "execute_result",
          "data": {
            "text/plain": [
              "0.3"
            ]
          },
          "metadata": {},
          "execution_count": 4
        }
      ]
    },
    {
      "cell_type": "markdown",
      "source": [
        "位置引数は実引数を短く書くことができるが、呼び出し元の関数の仮引数の順番を覚えておく必要がある。"
      ],
      "metadata": {
        "id": "ZlJDtkstMig-"
      }
    },
    {
      "cell_type": "code",
      "source": [
        "div(3)"
      ],
      "metadata": {
        "colab": {
          "base_uri": "https://localhost:8080/",
          "height": 141
        },
        "id": "0Ri2RYtlNDwC",
        "outputId": "1338bc24-ad2c-4908-852f-86accf5818a0"
      },
      "execution_count": 5,
      "outputs": [
        {
          "output_type": "error",
          "ename": "TypeError",
          "evalue": "div() missing 1 required positional argument: 'b'",
          "traceback": [
            "\u001b[0;31m---------------------------------------------------------------------------\u001b[0m",
            "\u001b[0;31mTypeError\u001b[0m                                 Traceback (most recent call last)",
            "\u001b[0;32m<ipython-input-5-0e1333538141>\u001b[0m in \u001b[0;36m<cell line: 1>\u001b[0;34m()\u001b[0m\n\u001b[0;32m----> 1\u001b[0;31m \u001b[0mdiv\u001b[0m\u001b[0;34m(\u001b[0m\u001b[0;36m3\u001b[0m\u001b[0;34m)\u001b[0m\u001b[0;34m\u001b[0m\u001b[0;34m\u001b[0m\u001b[0m\n\u001b[0m",
            "\u001b[0;31mTypeError\u001b[0m: div() missing 1 required positional argument: 'b'"
          ]
        }
      ]
    },
    {
      "cell_type": "code",
      "source": [
        "div(2, 3, 4)"
      ],
      "metadata": {
        "colab": {
          "base_uri": "https://localhost:8080/",
          "height": 141
        },
        "id": "aLahdxVUNFep",
        "outputId": "fcb9cc3d-cf7b-4e1e-e37c-acf4d61393fe"
      },
      "execution_count": 6,
      "outputs": [
        {
          "output_type": "error",
          "ename": "TypeError",
          "evalue": "div() takes 2 positional arguments but 3 were given",
          "traceback": [
            "\u001b[0;31m---------------------------------------------------------------------------\u001b[0m",
            "\u001b[0;31mTypeError\u001b[0m                                 Traceback (most recent call last)",
            "\u001b[0;32m<ipython-input-6-a0e110ca5c20>\u001b[0m in \u001b[0;36m<cell line: 1>\u001b[0;34m()\u001b[0m\n\u001b[0;32m----> 1\u001b[0;31m \u001b[0mdiv\u001b[0m\u001b[0;34m(\u001b[0m\u001b[0;36m2\u001b[0m\u001b[0;34m,\u001b[0m \u001b[0;36m3\u001b[0m\u001b[0;34m,\u001b[0m \u001b[0;36m4\u001b[0m\u001b[0;34m)\u001b[0m\u001b[0;34m\u001b[0m\u001b[0;34m\u001b[0m\u001b[0m\n\u001b[0m",
            "\u001b[0;31mTypeError\u001b[0m: div() takes 2 positional arguments but 3 were given"
          ]
        }
      ]
    },
    {
      "cell_type": "code",
      "source": [
        "仮引数名を指定して渡す実引数"
      ],
      "metadata": {
        "id": "M-XecVuPPrGM"
      },
      "execution_count": null,
      "outputs": []
    },
    {
      "cell_type": "markdown",
      "source": [
        "# キーワード引数"
      ],
      "metadata": {
        "id": "16JUzQX2Mv10"
      }
    },
    {
      "cell_type": "markdown",
      "source": [],
      "metadata": {
        "id": "-8N0TlVKPmjr"
      }
    },
    {
      "cell_type": "code",
      "source": [
        "def div(a, b):\n",
        "  return a / b"
      ],
      "metadata": {
        "id": "aaMV8UF9Mt7t"
      },
      "execution_count": 3,
      "outputs": []
    },
    {
      "cell_type": "code",
      "source": [
        "div(a = 10, b = 3)"
      ],
      "metadata": {
        "colab": {
          "base_uri": "https://localhost:8080/"
        },
        "id": "O_OovjgHSQJb",
        "outputId": "c1e0ef24-a4eb-4343-ebc7-674df0326e25"
      },
      "execution_count": 5,
      "outputs": [
        {
          "output_type": "execute_result",
          "data": {
            "text/plain": [
              "3.3333333333333335"
            ]
          },
          "metadata": {},
          "execution_count": 5
        }
      ]
    },
    {
      "cell_type": "code",
      "source": [
        "div(b = 3, a = 10)"
      ],
      "metadata": {
        "colab": {
          "base_uri": "https://localhost:8080/"
        },
        "id": "nLoSXGk3SU79",
        "outputId": "3db0f7ea-5c4a-480d-af09-c351b7e59f54"
      },
      "execution_count": 6,
      "outputs": [
        {
          "output_type": "execute_result",
          "data": {
            "text/plain": [
              "3.3333333333333335"
            ]
          },
          "metadata": {},
          "execution_count": 6
        }
      ]
    },
    {
      "cell_type": "code",
      "source": [
        "div(a = 2, b = 3, c = 4)"
      ],
      "metadata": {
        "colab": {
          "base_uri": "https://localhost:8080/",
          "height": 141
        },
        "id": "RLMYoaq5S7AH",
        "outputId": "efc178ca-a5d0-4000-ab6a-0595c2d8a8a8"
      },
      "execution_count": 7,
      "outputs": [
        {
          "output_type": "error",
          "ename": "TypeError",
          "evalue": "div() got an unexpected keyword argument 'c'",
          "traceback": [
            "\u001b[0;31m---------------------------------------------------------------------------\u001b[0m",
            "\u001b[0;31mTypeError\u001b[0m                                 Traceback (most recent call last)",
            "\u001b[0;32m<ipython-input-7-76605d97c6a5>\u001b[0m in \u001b[0;36m<cell line: 1>\u001b[0;34m()\u001b[0m\n\u001b[0;32m----> 1\u001b[0;31m \u001b[0mdiv\u001b[0m\u001b[0;34m(\u001b[0m\u001b[0ma\u001b[0m \u001b[0;34m=\u001b[0m \u001b[0;36m2\u001b[0m\u001b[0;34m,\u001b[0m \u001b[0mb\u001b[0m \u001b[0;34m=\u001b[0m \u001b[0;36m3\u001b[0m\u001b[0;34m,\u001b[0m \u001b[0mc\u001b[0m \u001b[0;34m=\u001b[0m \u001b[0;36m4\u001b[0m\u001b[0;34m)\u001b[0m\u001b[0;34m\u001b[0m\u001b[0;34m\u001b[0m\u001b[0m\n\u001b[0m",
            "\u001b[0;31mTypeError\u001b[0m: div() got an unexpected keyword argument 'c'"
          ]
        }
      ]
    },
    {
      "cell_type": "markdown",
      "source": [
        "キーワード引数は常に位置引数の後ろに書かなくてはいけない。"
      ],
      "metadata": {
        "id": "dnVyZKV1TM59"
      }
    },
    {
      "cell_type": "code",
      "source": [
        "div(10, b = 3)"
      ],
      "metadata": {
        "colab": {
          "base_uri": "https://localhost:8080/"
        },
        "id": "zt5aDC8sTTNP",
        "outputId": "0cbb0cb9-850e-41ff-ea29-9a0e86303692"
      },
      "execution_count": 8,
      "outputs": [
        {
          "output_type": "execute_result",
          "data": {
            "text/plain": [
              "3.3333333333333335"
            ]
          },
          "metadata": {},
          "execution_count": 8
        }
      ]
    },
    {
      "cell_type": "code",
      "source": [
        "div(3, a = 10)"
      ],
      "metadata": {
        "colab": {
          "base_uri": "https://localhost:8080/",
          "height": 141
        },
        "id": "DE6wWVkxr29e",
        "outputId": "eef46e42-35ff-49e9-f8b5-11e5b2ea965d"
      },
      "execution_count": 4,
      "outputs": [
        {
          "output_type": "error",
          "ename": "TypeError",
          "evalue": "div() got multiple values for argument 'a'",
          "traceback": [
            "\u001b[0;31m---------------------------------------------------------------------------\u001b[0m",
            "\u001b[0;31mTypeError\u001b[0m                                 Traceback (most recent call last)",
            "\u001b[0;32m<ipython-input-4-14e3d23ea05c>\u001b[0m in \u001b[0;36m<cell line: 1>\u001b[0;34m()\u001b[0m\n\u001b[0;32m----> 1\u001b[0;31m \u001b[0mdiv\u001b[0m\u001b[0;34m(\u001b[0m\u001b[0;36m3\u001b[0m\u001b[0;34m,\u001b[0m \u001b[0ma\u001b[0m \u001b[0;34m=\u001b[0m \u001b[0;36m10\u001b[0m\u001b[0;34m)\u001b[0m\u001b[0;34m\u001b[0m\u001b[0;34m\u001b[0m\u001b[0m\n\u001b[0m",
            "\u001b[0;31mTypeError\u001b[0m: div() got multiple values for argument 'a'"
          ]
        }
      ]
    },
    {
      "cell_type": "markdown",
      "source": [
        "デフォルト引数は全ての仮引数のいちばん後ろにかく"
      ],
      "metadata": {
        "id": "RHl5t6YWvMjw"
      }
    },
    {
      "cell_type": "code",
      "source": [
        "def div(a, b = 10):\n",
        "  return a / b"
      ],
      "metadata": {
        "id": "9jzvTQYtvR0W"
      },
      "execution_count": 6,
      "outputs": []
    },
    {
      "cell_type": "code",
      "source": [
        "def div(a = 10, b):\n",
        "  return a / b"
      ],
      "metadata": {
        "colab": {
          "base_uri": "https://localhost:8080/",
          "height": 106
        },
        "id": "BShiSn_cvgiq",
        "outputId": "1fe82477-07e1-4f5a-8d04-ba4e5e23de7c"
      },
      "execution_count": 7,
      "outputs": [
        {
          "output_type": "error",
          "ename": "SyntaxError",
          "evalue": "non-default argument follows default argument (<ipython-input-7-be05cce0558d>, line 1)",
          "traceback": [
            "\u001b[0;36m  File \u001b[0;32m\"<ipython-input-7-be05cce0558d>\"\u001b[0;36m, line \u001b[0;32m1\u001b[0m\n\u001b[0;31m    def div(a = 10, b):\u001b[0m\n\u001b[0m                    ^\u001b[0m\n\u001b[0;31mSyntaxError\u001b[0m\u001b[0;31m:\u001b[0m non-default argument follows default argument\n"
          ]
        }
      ]
    }
  ]
}