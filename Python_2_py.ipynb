{
  "nbformat": 4,
  "nbformat_minor": 0,
  "metadata": {
    "colab": {
      "provenance": [],
      "authorship_tag": "ABX9TyN8XFj6btiiaC5ISUDn2xeH",
      "include_colab_link": true
    },
    "kernelspec": {
      "name": "python3",
      "display_name": "Python 3"
    },
    "language_info": {
      "name": "python"
    }
  },
  "cells": [
    {
      "cell_type": "markdown",
      "metadata": {
        "id": "view-in-github",
        "colab_type": "text"
      },
      "source": [
        "<a href=\"https://colab.research.google.com/github/jasmine-tokudome/python-practice/blob/main/Python_2_py.ipynb\" target=\"_parent\"><img src=\"https://colab.research.google.com/assets/colab-badge.svg\" alt=\"Open In Colab\"/></a>"
      ]
    },
    {
      "cell_type": "code",
      "execution_count": null,
      "metadata": {
        "id": "PHfu7dbmgtS4"
      },
      "outputs": [],
      "source": []
    },
    {
      "cell_type": "markdown",
      "source": [
        "四則演算の基礎"
      ],
      "metadata": {
        "id": "vU9I1yAZg0CH"
      }
    },
    {
      "cell_type": "code",
      "source": [
        "1 + 1"
      ],
      "metadata": {
        "colab": {
          "base_uri": "https://localhost:8080/"
        },
        "id": "fqXvoFv2g3Hy",
        "outputId": "0d563e2b-c739-4d1b-af7d-7da78a9959b3"
      },
      "execution_count": 1,
      "outputs": [
        {
          "output_type": "execute_result",
          "data": {
            "text/plain": [
              "2"
            ]
          },
          "metadata": {},
          "execution_count": 1
        }
      ]
    },
    {
      "cell_type": "code",
      "source": [
        "2 + 3 + 4 + 5"
      ],
      "metadata": {
        "colab": {
          "base_uri": "https://localhost:8080/"
        },
        "id": "ihRkvsd7hIyi",
        "outputId": "d742f877-578a-4e97-88d7-4199e44e2151"
      },
      "execution_count": 2,
      "outputs": [
        {
          "output_type": "execute_result",
          "data": {
            "text/plain": [
              "14"
            ]
          },
          "metadata": {},
          "execution_count": 2
        }
      ]
    },
    {
      "cell_type": "code",
      "source": [
        "7 - 2"
      ],
      "metadata": {
        "colab": {
          "base_uri": "https://localhost:8080/"
        },
        "id": "eSMcR-THhQMj",
        "outputId": "3d7ff8bd-6925-414d-97d8-bbb037cc9edf"
      },
      "execution_count": 4,
      "outputs": [
        {
          "output_type": "execute_result",
          "data": {
            "text/plain": [
              "5"
            ]
          },
          "metadata": {},
          "execution_count": 4
        }
      ]
    },
    {
      "cell_type": "code",
      "source": [
        "7 * 6"
      ],
      "metadata": {
        "colab": {
          "base_uri": "https://localhost:8080/"
        },
        "id": "LKYwJhq-hUhI",
        "outputId": "667045b1-f514-47ef-a5b6-e42dee71e171"
      },
      "execution_count": 5,
      "outputs": [
        {
          "output_type": "execute_result",
          "data": {
            "text/plain": [
              "42"
            ]
          },
          "metadata": {},
          "execution_count": 5
        }
      ]
    },
    {
      "cell_type": "code",
      "source": [
        "6 * 7"
      ],
      "metadata": {
        "colab": {
          "base_uri": "https://localhost:8080/"
        },
        "id": "4CeGgsyShX4c",
        "outputId": "5ae2c82c-2efd-4794-dee0-65bef7e4b243"
      },
      "execution_count": 6,
      "outputs": [
        {
          "output_type": "execute_result",
          "data": {
            "text/plain": [
              "42"
            ]
          },
          "metadata": {},
          "execution_count": 6
        }
      ]
    },
    {
      "cell_type": "code",
      "source": [
        "6*7"
      ],
      "metadata": {
        "colab": {
          "base_uri": "https://localhost:8080/"
        },
        "id": "LcoVWuo1harJ",
        "outputId": "d0252445-4a04-415a-ce89-3f7e75ee2465"
      },
      "execution_count": 7,
      "outputs": [
        {
          "output_type": "execute_result",
          "data": {
            "text/plain": [
              "42"
            ]
          },
          "metadata": {},
          "execution_count": 7
        }
      ]
    },
    {
      "cell_type": "code",
      "source": [
        "9 / 5"
      ],
      "metadata": {
        "colab": {
          "base_uri": "https://localhost:8080/"
        },
        "id": "8PMmPNJxhdiO",
        "outputId": "72e41b6b-6aad-4114-b358-b2a21d3e525c"
      },
      "execution_count": 8,
      "outputs": [
        {
          "output_type": "execute_result",
          "data": {
            "text/plain": [
              "1.8"
            ]
          },
          "metadata": {},
          "execution_count": 8
        }
      ]
    },
    {
      "cell_type": "code",
      "source": [],
      "metadata": {
        "id": "nzp_g-AMhmSn"
      },
      "execution_count": null,
      "outputs": []
    },
    {
      "cell_type": "markdown",
      "source": [
        "浮動小数点数\n",
        "数値を桁並びを表す仮数部と小数点の位置を表す指数部に分割して表現する方式。"
      ],
      "metadata": {
        "id": "LqghCuhUhteh"
      }
    },
    {
      "cell_type": "code",
      "source": [
        "9 // 5"
      ],
      "metadata": {
        "colab": {
          "base_uri": "https://localhost:8080/"
        },
        "id": "ymeLRdfzh9EM",
        "outputId": "f5a7ba5c-8d40-4b15-9289-7ced1f080773"
      },
      "execution_count": 9,
      "outputs": [
        {
          "output_type": "execute_result",
          "data": {
            "text/plain": [
              "1"
            ]
          },
          "metadata": {},
          "execution_count": 9
        }
      ]
    },
    {
      "cell_type": "markdown",
      "source": [
        "// とすると小数点以下が無視され、整数部のみかえる。"
      ],
      "metadata": {
        "id": "SoG7AqRRiDyc"
      }
    },
    {
      "cell_type": "code",
      "source": [
        "9 % 5"
      ],
      "metadata": {
        "colab": {
          "base_uri": "https://localhost:8080/"
        },
        "id": "dg8yKDPbiOI9",
        "outputId": "8a9e9897-11f8-4100-ec27-44fc98eb0002"
      },
      "execution_count": 10,
      "outputs": [
        {
          "output_type": "execute_result",
          "data": {
            "text/plain": [
              "4"
            ]
          },
          "metadata": {},
          "execution_count": 10
        }
      ]
    },
    {
      "cell_type": "code",
      "source": [],
      "metadata": {
        "id": "TF3P4YOEiXgd"
      },
      "execution_count": null,
      "outputs": []
    },
    {
      "cell_type": "markdown",
      "source": [
        "%　は余りを返す。倍数かそうじゃないかの分岐をさせたいときなどに便利。"
      ],
      "metadata": {
        "id": "HPmuOzYriX3Y"
      }
    },
    {
      "cell_type": "code",
      "source": [
        "2 ** 3"
      ],
      "metadata": {
        "colab": {
          "base_uri": "https://localhost:8080/"
        },
        "id": "ZdHBKSpAikYr",
        "outputId": "fe5a081d-3f86-4192-803d-e78f9adc0c75"
      },
      "execution_count": 11,
      "outputs": [
        {
          "output_type": "execute_result",
          "data": {
            "text/plain": [
              "8"
            ]
          },
          "metadata": {},
          "execution_count": 11
        }
      ]
    },
    {
      "cell_type": "code",
      "source": [
        "10 ** 100"
      ],
      "metadata": {
        "colab": {
          "base_uri": "https://localhost:8080/"
        },
        "id": "pGfQs2F7ioOU",
        "outputId": "96281e3e-4868-4b8b-d79d-92f5b2e434fa"
      },
      "execution_count": 12,
      "outputs": [
        {
          "output_type": "execute_result",
          "data": {
            "text/plain": [
              "10000000000000000000000000000000000000000000000000000000000000000000000000000000000000000000000000000"
            ]
          },
          "metadata": {},
          "execution_count": 12
        }
      ]
    },
    {
      "cell_type": "markdown",
      "source": [
        "整数オーバーフロー：整数として保持できる最大の値を超えること。他の言語と異なり、PythonはPCのリソースが許す限りどんな大きな数でも扱える。"
      ],
      "metadata": {
        "id": "PRUOKaAaisV1"
      }
    },
    {
      "cell_type": "markdown",
      "source": [
        "計算の優先順位"
      ],
      "metadata": {
        "id": "CyKzjerwjAXY"
      }
    },
    {
      "cell_type": "code",
      "source": [
        "3.75 * 4 - 1"
      ],
      "metadata": {
        "colab": {
          "base_uri": "https://localhost:8080/"
        },
        "id": "Xb6erK-NjCy3",
        "outputId": "4ac81861-0f5e-408c-d05d-614cce5b1c5f"
      },
      "execution_count": 13,
      "outputs": [
        {
          "output_type": "execute_result",
          "data": {
            "text/plain": [
              "14.0"
            ]
          },
          "metadata": {},
          "execution_count": 13
        }
      ]
    },
    {
      "cell_type": "markdown",
      "source": [
        "オペラントの中に浮動小数点と整数が含まれる場合、浮動小数点が優先される。"
      ],
      "metadata": {
        "id": "iNCababJjHrF"
      }
    },
    {
      "cell_type": "code",
      "source": [
        "2 + 3 * 5"
      ],
      "metadata": {
        "colab": {
          "base_uri": "https://localhost:8080/"
        },
        "id": "3Jw72PuHkFTO",
        "outputId": "f8f60613-50a1-4066-d816-60599d1e6382"
      },
      "execution_count": 14,
      "outputs": [
        {
          "output_type": "execute_result",
          "data": {
            "text/plain": [
              "17"
            ]
          },
          "metadata": {},
          "execution_count": 14
        }
      ]
    },
    {
      "cell_type": "markdown",
      "source": [
        "掛け算が足し算より優先される"
      ],
      "metadata": {
        "id": "2pwFxMEykJHg"
      }
    },
    {
      "cell_type": "code",
      "source": [
        "(2 + 3) * 5"
      ],
      "metadata": {
        "colab": {
          "base_uri": "https://localhost:8080/"
        },
        "id": "DRk7LAuNkNaQ",
        "outputId": "849c4e44-343c-4643-f8ac-ebc80c282e63"
      },
      "execution_count": 16,
      "outputs": [
        {
          "output_type": "execute_result",
          "data": {
            "text/plain": [
              "25"
            ]
          },
          "metadata": {},
          "execution_count": 16
        }
      ]
    },
    {
      "cell_type": "markdown",
      "source": [
        "2 + (3 * 5)のように、可読性をあげるために()をつけるのも良い。"
      ],
      "metadata": {
        "id": "MVe7GucqkZag"
      }
    },
    {
      "cell_type": "markdown",
      "source": [
        "複素数"
      ],
      "metadata": {
        "id": "NHG7Y-yBknv_"
      }
    },
    {
      "cell_type": "code",
      "source": [
        "1 + 2j"
      ],
      "metadata": {
        "colab": {
          "base_uri": "https://localhost:8080/"
        },
        "id": "UyyZ-FtPk3Vb",
        "outputId": "68e6e0d7-3c6e-4f9a-cc9c-a7a876cd9944"
      },
      "execution_count": 17,
      "outputs": [
        {
          "output_type": "execute_result",
          "data": {
            "text/plain": [
              "(1+2j)"
            ]
          },
          "metadata": {},
          "execution_count": 17
        }
      ]
    },
    {
      "cell_type": "code",
      "source": [],
      "metadata": {
        "id": "hz0xLm-XibuO"
      },
      "execution_count": null,
      "outputs": []
    },
    {
      "cell_type": "markdown",
      "source": [
        "虚部はjで示す"
      ],
      "metadata": {
        "id": "ozqJVLpHk8Rj"
      }
    },
    {
      "cell_type": "code",
      "source": [
        "(1 + 2j) + (2 + 3j)"
      ],
      "metadata": {
        "colab": {
          "base_uri": "https://localhost:8080/"
        },
        "id": "pjLviS7ck--w",
        "outputId": "4d5c21a0-8778-4e49-cbda-28a063d360ac"
      },
      "execution_count": 18,
      "outputs": [
        {
          "output_type": "execute_result",
          "data": {
            "text/plain": [
              "(3+5j)"
            ]
          },
          "metadata": {},
          "execution_count": 18
        }
      ]
    },
    {
      "cell_type": "markdown",
      "source": [
        "行列"
      ],
      "metadata": {
        "id": "GEIjjNcylGMg"
      }
    },
    {
      "cell_type": "code",
      "source": [
        "import numpy as np"
      ],
      "metadata": {
        "id": "DEPFAxrZlId2"
      },
      "execution_count": 19,
      "outputs": []
    },
    {
      "cell_type": "code",
      "source": [
        "np.array([[1,2,3],[4,5,6],[7,8,9]])"
      ],
      "metadata": {
        "colab": {
          "base_uri": "https://localhost:8080/"
        },
        "id": "BPm1DL_JlRiC",
        "outputId": "421aaa6c-8c6a-482b-c844-33089421e0de"
      },
      "execution_count": 20,
      "outputs": [
        {
          "output_type": "execute_result",
          "data": {
            "text/plain": [
              "array([[1, 2, 3],\n",
              "       [4, 5, 6],\n",
              "       [7, 8, 9]])"
            ]
          },
          "metadata": {},
          "execution_count": 20
        }
      ]
    },
    {
      "cell_type": "markdown",
      "source": [
        "numpy　ナムパイ"
      ],
      "metadata": {
        "id": "gmmkQPwfleUy"
      }
    },
    {
      "cell_type": "code",
      "source": [
        "a = np.array([[1,2],[3,4]])\n",
        "b = np.array([[2,3],[4,5]])"
      ],
      "metadata": {
        "id": "ICRkglG9llya"
      },
      "execution_count": 21,
      "outputs": []
    },
    {
      "cell_type": "code",
      "source": [
        "a + b"
      ],
      "metadata": {
        "colab": {
          "base_uri": "https://localhost:8080/"
        },
        "id": "qi06ZhTDl455",
        "outputId": "ff27cf27-569a-4371-8fc5-21c5c1bf2d79"
      },
      "execution_count": 22,
      "outputs": [
        {
          "output_type": "execute_result",
          "data": {
            "text/plain": [
              "array([[3, 5],\n",
              "       [7, 9]])"
            ]
          },
          "metadata": {},
          "execution_count": 22
        }
      ]
    },
    {
      "cell_type": "code",
      "source": [
        "c = np.dot(a,b)\n",
        "c"
      ],
      "metadata": {
        "colab": {
          "base_uri": "https://localhost:8080/"
        },
        "id": "a07ayqQ7mA08",
        "outputId": "837ddb8e-4ec4-4df9-d383-c29e6080d8a9"
      },
      "execution_count": 23,
      "outputs": [
        {
          "output_type": "execute_result",
          "data": {
            "text/plain": [
              "array([[10, 13],\n",
              "       [22, 29]])"
            ]
          },
          "metadata": {},
          "execution_count": 23
        }
      ]
    }
  ]
}