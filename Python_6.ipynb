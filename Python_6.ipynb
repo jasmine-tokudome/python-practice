{
  "nbformat": 4,
  "nbformat_minor": 0,
  "metadata": {
    "colab": {
      "provenance": [],
      "authorship_tag": "ABX9TyN9vKEAa520+I2Qvg70FqT9",
      "include_colab_link": true
    },
    "kernelspec": {
      "name": "python3",
      "display_name": "Python 3"
    },
    "language_info": {
      "name": "python"
    }
  },
  "cells": [
    {
      "cell_type": "markdown",
      "metadata": {
        "id": "view-in-github",
        "colab_type": "text"
      },
      "source": [
        "<a href=\"https://colab.research.google.com/github/jasmine-tokudome/python-practice/blob/main/Python_6.ipynb\" target=\"_parent\"><img src=\"https://colab.research.google.com/assets/colab-badge.svg\" alt=\"Open In Colab\"/></a>"
      ]
    },
    {
      "cell_type": "code",
      "execution_count": null,
      "metadata": {
        "id": "0vzX1aU96R-K"
      },
      "outputs": [],
      "source": []
    },
    {
      "cell_type": "markdown",
      "source": [
        "# 文字列操作 #3"
      ],
      "metadata": {
        "id": "ri38rVLU6VU1"
      }
    },
    {
      "cell_type": "code",
      "source": [
        "letters = \"abcdefghijklmnopqrstuvwxyz\""
      ],
      "metadata": {
        "id": "Cok9CDZG6YP3"
      },
      "execution_count": null,
      "outputs": []
    },
    {
      "cell_type": "code",
      "source": [
        "text = \"Hello. My name is Jasmine. I am a Engineer\""
      ],
      "metadata": {
        "id": "j0RBAjz06gE9"
      },
      "execution_count": null,
      "outputs": []
    },
    {
      "cell_type": "code",
      "source": [
        "len(letters)"
      ],
      "metadata": {
        "colab": {
          "base_uri": "https://localhost:8080/"
        },
        "id": "fQNjrKan618K",
        "outputId": "aba822ad-ff9e-46aa-b25b-0c667c075a6c"
      },
      "execution_count": null,
      "outputs": [
        {
          "output_type": "execute_result",
          "data": {
            "text/plain": [
              "26"
            ]
          },
          "metadata": {},
          "execution_count": 3
        }
      ]
    },
    {
      "cell_type": "code",
      "source": [
        "empty = \"\"\n",
        "len(empty)"
      ],
      "metadata": {
        "colab": {
          "base_uri": "https://localhost:8080/"
        },
        "id": "lvr2TXjW69XP",
        "outputId": "82b5e971-954c-46b9-a3c0-18457351b318"
      },
      "execution_count": null,
      "outputs": [
        {
          "output_type": "execute_result",
          "data": {
            "text/plain": [
              "0"
            ]
          },
          "metadata": {},
          "execution_count": 4
        }
      ]
    },
    {
      "cell_type": "code",
      "source": [
        "text.split(\".\")"
      ],
      "metadata": {
        "colab": {
          "base_uri": "https://localhost:8080/"
        },
        "id": "nzIWzLa37RAx",
        "outputId": "c1d6c65c-30b3-421c-dae9-d9534a25f327"
      },
      "execution_count": null,
      "outputs": [
        {
          "output_type": "execute_result",
          "data": {
            "text/plain": [
              "['Hello', ' My name is Jasmine', ' I am a Engineer']"
            ]
          },
          "metadata": {},
          "execution_count": 5
        }
      ]
    },
    {
      "cell_type": "code",
      "source": [
        "div_list = [\"I\", \"am\", \"Jasmine\"]\n",
        "all_list = \" \".join(div_list)\n",
        "all_list"
      ],
      "metadata": {
        "colab": {
          "base_uri": "https://localhost:8080/",
          "height": 35
        },
        "id": "050IkSC77gDD",
        "outputId": "2f6a0690-0949-4364-f675-fc2a5bd39562"
      },
      "execution_count": null,
      "outputs": [
        {
          "output_type": "execute_result",
          "data": {
            "text/plain": [
              "'I am Jasmine'"
            ],
            "application/vnd.google.colaboratory.intrinsic+json": {
              "type": "string"
            }
          },
          "metadata": {},
          "execution_count": 6
        }
      ]
    },
    {
      "cell_type": "code",
      "source": [
        "name = \"Besshy\""
      ],
      "metadata": {
        "id": "EV3Yov7E8Eop"
      },
      "execution_count": null,
      "outputs": []
    },
    {
      "cell_type": "code",
      "source": [
        "name.replace(\"B\", \"P\")"
      ],
      "metadata": {
        "colab": {
          "base_uri": "https://localhost:8080/",
          "height": 35
        },
        "id": "41zRFIjp8LzZ",
        "outputId": "7e8f34aa-eff8-4da7-e3d9-1066962ef89e"
      },
      "execution_count": null,
      "outputs": [
        {
          "output_type": "execute_result",
          "data": {
            "text/plain": [
              "'Pesshy'"
            ],
            "application/vnd.google.colaboratory.intrinsic+json": {
              "type": "string"
            }
          },
          "metadata": {},
          "execution_count": 11
        }
      ]
    },
    {
      "cell_type": "code",
      "source": [
        "name.replace(\"s\",\"t\", 1)"
      ],
      "metadata": {
        "colab": {
          "base_uri": "https://localhost:8080/",
          "height": 35
        },
        "id": "VoG8ZmBP8be5",
        "outputId": "c6940ab9-74b8-4c44-8e36-de500a3c6686"
      },
      "execution_count": null,
      "outputs": [
        {
          "output_type": "execute_result",
          "data": {
            "text/plain": [
              "'Betshy'"
            ],
            "application/vnd.google.colaboratory.intrinsic+json": {
              "type": "string"
            }
          },
          "metadata": {},
          "execution_count": 12
        }
      ]
    },
    {
      "cell_type": "code",
      "source": [
        "str(23)"
      ],
      "metadata": {
        "colab": {
          "base_uri": "https://localhost:8080/",
          "height": 35
        },
        "id": "gzXYUWRB8og6",
        "outputId": "bf3140c8-498a-43c4-f851-5365006b91e1"
      },
      "execution_count": null,
      "outputs": [
        {
          "output_type": "execute_result",
          "data": {
            "text/plain": [
              "'23'"
            ],
            "application/vnd.google.colaboratory.intrinsic+json": {
              "type": "string"
            }
          },
          "metadata": {},
          "execution_count": 13
        }
      ]
    },
    {
      "cell_type": "code",
      "source": [
        "start = \"I am \"\n",
        "end = \" years old\"\n",
        "age = 24\n",
        "\n",
        "print(start + str(age) + end)"
      ],
      "metadata": {
        "colab": {
          "base_uri": "https://localhost:8080/"
        },
        "id": "UzMc6Gvp8qm3",
        "outputId": "3d8f78f2-8e56-4408-9e3b-2c91ee6508aa"
      },
      "execution_count": null,
      "outputs": [
        {
          "output_type": "stream",
          "name": "stdout",
          "text": [
            "I am 24 years old\n"
          ]
        }
      ]
    },
    {
      "cell_type": "markdown",
      "source": [
        "str()は文字列と数字等を橋渡しする文字列操作関数。"
      ],
      "metadata": {
        "id": "R7niQmSW9K23"
      }
    },
    {
      "cell_type": "markdown",
      "source": [
        "## 演習問題"
      ],
      "metadata": {
        "id": "6OCOWH2wOaEp"
      }
    },
    {
      "cell_type": "code",
      "source": [
        "poem = '''All that doth flow we cannot liquid name\n",
        "Or else would fire and water be the same;\n",
        "But that is liquid which is moist and wet\n",
        "Fire that property can never get.\n",
        "Then 'tis not cold that doth the fire put out\n",
        "But 'tis the wet that makes it die, no doubt.'''"
      ],
      "metadata": {
        "id": "K7GPBVLBOcC9"
      },
      "execution_count": 2,
      "outputs": []
    },
    {
      "cell_type": "code",
      "source": [
        "len(poem)"
      ],
      "metadata": {
        "colab": {
          "base_uri": "https://localhost:8080/"
        },
        "id": "cgTyDB5AOdVR",
        "outputId": "79206ba2-74be-4bf6-ec6a-5e6e4540a234"
      },
      "execution_count": null,
      "outputs": [
        {
          "output_type": "execute_result",
          "data": {
            "text/plain": [
              "250"
            ]
          },
          "metadata": {},
          "execution_count": 3
        }
      ]
    },
    {
      "cell_type": "code",
      "source": [
        "offset = poem.find('the')\n",
        "print(offset)"
      ],
      "metadata": {
        "id": "2EKrPJqDPWRN",
        "colab": {
          "base_uri": "https://localhost:8080/"
        },
        "outputId": "57142c28-b521-4588-b5b2-87c86a88e762"
      },
      "execution_count": 3,
      "outputs": [
        {
          "output_type": "stream",
          "name": "stdout",
          "text": [
            "73\n"
          ]
        }
      ]
    }
  ]
}