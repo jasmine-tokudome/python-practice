{
  "nbformat": 4,
  "nbformat_minor": 0,
  "metadata": {
    "colab": {
      "provenance": [],
      "authorship_tag": "ABX9TyNjOsG9G1MkI4m+D8PLRZKG",
      "include_colab_link": true
    },
    "kernelspec": {
      "name": "python3",
      "display_name": "Python 3"
    },
    "language_info": {
      "name": "python"
    }
  },
  "cells": [
    {
      "cell_type": "markdown",
      "metadata": {
        "id": "view-in-github",
        "colab_type": "text"
      },
      "source": [
        "<a href=\"https://colab.research.google.com/github/jasmine-tokudome/python-practice/blob/main/Python_13.ipynb\" target=\"_parent\"><img src=\"https://colab.research.google.com/assets/colab-badge.svg\" alt=\"Open In Colab\"/></a>"
      ]
    },
    {
      "cell_type": "markdown",
      "source": [
        "# for文"
      ],
      "metadata": {
        "id": "oyXSA1pA2EXD"
      }
    },
    {
      "cell_type": "code",
      "execution_count": null,
      "metadata": {
        "colab": {
          "base_uri": "https://localhost:8080/"
        },
        "id": "vKjvKzav2Apg",
        "outputId": "bcf1ea29-8203-4a20-96a8-fdb6dc39f4c5"
      },
      "outputs": [
        {
          "output_type": "stream",
          "name": "stdout",
          "text": [
            "0\n",
            "1\n",
            "2\n",
            "3\n",
            "4\n"
          ]
        }
      ],
      "source": [
        "for i in range(5):\n",
        "  print(i)"
      ]
    },
    {
      "cell_type": "markdown",
      "source": [
        "for 変数　in　イテラブルなオブジェクト（リスト等）\n",
        "※イテラブルなオブジェクトはイテレータを添字に渡す。\n",
        "\n",
        "イテラブル（iterable）とは、要素を1つずつ返すことができるオブジェクト、つまり「繰り返し可能なオブジェクト」を意味する。\n",
        "Pythonでは、forループで処理できるものすべてがイテラブル。リストやタプル、集合、辞書、文字列などがイテラブルに該当する。"
      ],
      "metadata": {
        "id": "y-o6BEi52jU3"
      }
    },
    {
      "cell_type": "code",
      "source": [
        "for i in [0,1,2,3]:\n",
        "  print(i)"
      ],
      "metadata": {
        "colab": {
          "base_uri": "https://localhost:8080/"
        },
        "id": "SdjkqnfI3E_A",
        "outputId": "371c7f25-786f-4e6a-f59d-e7c2a7ec9197"
      },
      "execution_count": 3,
      "outputs": [
        {
          "output_type": "stream",
          "name": "stdout",
          "text": [
            "0\n",
            "1\n",
            "2\n",
            "3\n"
          ]
        }
      ]
    },
    {
      "cell_type": "code",
      "source": [
        "for i in [0,1,2,3]:\n",
        "  print(i)\n",
        "else:\n",
        "  print(\"END\")"
      ],
      "metadata": {
        "colab": {
          "base_uri": "https://localhost:8080/"
        },
        "id": "TjOlsabg3QAA",
        "outputId": "8395c553-bd07-4294-e17c-38d740f459f9"
      },
      "execution_count": null,
      "outputs": [
        {
          "output_type": "stream",
          "name": "stdout",
          "text": [
            "0\n",
            "1\n",
            "2\n",
            "3\n",
            "END\n"
          ]
        }
      ]
    },
    {
      "cell_type": "markdown",
      "source": [
        "# 二重ループと補足"
      ],
      "metadata": {
        "id": "ZOrfAiV2WiCi"
      }
    },
    {
      "cell_type": "code",
      "source": [
        "for i in range(3):\n",
        "  for j in range(2):\n",
        "    print(i,j)"
      ],
      "metadata": {
        "colab": {
          "base_uri": "https://localhost:8080/"
        },
        "id": "fMy7x_p8WhQG",
        "outputId": "01745500-8d70-4335-9b29-de35128226f6"
      },
      "execution_count": null,
      "outputs": [
        {
          "output_type": "stream",
          "name": "stdout",
          "text": [
            "0 0\n",
            "0 1\n",
            "1 0\n",
            "1 1\n",
            "2 0\n",
            "2 1\n"
          ]
        }
      ]
    },
    {
      "cell_type": "markdown",
      "source": [
        "二重ループは若干処理が重くなるのであまり好まれない。他に有効な処理があればそちらを選択するのがベター。"
      ],
      "metadata": {
        "id": "NsL3MEPOXBAG"
      }
    },
    {
      "cell_type": "markdown",
      "source": [
        "Pythonのfor文はスコープを作らない。"
      ],
      "metadata": {
        "id": "N1fKKAshXM3t"
      }
    },
    {
      "cell_type": "code",
      "source": [
        "k = 0\n",
        "for k in range(3):\n",
        "  print(k)\n",
        "k"
      ],
      "metadata": {
        "colab": {
          "base_uri": "https://localhost:8080/"
        },
        "id": "YEiUOxf9XKxv",
        "outputId": "a2d41965-8abe-4b11-ce71-7fef047773c6"
      },
      "execution_count": null,
      "outputs": [
        {
          "output_type": "stream",
          "name": "stdout",
          "text": [
            "0\n",
            "1\n",
            "2\n"
          ]
        },
        {
          "output_type": "execute_result",
          "data": {
            "text/plain": [
              "2"
            ]
          },
          "metadata": {},
          "execution_count": 3
        }
      ]
    },
    {
      "cell_type": "markdown",
      "source": [
        "# 演習問題"
      ],
      "metadata": {
        "id": "djnDOffeDFHn"
      }
    },
    {
      "cell_type": "code",
      "source": [
        "word = 'cat'\n",
        "for letter in word:\n",
        "    print(letter)"
      ],
      "metadata": {
        "id": "J3EQDhnVDGxB",
        "colab": {
          "base_uri": "https://localhost:8080/"
        },
        "outputId": "a9c2ca1e-b230-439a-e804-861a3c5843e3"
      },
      "execution_count": 1,
      "outputs": [
        {
          "output_type": "stream",
          "name": "stdout",
          "text": [
            "c\n",
            "a\n",
            "t\n"
          ]
        }
      ]
    },
    {
      "cell_type": "code",
      "source": [
        "color = {\"red\": 1, \"blue\": 2, \"yellow\": 3}\n",
        "for key, value in color.items():\n",
        "    print(key, value)"
      ],
      "metadata": {
        "colab": {
          "base_uri": "https://localhost:8080/"
        },
        "id": "ysIjVuAREQY8",
        "outputId": "dab257f9-4e2b-4fcc-edf7-55e5f3e741b8"
      },
      "execution_count": 5,
      "outputs": [
        {
          "output_type": "stream",
          "name": "stdout",
          "text": [
            "red 1\n",
            "blue 2\n",
            "yellow 3\n"
          ]
        }
      ]
    }
  ]
}