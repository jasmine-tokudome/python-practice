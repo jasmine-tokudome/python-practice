{
  "nbformat": 4,
  "nbformat_minor": 0,
  "metadata": {
    "colab": {
      "provenance": [],
      "authorship_tag": "ABX9TyO+FJJDQKzdU1ieO2mUV7uv",
      "include_colab_link": true
    },
    "kernelspec": {
      "name": "python3",
      "display_name": "Python 3"
    },
    "language_info": {
      "name": "python"
    }
  },
  "cells": [
    {
      "cell_type": "markdown",
      "metadata": {
        "id": "view-in-github",
        "colab_type": "text"
      },
      "source": [
        "<a href=\"https://colab.research.google.com/github/jasmine-tokudome/python-practice/blob/main/Python_15.ipynb\" target=\"_parent\"><img src=\"https://colab.research.google.com/assets/colab-badge.svg\" alt=\"Open In Colab\"/></a>"
      ]
    },
    {
      "cell_type": "markdown",
      "source": [
        "break文"
      ],
      "metadata": {
        "id": "pKvlQHlpyMCt"
      }
    },
    {
      "cell_type": "code",
      "execution_count": 1,
      "metadata": {
        "colab": {
          "base_uri": "https://localhost:8080/"
        },
        "id": "rZUKCY0myHJu",
        "outputId": "d8a07121-981b-4260-aacf-389fbe917352"
      },
      "outputs": [
        {
          "output_type": "stream",
          "name": "stdout",
          "text": [
            "0\n",
            "1\n",
            "2\n",
            "3\n",
            "4\n"
          ]
        }
      ],
      "source": [
        "count = 0\n",
        "while True:\n",
        "  print(count)\n",
        "  count += 1\n",
        "  if count == 5:\n",
        "    break"
      ]
    },
    {
      "cell_type": "markdown",
      "source": [
        "breakは繰り返し処理を強制的に抜け出せる"
      ],
      "metadata": {
        "id": "qLS3-WYry7dr"
      }
    },
    {
      "cell_type": "code",
      "source": [
        "for i in range(5) :\n",
        "  print(i)"
      ],
      "metadata": {
        "colab": {
          "base_uri": "https://localhost:8080/"
        },
        "id": "xSTkGDZDy_1c",
        "outputId": "e70a285e-e603-40ce-bb9b-d9d63008febe"
      },
      "execution_count": 2,
      "outputs": [
        {
          "output_type": "stream",
          "name": "stdout",
          "text": [
            "0\n",
            "1\n",
            "2\n",
            "3\n",
            "4\n"
          ]
        }
      ]
    },
    {
      "cell_type": "code",
      "source": [
        "nums = [2,4,6,8]\n",
        "for j in nums:\n",
        "  if j % 2 == 1:\n",
        "    break\n",
        "  else:\n",
        "    print(\"奇数の値を含めてください\")"
      ],
      "metadata": {
        "colab": {
          "base_uri": "https://localhost:8080/"
        },
        "id": "Bjj1KBkhzPme",
        "outputId": "c60106c2-628a-4ab9-a0f5-c587d341014e"
      },
      "execution_count": 3,
      "outputs": [
        {
          "output_type": "stream",
          "name": "stdout",
          "text": [
            "奇数の値を含めてください\n",
            "奇数の値を含めてください\n",
            "奇数の値を含めてください\n",
            "奇数の値を含めてください\n"
          ]
        }
      ]
    },
    {
      "cell_type": "markdown",
      "source": [
        "continue文"
      ],
      "metadata": {
        "id": "waf5B_sLzuZV"
      }
    },
    {
      "cell_type": "code",
      "source": [
        "for i in range(1,11):\n",
        "  if i % 3 == 0:\n",
        "    print(\"3の倍数です\")\n",
        "    continue\n",
        "  print(i)"
      ],
      "metadata": {
        "colab": {
          "base_uri": "https://localhost:8080/"
        },
        "id": "bOjX9ZJnzwPP",
        "outputId": "388f339e-01aa-4358-f062-d6cec1560025"
      },
      "execution_count": 8,
      "outputs": [
        {
          "output_type": "stream",
          "name": "stdout",
          "text": [
            "1\n",
            "2\n",
            "3の倍数です\n",
            "4\n",
            "5\n",
            "3の倍数です\n",
            "7\n",
            "8\n",
            "3の倍数です\n",
            "10\n"
          ]
        }
      ]
    },
    {
      "cell_type": "markdown",
      "source": [
        "continueは繰り返し処理を一回文スキップする"
      ],
      "metadata": {
        "id": "wSy60xqf0UEC"
      }
    }
  ]
}