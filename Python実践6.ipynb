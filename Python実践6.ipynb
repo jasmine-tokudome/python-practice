{
  "nbformat": 4,
  "nbformat_minor": 0,
  "metadata": {
    "colab": {
      "provenance": [],
      "authorship_tag": "ABX9TyMPB7308tglbbrUmfIvGLK5",
      "include_colab_link": true
    },
    "kernelspec": {
      "name": "python3",
      "display_name": "Python 3"
    },
    "language_info": {
      "name": "python"
    }
  },
  "cells": [
    {
      "cell_type": "markdown",
      "metadata": {
        "id": "view-in-github",
        "colab_type": "text"
      },
      "source": [
        "<a href=\"https://colab.research.google.com/github/jasmine-tokudome/python-practice/blob/main/Python%E5%AE%9F%E8%B7%B56.ipynb\" target=\"_parent\"><img src=\"https://colab.research.google.com/assets/colab-badge.svg\" alt=\"Open In Colab\"/></a>"
      ]
    },
    {
      "cell_type": "markdown",
      "source": [
        "# 再帰関数"
      ],
      "metadata": {
        "id": "KbfadogoUzVe"
      }
    },
    {
      "cell_type": "markdown",
      "source": [
        "関数定義の中で自分自身を呼び出す関数"
      ],
      "metadata": {
        "id": "p1HU5q8ZUyTZ"
      }
    },
    {
      "cell_type": "code",
      "source": [
        "def total(n):\n",
        "   a = 0\n",
        "   for i in range(1, n + 1):\n",
        "    a += i\n",
        "    return a"
      ],
      "metadata": {
        "id": "QCsZsPqBUyeB"
      },
      "execution_count": 9,
      "outputs": []
    },
    {
      "cell_type": "code",
      "execution_count": 10,
      "metadata": {
        "colab": {
          "base_uri": "https://localhost:8080/"
        },
        "id": "C6RwEUCxUAYp",
        "outputId": "b29fd197-0045-467a-936a-89f895153c4e"
      },
      "outputs": [
        {
          "output_type": "execute_result",
          "data": {
            "text/plain": [
              "1"
            ]
          },
          "metadata": {},
          "execution_count": 10
        }
      ],
      "source": [
        "total(10)"
      ]
    },
    {
      "cell_type": "code",
      "source": [
        "total(100)"
      ],
      "metadata": {
        "colab": {
          "base_uri": "https://localhost:8080/"
        },
        "id": "S4a-E4-rYjLc",
        "outputId": "1c886446-926e-4364-c413-aa5777d559a0"
      },
      "execution_count": 11,
      "outputs": [
        {
          "output_type": "execute_result",
          "data": {
            "text/plain": [
              "1"
            ]
          },
          "metadata": {},
          "execution_count": 11
        }
      ]
    },
    {
      "cell_type": "code",
      "source": [
        "def total(n):\n",
        "  if n == 0:\n",
        "    return 0\n",
        "    return n + total(n-1)"
      ],
      "metadata": {
        "id": "Hi7f91MJYo1v"
      },
      "execution_count": 15,
      "outputs": []
    },
    {
      "cell_type": "code",
      "source": [
        "total(100)"
      ],
      "metadata": {
        "id": "1h7Q1l7oY1bP"
      },
      "execution_count": 16,
      "outputs": []
    }
  ]
}