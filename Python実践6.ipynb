{
  "nbformat": 4,
  "nbformat_minor": 0,
  "metadata": {
    "colab": {
      "provenance": [],
      "authorship_tag": "ABX9TyOLIkg8bArPeyDHyM9q6caY",
      "include_colab_link": true
    },
    "kernelspec": {
      "name": "python3",
      "display_name": "Python 3"
    },
    "language_info": {
      "name": "python"
    }
  },
  "cells": [
    {
      "cell_type": "markdown",
      "metadata": {
        "id": "view-in-github",
        "colab_type": "text"
      },
      "source": [
        "<a href=\"https://colab.research.google.com/github/jasmine-tokudome/python-practice/blob/main/Python%E5%AE%9F%E8%B7%B56.ipynb\" target=\"_parent\"><img src=\"https://colab.research.google.com/assets/colab-badge.svg\" alt=\"Open In Colab\"/></a>"
      ]
    },
    {
      "cell_type": "markdown",
      "source": [
        "# 再帰関数"
      ],
      "metadata": {
        "id": "KbfadogoUzVe"
      }
    },
    {
      "cell_type": "markdown",
      "source": [
        "関数定義の中で自分自身を呼び出す関数"
      ],
      "metadata": {
        "id": "p1HU5q8ZUyTZ"
      }
    },
    {
      "cell_type": "code",
      "source": [
        "def total(n):\n",
        "  a = 0\n",
        "  for i in range(1, n + 1):\n",
        "    a += i\n",
        "  return a"
      ],
      "metadata": {
        "id": "QCsZsPqBUyeB"
      },
      "execution_count": 1,
      "outputs": []
    },
    {
      "cell_type": "code",
      "execution_count": 2,
      "metadata": {
        "colab": {
          "base_uri": "https://localhost:8080/"
        },
        "id": "C6RwEUCxUAYp",
        "outputId": "ae1c7f36-1c0f-43ea-cfeb-05cb520578e7"
      },
      "outputs": [
        {
          "output_type": "execute_result",
          "data": {
            "text/plain": [
              "55"
            ]
          },
          "metadata": {},
          "execution_count": 2
        }
      ],
      "source": [
        "total(10)"
      ]
    },
    {
      "cell_type": "code",
      "source": [
        "total(100)"
      ],
      "metadata": {
        "colab": {
          "base_uri": "https://localhost:8080/"
        },
        "id": "S4a-E4-rYjLc",
        "outputId": "eed3c553-c187-48ee-8b1b-d80ac1063a1f"
      },
      "execution_count": 3,
      "outputs": [
        {
          "output_type": "execute_result",
          "data": {
            "text/plain": [
              "5050"
            ]
          },
          "metadata": {},
          "execution_count": 3
        }
      ]
    },
    {
      "cell_type": "code",
      "source": [
        "def total(n):\n",
        "  if n == 0:\n",
        "    return 0\n",
        "  return n + total(n-1)"
      ],
      "metadata": {
        "id": "Hi7f91MJYo1v"
      },
      "execution_count": 4,
      "outputs": []
    },
    {
      "cell_type": "code",
      "source": [
        "total(10)"
      ],
      "metadata": {
        "colab": {
          "base_uri": "https://localhost:8080/"
        },
        "id": "mhpgeCm_XGBM",
        "outputId": "bcbd1285-eac7-400f-dd6f-744214f6f429"
      },
      "execution_count": 6,
      "outputs": [
        {
          "output_type": "execute_result",
          "data": {
            "text/plain": [
              "55"
            ]
          },
          "metadata": {},
          "execution_count": 6
        }
      ]
    },
    {
      "cell_type": "code",
      "source": [
        "total(100)"
      ],
      "metadata": {
        "colab": {
          "base_uri": "https://localhost:8080/"
        },
        "id": "1h7Q1l7oY1bP",
        "outputId": "d0463b52-7856-4eff-f8e0-a0db015b0b60"
      },
      "execution_count": 5,
      "outputs": [
        {
          "output_type": "execute_result",
          "data": {
            "text/plain": [
              "5050"
            ]
          },
          "metadata": {},
          "execution_count": 5
        }
      ]
    }
  ]
}