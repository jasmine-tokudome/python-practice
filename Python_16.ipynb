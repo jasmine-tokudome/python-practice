{
  "nbformat": 4,
  "nbformat_minor": 0,
  "metadata": {
    "colab": {
      "provenance": [],
      "authorship_tag": "ABX9TyNzih6zDsnf6qbahD8ScrSI",
      "include_colab_link": true
    },
    "kernelspec": {
      "name": "python3",
      "display_name": "Python 3"
    },
    "language_info": {
      "name": "python"
    }
  },
  "cells": [
    {
      "cell_type": "markdown",
      "metadata": {
        "id": "view-in-github",
        "colab_type": "text"
      },
      "source": [
        "<a href=\"https://colab.research.google.com/github/jasmine-tokudome/python-practice/blob/main/Python_16.ipynb\" target=\"_parent\"><img src=\"https://colab.research.google.com/assets/colab-badge.svg\" alt=\"Open In Colab\"/></a>"
      ]
    },
    {
      "cell_type": "markdown",
      "source": [
        "# リスト内包表記"
      ],
      "metadata": {
        "id": "lhIEAATiHy_o"
      }
    },
    {
      "cell_type": "markdown",
      "source": [
        "複雑なリストを1行で書くことができる記法"
      ],
      "metadata": {
        "id": "IqBTeWaNICIn"
      }
    },
    {
      "cell_type": "code",
      "source": [
        "square = []\n",
        "for x in range(10):\n",
        "  square.append(x ** 2)\n",
        "square"
      ],
      "metadata": {
        "colab": {
          "base_uri": "https://localhost:8080/"
        },
        "id": "HhPWzlP7H-SE",
        "outputId": "e8dbae08-c813-484f-8e32-ee83e9f2e846"
      },
      "execution_count": 3,
      "outputs": [
        {
          "output_type": "execute_result",
          "data": {
            "text/plain": [
              "[0, 1, 4, 9, 16, 25, 36, 49, 64, 81]"
            ]
          },
          "metadata": {},
          "execution_count": 3
        }
      ]
    },
    {
      "cell_type": "code",
      "execution_count": 4,
      "metadata": {
        "colab": {
          "base_uri": "https://localhost:8080/"
        },
        "id": "jjHqcX46HsC8",
        "outputId": "9d79b7a9-3d04-4593-f666-14d69d42cf15"
      },
      "outputs": [
        {
          "output_type": "execute_result",
          "data": {
            "text/plain": [
              "[0, 1, 4, 9, 16, 25, 36, 49, 64, 81]"
            ]
          },
          "metadata": {},
          "execution_count": 4
        }
      ],
      "source": [
        "square = [x ** 2 for x in range(10)]\n",
        "square"
      ]
    },
    {
      "cell_type": "markdown",
      "source": [
        "[リストの要素　for 添え字　in イテラブルなオブジェクト]\n",
        "リスト内包表記は普通のfor文よりも約2倍実行速度が速い。"
      ],
      "metadata": {
        "id": "nu0Xu94kZDkd"
      }
    },
    {
      "cell_type": "code",
      "source": [
        "odd = [y for y in range(10) if y % 2 == 1]\n",
        "odd"
      ],
      "metadata": {
        "colab": {
          "base_uri": "https://localhost:8080/"
        },
        "id": "qwOkFZx88mbu",
        "outputId": "b46efba9-8494-4d21-8988-44911868b691"
      },
      "execution_count": 1,
      "outputs": [
        {
          "output_type": "execute_result",
          "data": {
            "text/plain": [
              "[1, 3, 5, 7, 9]"
            ]
          },
          "metadata": {},
          "execution_count": 1
        }
      ]
    },
    {
      "cell_type": "code",
      "source": [
        "odd = []\n",
        "for y in range(10):\n",
        "  if y % 2 == 1:\n",
        "    odd.append(y)\n",
        "odd"
      ],
      "metadata": {
        "colab": {
          "base_uri": "https://localhost:8080/"
        },
        "id": "DjQG5iOo9INL",
        "outputId": "ceac7a33-4866-410d-ed48-566de3acddc8"
      },
      "execution_count": 2,
      "outputs": [
        {
          "output_type": "execute_result",
          "data": {
            "text/plain": [
              "[1, 3, 5, 7, 9]"
            ]
          },
          "metadata": {},
          "execution_count": 2
        }
      ]
    },
    {
      "cell_type": "markdown",
      "source": [
        "## ２重ループ"
      ],
      "metadata": {
        "id": "GGFKQ61K9eiB"
      }
    },
    {
      "cell_type": "code",
      "source": [
        "num = []\n",
        "for x in range(3):\n",
        "  for y in range(3):\n",
        "    if x != y:\n",
        "      num.append((x, y))\n",
        "num"
      ],
      "metadata": {
        "colab": {
          "base_uri": "https://localhost:8080/"
        },
        "id": "CqxEl0fn9htr",
        "outputId": "40029aa3-d28e-4e98-b2b0-00fa8e1f7b94"
      },
      "execution_count": 3,
      "outputs": [
        {
          "output_type": "execute_result",
          "data": {
            "text/plain": [
              "[(0, 1), (0, 2), (1, 0), (1, 2), (2, 0), (2, 1)]"
            ]
          },
          "metadata": {},
          "execution_count": 3
        }
      ]
    },
    {
      "cell_type": "code",
      "source": [
        "num = [(x, y) for x in range(3) for y in range(3) if x != y]\n",
        "num"
      ],
      "metadata": {
        "colab": {
          "base_uri": "https://localhost:8080/"
        },
        "id": "7sSyg3ur92Rx",
        "outputId": "76d545ff-8d2a-4f21-e76e-a011c7652b2d"
      },
      "execution_count": 5,
      "outputs": [
        {
          "output_type": "execute_result",
          "data": {
            "text/plain": [
              "[(0, 1), (0, 2), (1, 0), (1, 2), (2, 0), (2, 1)]"
            ]
          },
          "metadata": {},
          "execution_count": 5
        }
      ]
    },
    {
      "cell_type": "markdown",
      "source": [
        "リスト内包表記は可読性を十分意識した上で時と場合に合わせて使う。"
      ],
      "metadata": {
        "id": "6Bu7gmCx-PJ6"
      }
    }
  ]
}