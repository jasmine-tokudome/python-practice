{
  "nbformat": 4,
  "nbformat_minor": 0,
  "metadata": {
    "colab": {
      "provenance": [],
      "authorship_tag": "ABX9TyObNrwJ4m8r0JEVNqIUhj5D",
      "include_colab_link": true
    },
    "kernelspec": {
      "name": "python3",
      "display_name": "Python 3"
    },
    "language_info": {
      "name": "python"
    }
  },
  "cells": [
    {
      "cell_type": "markdown",
      "metadata": {
        "id": "view-in-github",
        "colab_type": "text"
      },
      "source": [
        "<a href=\"https://colab.research.google.com/github/jasmine-tokudome/python-practice/blob/main/Python_16.ipynb\" target=\"_parent\"><img src=\"https://colab.research.google.com/assets/colab-badge.svg\" alt=\"Open In Colab\"/></a>"
      ]
    },
    {
      "cell_type": "markdown",
      "source": [
        "# リスト内包表記"
      ],
      "metadata": {
        "id": "lhIEAATiHy_o"
      }
    },
    {
      "cell_type": "markdown",
      "source": [
        "複雑なリストを1行で書くことができる記法"
      ],
      "metadata": {
        "id": "IqBTeWaNICIn"
      }
    },
    {
      "cell_type": "code",
      "source": [
        "square = []\n",
        "for x in range(10):\n",
        "  square.append(x ** 2)\n",
        "square"
      ],
      "metadata": {
        "colab": {
          "base_uri": "https://localhost:8080/"
        },
        "id": "HhPWzlP7H-SE",
        "outputId": "e8dbae08-c813-484f-8e32-ee83e9f2e846"
      },
      "execution_count": 3,
      "outputs": [
        {
          "output_type": "execute_result",
          "data": {
            "text/plain": [
              "[0, 1, 4, 9, 16, 25, 36, 49, 64, 81]"
            ]
          },
          "metadata": {},
          "execution_count": 3
        }
      ]
    },
    {
      "cell_type": "code",
      "execution_count": 4,
      "metadata": {
        "colab": {
          "base_uri": "https://localhost:8080/"
        },
        "id": "jjHqcX46HsC8",
        "outputId": "9d79b7a9-3d04-4593-f666-14d69d42cf15"
      },
      "outputs": [
        {
          "output_type": "execute_result",
          "data": {
            "text/plain": [
              "[0, 1, 4, 9, 16, 25, 36, 49, 64, 81]"
            ]
          },
          "metadata": {},
          "execution_count": 4
        }
      ],
      "source": [
        "square = [x ** 2 for x in range(10)]\n",
        "square"
      ]
    },
    {
      "cell_type": "markdown",
      "source": [
        "[リストの要素　for 添え字　in イテラブルなオブジェクト]"
      ],
      "metadata": {
        "id": "nu0Xu94kZDkd"
      }
    }
  ]
}