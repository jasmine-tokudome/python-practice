{
  "nbformat": 4,
  "nbformat_minor": 0,
  "metadata": {
    "colab": {
      "provenance": [],
      "authorship_tag": "ABX9TyOf7RNUTWIt0Rrc2HETSk2L",
      "include_colab_link": true
    },
    "kernelspec": {
      "name": "python3",
      "display_name": "Python 3"
    },
    "language_info": {
      "name": "python"
    }
  },
  "cells": [
    {
      "cell_type": "markdown",
      "metadata": {
        "id": "view-in-github",
        "colab_type": "text"
      },
      "source": [
        "<a href=\"https://colab.research.google.com/github/jasmine-tokudome/python-practice/blob/main/Python_16.ipynb\" target=\"_parent\"><img src=\"https://colab.research.google.com/assets/colab-badge.svg\" alt=\"Open In Colab\"/></a>"
      ]
    },
    {
      "cell_type": "markdown",
      "source": [
        "# リスト内包表記"
      ],
      "metadata": {
        "id": "lhIEAATiHy_o"
      }
    },
    {
      "cell_type": "markdown",
      "source": [
        "複雑なリストを1行で書くことができる記法"
      ],
      "metadata": {
        "id": "IqBTeWaNICIn"
      }
    },
    {
      "cell_type": "code",
      "source": [
        "square = []\n",
        "for x in range(10):\n",
        "  square.append(x ** 2)\n",
        "square"
      ],
      "metadata": {
        "colab": {
          "base_uri": "https://localhost:8080/"
        },
        "id": "HhPWzlP7H-SE",
        "outputId": "e8dbae08-c813-484f-8e32-ee83e9f2e846"
      },
      "execution_count": 3,
      "outputs": [
        {
          "output_type": "execute_result",
          "data": {
            "text/plain": [
              "[0, 1, 4, 9, 16, 25, 36, 49, 64, 81]"
            ]
          },
          "metadata": {},
          "execution_count": 3
        }
      ]
    },
    {
      "cell_type": "code",
      "execution_count": 4,
      "metadata": {
        "colab": {
          "base_uri": "https://localhost:8080/"
        },
        "id": "jjHqcX46HsC8",
        "outputId": "9d79b7a9-3d04-4593-f666-14d69d42cf15"
      },
      "outputs": [
        {
          "output_type": "execute_result",
          "data": {
            "text/plain": [
              "[0, 1, 4, 9, 16, 25, 36, 49, 64, 81]"
            ]
          },
          "metadata": {},
          "execution_count": 4
        }
      ],
      "source": [
        "square = [x ** 2 for x in range(10)]\n",
        "square"
      ]
    },
    {
      "cell_type": "markdown",
      "source": [
        "[リストの要素　for 添え字　in イテラブルなオブジェクト]\n",
        "リスト内包表記は普通のfor文よりも約2倍実行速度が速い。"
      ],
      "metadata": {
        "id": "nu0Xu94kZDkd"
      }
    },
    {
      "cell_type": "code",
      "source": [
        "odd = [y for y in range(10) if y % 2 == 1]\n",
        "odd"
      ],
      "metadata": {
        "colab": {
          "base_uri": "https://localhost:8080/"
        },
        "id": "qwOkFZx88mbu",
        "outputId": "b46efba9-8494-4d21-8988-44911868b691"
      },
      "execution_count": 1,
      "outputs": [
        {
          "output_type": "execute_result",
          "data": {
            "text/plain": [
              "[1, 3, 5, 7, 9]"
            ]
          },
          "metadata": {},
          "execution_count": 1
        }
      ]
    },
    {
      "cell_type": "code",
      "source": [
        "odd = []\n",
        "for y in range(10):\n",
        "  if y % 2 == 1:\n",
        "    odd.append(y)\n",
        "odd"
      ],
      "metadata": {
        "colab": {
          "base_uri": "https://localhost:8080/"
        },
        "id": "DjQG5iOo9INL",
        "outputId": "ceac7a33-4866-410d-ed48-566de3acddc8"
      },
      "execution_count": 2,
      "outputs": [
        {
          "output_type": "execute_result",
          "data": {
            "text/plain": [
              "[1, 3, 5, 7, 9]"
            ]
          },
          "metadata": {},
          "execution_count": 2
        }
      ]
    },
    {
      "cell_type": "markdown",
      "source": [
        "## ２重ループ"
      ],
      "metadata": {
        "id": "GGFKQ61K9eiB"
      }
    },
    {
      "cell_type": "code",
      "source": [
        "num = []\n",
        "for x in range(3):\n",
        "  for y in range(3):\n",
        "    if x != y:\n",
        "      num.append((x, y))\n",
        "num"
      ],
      "metadata": {
        "colab": {
          "base_uri": "https://localhost:8080/"
        },
        "id": "CqxEl0fn9htr",
        "outputId": "40029aa3-d28e-4e98-b2b0-00fa8e1f7b94"
      },
      "execution_count": 3,
      "outputs": [
        {
          "output_type": "execute_result",
          "data": {
            "text/plain": [
              "[(0, 1), (0, 2), (1, 0), (1, 2), (2, 0), (2, 1)]"
            ]
          },
          "metadata": {},
          "execution_count": 3
        }
      ]
    },
    {
      "cell_type": "code",
      "source": [
        "num = [(x, y) for x in range(3) for y in range(3) if x != y]\n",
        "num"
      ],
      "metadata": {
        "colab": {
          "base_uri": "https://localhost:8080/"
        },
        "id": "7sSyg3ur92Rx",
        "outputId": "76d545ff-8d2a-4f21-e76e-a011c7652b2d"
      },
      "execution_count": 5,
      "outputs": [
        {
          "output_type": "execute_result",
          "data": {
            "text/plain": [
              "[(0, 1), (0, 2), (1, 0), (1, 2), (2, 0), (2, 1)]"
            ]
          },
          "metadata": {},
          "execution_count": 5
        }
      ]
    },
    {
      "cell_type": "markdown",
      "source": [
        "リスト内包表記は可読性を十分意識した上で時と場合に合わせて使う。"
      ],
      "metadata": {
        "id": "6Bu7gmCx-PJ6"
      }
    },
    {
      "cell_type": "code",
      "source": [
        "a = []\n",
        "for u in range(10):\n",
        "  a.append(u)"
      ],
      "metadata": {
        "id": "mpY1c3Bw6RJt"
      },
      "execution_count": 1,
      "outputs": []
    },
    {
      "cell_type": "code",
      "source": [
        "a"
      ],
      "metadata": {
        "colab": {
          "base_uri": "https://localhost:8080/"
        },
        "id": "hAXil-Ya6Y3Y",
        "outputId": "7be4ce08-7ef3-4fb0-eae4-f8032dd1fe3c"
      },
      "execution_count": 2,
      "outputs": [
        {
          "output_type": "execute_result",
          "data": {
            "text/plain": [
              "[0, 1, 2, 3, 4, 5, 6, 7, 8, 9]"
            ]
          },
          "metadata": {},
          "execution_count": 2
        }
      ]
    },
    {
      "cell_type": "code",
      "source": [
        "u"
      ],
      "metadata": {
        "colab": {
          "base_uri": "https://localhost:8080/"
        },
        "id": "3x66e9eR6ceJ",
        "outputId": "9a321d18-547f-40d7-ebde-04b0c3618395"
      },
      "execution_count": 3,
      "outputs": [
        {
          "output_type": "execute_result",
          "data": {
            "text/plain": [
              "9"
            ]
          },
          "metadata": {},
          "execution_count": 3
        }
      ]
    },
    {
      "cell_type": "code",
      "source": [
        "b = [v for v in range(10)]\n",
        "b"
      ],
      "metadata": {
        "colab": {
          "base_uri": "https://localhost:8080/"
        },
        "id": "84gwC_cU64s9",
        "outputId": "b1d539b2-397a-41ee-9e79-14210c048276"
      },
      "execution_count": 4,
      "outputs": [
        {
          "output_type": "execute_result",
          "data": {
            "text/plain": [
              "[0, 1, 2, 3, 4, 5, 6, 7, 8, 9]"
            ]
          },
          "metadata": {},
          "execution_count": 4
        }
      ]
    },
    {
      "cell_type": "code",
      "source": [
        "v"
      ],
      "metadata": {
        "colab": {
          "base_uri": "https://localhost:8080/",
          "height": 141
        },
        "id": "UCa4NZY07EQ_",
        "outputId": "58046e0e-fc4a-4648-a186-4a9a9e1aef9a"
      },
      "execution_count": 5,
      "outputs": [
        {
          "output_type": "error",
          "ename": "NameError",
          "evalue": "name 'v' is not defined",
          "traceback": [
            "\u001b[0;31m---------------------------------------------------------------------------\u001b[0m",
            "\u001b[0;31mNameError\u001b[0m                                 Traceback (most recent call last)",
            "\u001b[0;32m<ipython-input-5-d0aa4386ac53>\u001b[0m in \u001b[0;36m<cell line: 1>\u001b[0;34m()\u001b[0m\n\u001b[0;32m----> 1\u001b[0;31m \u001b[0mv\u001b[0m\u001b[0;34m\u001b[0m\u001b[0;34m\u001b[0m\u001b[0m\n\u001b[0m",
            "\u001b[0;31mNameError\u001b[0m: name 'v' is not defined"
          ]
        }
      ]
    },
    {
      "cell_type": "markdown",
      "source": [
        "リスト内包表記には変数のスコープがある"
      ],
      "metadata": {
        "id": "PiqHEXUB7Ii7"
      }
    },
    {
      "cell_type": "markdown",
      "source": [
        "# 演習問題"
      ],
      "metadata": {
        "id": "-Klt9Nxsfuvk"
      }
    },
    {
      "cell_type": "code",
      "source": [],
      "metadata": {
        "id": "GFbohKnskVg2"
      },
      "execution_count": null,
      "outputs": []
    },
    {
      "cell_type": "code",
      "source": [
        "%%timeit\n",
        "case1 = []\n",
        "for i in range(10000):\n",
        "  case1.append(i)\n",
        "case1"
      ],
      "metadata": {
        "colab": {
          "base_uri": "https://localhost:8080/"
        },
        "id": "Hs0VBALi7LZ1",
        "outputId": "cd2c94ba-8eb8-4753-a396-84e920a61dde"
      },
      "execution_count": 4,
      "outputs": [
        {
          "output_type": "stream",
          "name": "stdout",
          "text": [
            "956 µs ± 245 µs per loop (mean ± std. dev. of 7 runs, 1000 loops each)\n"
          ]
        }
      ]
    },
    {
      "cell_type": "code",
      "source": [
        "%%timeit\n",
        "case2 = [j for j in range(10000)]\n",
        "case2"
      ],
      "metadata": {
        "colab": {
          "base_uri": "https://localhost:8080/"
        },
        "id": "WT6q9fudf1PA",
        "outputId": "a0b3182e-1aa8-4804-d4e0-d83781a46ade"
      },
      "execution_count": 5,
      "outputs": [
        {
          "output_type": "stream",
          "name": "stdout",
          "text": [
            "398 µs ± 7.69 µs per loop (mean ± std. dev. of 7 runs, 1000 loops each)\n"
          ]
        }
      ]
    },
    {
      "cell_type": "markdown",
      "source": [
        "timeitは小規模のコードの実行速度を測定することができるモジュール。\n",
        "https://docs.python.org/3/library/timeit.html#module-timeit\n",
        "\n",
        "Rubyのbenchmarkと同じ。\n",
        "https://docs.ruby-lang.org/ja/latest/method/Benchmark/m/bm.html\n",
        "\n",
        "なお、%%timeitはJupyter Notebook（IPython）で使えるマジックコマンド。"
      ],
      "metadata": {
        "id": "zEUol864izgK"
      }
    },
    {
      "cell_type": "code",
      "source": [],
      "metadata": {
        "id": "K44OHXn0i_hC"
      },
      "execution_count": null,
      "outputs": []
    }
  ]
}