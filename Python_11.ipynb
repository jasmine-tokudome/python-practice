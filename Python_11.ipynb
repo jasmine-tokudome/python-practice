{
  "nbformat": 4,
  "nbformat_minor": 0,
  "metadata": {
    "colab": {
      "provenance": [],
      "authorship_tag": "ABX9TyOPGYUdQ6s2FrCbYm4ZSmwv",
      "include_colab_link": true
    },
    "kernelspec": {
      "name": "python3",
      "display_name": "Python 3"
    },
    "language_info": {
      "name": "python"
    }
  },
  "cells": [
    {
      "cell_type": "markdown",
      "metadata": {
        "id": "view-in-github",
        "colab_type": "text"
      },
      "source": [
        "<a href=\"https://colab.research.google.com/github/jasmine-tokudome/python-practice/blob/main/Python_11.ipynb\" target=\"_parent\"><img src=\"https://colab.research.google.com/assets/colab-badge.svg\" alt=\"Open In Colab\"/></a>"
      ]
    },
    {
      "cell_type": "markdown",
      "source": [
        "# if文"
      ],
      "metadata": {
        "id": "XqKm7oHjO7G3"
      }
    },
    {
      "cell_type": "code",
      "source": [
        "a = 200\n",
        "if a == 100:\n",
        "  print(\"a is 100\")\n",
        "else:\n",
        "  print(\"a is not 100\")\n"
      ],
      "metadata": {
        "colab": {
          "base_uri": "https://localhost:8080/"
        },
        "id": "zdtl7XNtSeEG",
        "outputId": "3fffe900-c242-433a-adf3-6eecd9423adf"
      },
      "execution_count": null,
      "outputs": [
        {
          "output_type": "stream",
          "name": "stdout",
          "text": [
            "a is not 100\n"
          ]
        }
      ]
    },
    {
      "cell_type": "code",
      "source": [
        "100 == 100"
      ],
      "metadata": {
        "colab": {
          "base_uri": "https://localhost:8080/"
        },
        "id": "PWyL-xVHS2bz",
        "outputId": "02b08895-679e-46a3-b1ed-4dd51e891a32"
      },
      "execution_count": null,
      "outputs": [
        {
          "output_type": "execute_result",
          "data": {
            "text/plain": [
              "True"
            ]
          },
          "metadata": {},
          "execution_count": 3
        }
      ]
    },
    {
      "cell_type": "code",
      "source": [
        "100 == 200"
      ],
      "metadata": {
        "colab": {
          "base_uri": "https://localhost:8080/"
        },
        "id": "vP0k8JPqTJbL",
        "outputId": "757060bf-0d2b-405d-f131-7315ba77f709"
      },
      "execution_count": null,
      "outputs": [
        {
          "output_type": "execute_result",
          "data": {
            "text/plain": [
              "False"
            ]
          },
          "metadata": {},
          "execution_count": 4
        }
      ]
    },
    {
      "cell_type": "code",
      "source": [
        "if False:\n",
        "  print(\"a is 100\")\n",
        "else:\n",
        "  print(\"a is not 100\")"
      ],
      "metadata": {
        "colab": {
          "base_uri": "https://localhost:8080/"
        },
        "id": "efUdBQ5kTQxk",
        "outputId": "767d8896-ef12-4a42-dbca-31f730951aca"
      },
      "execution_count": null,
      "outputs": [
        {
          "output_type": "stream",
          "name": "stdout",
          "text": [
            "a is not 100\n"
          ]
        }
      ]
    },
    {
      "cell_type": "code",
      "source": [
        "a = 400\n",
        "\n",
        "if a == 100:\n",
        "  print(\"a is 100\")\n",
        "elif a == 200:\n",
        "  print(\"a is 200\")\n",
        "elif a == 300:\n",
        "  print(\"a is 300\")\n",
        "else:\n",
        "  print(\"a is over 300\")\n"
      ],
      "metadata": {
        "colab": {
          "base_uri": "https://localhost:8080/"
        },
        "id": "1nbTuIhgT5WC",
        "outputId": "ee0a4ba8-1bed-41bb-b6fb-8e0fe37997c0"
      },
      "execution_count": null,
      "outputs": [
        {
          "output_type": "stream",
          "name": "stdout",
          "text": [
            "a is over 300\n"
          ]
        }
      ]
    },
    {
      "cell_type": "markdown",
      "source": [
        "## 比較演算子と論理演算子"
      ],
      "metadata": {
        "id": "nv36Zl6xf0NC"
      }
    },
    {
      "cell_type": "code",
      "source": [
        "100 == 100"
      ],
      "metadata": {
        "colab": {
          "base_uri": "https://localhost:8080/"
        },
        "id": "xv9FrCv7f5zo",
        "outputId": "5814a6d5-81f9-4d02-bc7f-88c584ecdf5a"
      },
      "execution_count": null,
      "outputs": [
        {
          "output_type": "execute_result",
          "data": {
            "text/plain": [
              "True"
            ]
          },
          "metadata": {},
          "execution_count": 1
        }
      ]
    },
    {
      "cell_type": "code",
      "source": [
        "100 != 100"
      ],
      "metadata": {
        "colab": {
          "base_uri": "https://localhost:8080/"
        },
        "id": "a_IU5lIRfquP",
        "outputId": "5b99ec54-feb3-490f-ac5c-477ec280e5e7"
      },
      "execution_count": null,
      "outputs": [
        {
          "output_type": "execute_result",
          "data": {
            "text/plain": [
              "False"
            ]
          },
          "metadata": {},
          "execution_count": 2
        }
      ]
    },
    {
      "cell_type": "code",
      "source": [
        "200 > 100"
      ],
      "metadata": {
        "colab": {
          "base_uri": "https://localhost:8080/"
        },
        "id": "V8wiDRuIf_Nl",
        "outputId": "84a5d3bb-83e4-4374-80d7-b0bbc3f78f6d"
      },
      "execution_count": null,
      "outputs": [
        {
          "output_type": "execute_result",
          "data": {
            "text/plain": [
              "True"
            ]
          },
          "metadata": {},
          "execution_count": 3
        }
      ]
    },
    {
      "cell_type": "code",
      "source": [
        "100 < 200"
      ],
      "metadata": {
        "colab": {
          "base_uri": "https://localhost:8080/"
        },
        "id": "Kk_xr6yNgCqs",
        "outputId": "45f19097-1b50-4e18-850b-af3a835346a2"
      },
      "execution_count": null,
      "outputs": [
        {
          "output_type": "execute_result",
          "data": {
            "text/plain": [
              "True"
            ]
          },
          "metadata": {},
          "execution_count": 5
        }
      ]
    },
    {
      "cell_type": "code",
      "source": [
        "a = 15\n",
        "if (a > 10) and (a < 20):\n",
        "  print(\"yes\")\n",
        "else:\n",
        "  print(\"no\")"
      ],
      "metadata": {
        "colab": {
          "base_uri": "https://localhost:8080/"
        },
        "id": "9Nb-Mb-OgOeI",
        "outputId": "0535f427-478c-4489-e644-73bd61147dd9"
      },
      "execution_count": null,
      "outputs": [
        {
          "output_type": "stream",
          "name": "stdout",
          "text": [
            "yes\n"
          ]
        }
      ]
    },
    {
      "cell_type": "code",
      "source": [
        "a = 30\n",
        "if a < 10 or a > 20:\n",
        "  print(\"yes\")\n",
        "else:\n",
        "  print(\"no\")"
      ],
      "metadata": {
        "colab": {
          "base_uri": "https://localhost:8080/"
        },
        "id": "zsku6O8HgmOQ",
        "outputId": "b1dab5e1-fd7e-4807-aff7-7967dc5a809a"
      },
      "execution_count": null,
      "outputs": [
        {
          "output_type": "stream",
          "name": "stdout",
          "text": [
            "yes\n"
          ]
        }
      ]
    },
    {
      "cell_type": "code",
      "source": [
        "a = 10\n",
        "a is 10"
      ],
      "metadata": {
        "colab": {
          "base_uri": "https://localhost:8080/"
        },
        "id": "l8yd8wYTg2gL",
        "outputId": "dd0140c7-01e4-419e-ad99-190daf796381"
      },
      "execution_count": null,
      "outputs": [
        {
          "output_type": "stream",
          "name": "stderr",
          "text": [
            "<>:2: SyntaxWarning: \"is\" with a literal. Did you mean \"==\"?\n",
            "<>:2: SyntaxWarning: \"is\" with a literal. Did you mean \"==\"?\n",
            "<ipython-input-10-d0898ae93eb9>:2: SyntaxWarning: \"is\" with a literal. Did you mean \"==\"?\n",
            "  a is 10\n"
          ]
        },
        {
          "output_type": "execute_result",
          "data": {
            "text/plain": [
              "True"
            ]
          },
          "metadata": {},
          "execution_count": 10
        }
      ]
    },
    {
      "cell_type": "code",
      "source": [
        "a is not 10"
      ],
      "metadata": {
        "colab": {
          "base_uri": "https://localhost:8080/"
        },
        "id": "r20TA2iGhMkF",
        "outputId": "3b6023f3-4d14-4338-804d-f1e0c3739ac3"
      },
      "execution_count": null,
      "outputs": [
        {
          "output_type": "stream",
          "name": "stderr",
          "text": [
            "<>:1: SyntaxWarning: \"is not\" with a literal. Did you mean \"!=\"?\n",
            "<>:1: SyntaxWarning: \"is not\" with a literal. Did you mean \"!=\"?\n",
            "<ipython-input-11-f570bcdda460>:1: SyntaxWarning: \"is not\" with a literal. Did you mean \"!=\"?\n",
            "  a is not 10\n"
          ]
        },
        {
          "output_type": "execute_result",
          "data": {
            "text/plain": [
              "False"
            ]
          },
          "metadata": {},
          "execution_count": 11
        }
      ]
    },
    {
      "cell_type": "code",
      "source": [],
      "metadata": {
        "id": "UrGn_4R7hOa6"
      },
      "execution_count": null,
      "outputs": []
    },
    {
      "cell_type": "markdown",
      "source": [
        "==、!=は等価性、is,is notは同一性を評価する。"
      ],
      "metadata": {
        "id": "NayXbTDlhU1M"
      }
    },
    {
      "cell_type": "markdown",
      "source": [
        "# 演習問題"
      ],
      "metadata": {
        "id": "QYk_e5XAjtdV"
      }
    },
    {
      "cell_type": "code",
      "source": [
        "some = 10\n",
        "if not some :\n",
        "  print('This is False')\n",
        "else:\n",
        "  print(\"This is True\")"
      ],
      "metadata": {
        "id": "zKM1-efWjtJ1"
      },
      "execution_count": null,
      "outputs": []
    },
    {
      "cell_type": "code",
      "source": [
        "some = 100\n",
        "if not some :\n",
        "  print('This is False')\n",
        "else:\n",
        "  print(\"This is True\")"
      ],
      "metadata": {
        "colab": {
          "base_uri": "https://localhost:8080/"
        },
        "id": "2tFKcHu_TWeX",
        "outputId": "5901a172-572c-4ff8-9309-ae2ee5f64499"
      },
      "execution_count": 1,
      "outputs": [
        {
          "output_type": "stream",
          "name": "stdout",
          "text": [
            "This is True\n"
          ]
        }
      ]
    },
    {
      "cell_type": "code",
      "source": [
        "some = [1, 2, 3]\n",
        "if not some :\n",
        "  print('This is False')\n",
        "else:\n",
        "  print(\"This is True\")"
      ],
      "metadata": {
        "colab": {
          "base_uri": "https://localhost:8080/"
        },
        "id": "ejQkPA52TkEa",
        "outputId": "55cf3d8b-6b61-4ac8-e903-9f277d159359"
      },
      "execution_count": 2,
      "outputs": [
        {
          "output_type": "stream",
          "name": "stdout",
          "text": [
            "This is True\n"
          ]
        }
      ]
    },
    {
      "cell_type": "code",
      "source": [
        "some = \"Hello World\"\n",
        "if not some :\n",
        "  print('This is False')\n",
        "else:\n",
        "  print(\"This is True\")"
      ],
      "metadata": {
        "colab": {
          "base_uri": "https://localhost:8080/"
        },
        "id": "ZKQN0PqzTpNC",
        "outputId": "b0e41bcf-f0bb-462b-a22e-114064b9190b"
      },
      "execution_count": 3,
      "outputs": [
        {
          "output_type": "stream",
          "name": "stdout",
          "text": [
            "This is True\n"
          ]
        }
      ]
    },
    {
      "cell_type": "code",
      "source": [
        "some = None\n",
        "if not some :\n",
        "  print('This is False')\n",
        "else:\n",
        "  print(\"This is True\")"
      ],
      "metadata": {
        "colab": {
          "base_uri": "https://localhost:8080/"
        },
        "id": "6pDyAyjETyFh",
        "outputId": "d911a0bc-99fb-479e-c73a-1147177495a9"
      },
      "execution_count": 4,
      "outputs": [
        {
          "output_type": "stream",
          "name": "stdout",
          "text": [
            "This is False\n"
          ]
        }
      ]
    },
    {
      "cell_type": "code",
      "source": [
        "some = 0\n",
        "if not some :\n",
        "  print('This is False')\n",
        "else:\n",
        "  print(\"This is True\")"
      ],
      "metadata": {
        "colab": {
          "base_uri": "https://localhost:8080/"
        },
        "id": "WYAM6xWqT5JG",
        "outputId": "96bd3850-48a8-4ef9-fc7e-ef50543d5ee1"
      },
      "execution_count": 5,
      "outputs": [
        {
          "output_type": "stream",
          "name": "stdout",
          "text": [
            "This is False\n"
          ]
        }
      ]
    }
  ]
}