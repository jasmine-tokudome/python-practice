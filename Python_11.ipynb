{
  "nbformat": 4,
  "nbformat_minor": 0,
  "metadata": {
    "colab": {
      "provenance": [],
      "authorship_tag": "ABX9TyNnOlp/TID/78pO9bNVqLuQ",
      "include_colab_link": true
    },
    "kernelspec": {
      "name": "python3",
      "display_name": "Python 3"
    },
    "language_info": {
      "name": "python"
    }
  },
  "cells": [
    {
      "cell_type": "markdown",
      "metadata": {
        "id": "view-in-github",
        "colab_type": "text"
      },
      "source": [
        "<a href=\"https://colab.research.google.com/github/jasmine-tokudome/python-practice/blob/main/Python_11.ipynb\" target=\"_parent\"><img src=\"https://colab.research.google.com/assets/colab-badge.svg\" alt=\"Open In Colab\"/></a>"
      ]
    },
    {
      "cell_type": "code",
      "execution_count": null,
      "metadata": {
        "id": "xCkUW3FSO3sg"
      },
      "outputs": [],
      "source": []
    },
    {
      "cell_type": "markdown",
      "source": [
        "# if文"
      ],
      "metadata": {
        "id": "XqKm7oHjO7G3"
      }
    },
    {
      "cell_type": "code",
      "source": [
        "a = 200\n",
        "if a == 100:\n",
        "  print(\"a is 100\")\n",
        "else:\n",
        "  print(\"a is not 100\")\n"
      ],
      "metadata": {
        "colab": {
          "base_uri": "https://localhost:8080/"
        },
        "id": "zdtl7XNtSeEG",
        "outputId": "3fffe900-c242-433a-adf3-6eecd9423adf"
      },
      "execution_count": 2,
      "outputs": [
        {
          "output_type": "stream",
          "name": "stdout",
          "text": [
            "a is not 100\n"
          ]
        }
      ]
    },
    {
      "cell_type": "code",
      "source": [
        "100 == 100"
      ],
      "metadata": {
        "colab": {
          "base_uri": "https://localhost:8080/"
        },
        "id": "PWyL-xVHS2bz",
        "outputId": "02b08895-679e-46a3-b1ed-4dd51e891a32"
      },
      "execution_count": 3,
      "outputs": [
        {
          "output_type": "execute_result",
          "data": {
            "text/plain": [
              "True"
            ]
          },
          "metadata": {},
          "execution_count": 3
        }
      ]
    },
    {
      "cell_type": "code",
      "source": [
        "100 == 200"
      ],
      "metadata": {
        "colab": {
          "base_uri": "https://localhost:8080/"
        },
        "id": "vP0k8JPqTJbL",
        "outputId": "757060bf-0d2b-405d-f131-7315ba77f709"
      },
      "execution_count": 4,
      "outputs": [
        {
          "output_type": "execute_result",
          "data": {
            "text/plain": [
              "False"
            ]
          },
          "metadata": {},
          "execution_count": 4
        }
      ]
    },
    {
      "cell_type": "code",
      "source": [
        "if False:\n",
        "  print(\"a is 100\")\n",
        "else:\n",
        "  print(\"a is not 100\")"
      ],
      "metadata": {
        "colab": {
          "base_uri": "https://localhost:8080/"
        },
        "id": "efUdBQ5kTQxk",
        "outputId": "767d8896-ef12-4a42-dbca-31f730951aca"
      },
      "execution_count": 7,
      "outputs": [
        {
          "output_type": "stream",
          "name": "stdout",
          "text": [
            "a is not 100\n"
          ]
        }
      ]
    },
    {
      "cell_type": "code",
      "source": [
        "a = 400\n",
        "\n",
        "if a == 100:\n",
        "  print(\"a is 100\")\n",
        "elif a == 200:\n",
        "  print(\"a is 200\")\n",
        "elif a == 300:\n",
        "  print(\"a is 300\")\n",
        "else:\n",
        "  print(\"a is over 300\")\n"
      ],
      "metadata": {
        "colab": {
          "base_uri": "https://localhost:8080/"
        },
        "id": "1nbTuIhgT5WC",
        "outputId": "ee0a4ba8-1bed-41bb-b6fb-8e0fe37997c0"
      },
      "execution_count": 11,
      "outputs": [
        {
          "output_type": "stream",
          "name": "stdout",
          "text": [
            "a is over 300\n"
          ]
        }
      ]
    }
  ]
}