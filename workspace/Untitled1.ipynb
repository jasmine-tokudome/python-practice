{
 "cells": [
  {
   "cell_type": "code",
   "execution_count": null,
   "id": "66f8c158-66ea-4d61-ba3d-e91a3f81261b",
   "metadata": {},
   "outputs": [],
   "source": []
  }
 ],
 "metadata": {
  "kernelspec": {
   "display_name": "",
   "name": ""
  },
  "language_info": {
   "name": ""
  }
 },
 "nbformat": 4,
 "nbformat_minor": 5
}
