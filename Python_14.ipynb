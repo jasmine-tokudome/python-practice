{
  "nbformat": 4,
  "nbformat_minor": 0,
  "metadata": {
    "colab": {
      "provenance": [],
      "authorship_tag": "ABX9TyPmoOrzzVcKJcAe1jG9cWCV",
      "include_colab_link": true
    },
    "kernelspec": {
      "name": "python3",
      "display_name": "Python 3"
    },
    "language_info": {
      "name": "python"
    }
  },
  "cells": [
    {
      "cell_type": "markdown",
      "metadata": {
        "id": "view-in-github",
        "colab_type": "text"
      },
      "source": [
        "<a href=\"https://colab.research.google.com/github/jasmine-tokudome/python-practice/blob/main/Python_14.ipynb\" target=\"_parent\"><img src=\"https://colab.research.google.com/assets/colab-badge.svg\" alt=\"Open In Colab\"/></a>"
      ]
    },
    {
      "cell_type": "markdown",
      "source": [
        "# FizzBuzz問題"
      ],
      "metadata": {
        "id": "kEJmafIHY5t8"
      }
    },
    {
      "cell_type": "code",
      "execution_count": 9,
      "metadata": {
        "colab": {
          "base_uri": "https://localhost:8080/"
        },
        "id": "o1APZFIvY19n",
        "outputId": "c5ccf35b-b13b-4803-ba33-6b5ae46312eb"
      },
      "outputs": [
        {
          "output_type": "stream",
          "name": "stdout",
          "text": [
            "1\n",
            "2\n",
            "Fizz\n",
            "4\n",
            "Buzz\n",
            "Fizz\n",
            "7\n",
            "8\n",
            "Fizz\n",
            "Buzz\n",
            "11\n",
            "Fizz\n",
            "13\n",
            "14\n",
            "FizzBuzz\n"
          ]
        }
      ],
      "source": [
        "numbers = list(range(1,16))\n",
        "for number in numbers:\n",
        "  if number % 3 == 0 and number % 5 == 0:\n",
        "    print(\"FizzBuzz\")\n",
        "  elif number % 3 == 0:\n",
        "    print(\"Fizz\")\n",
        "  elif number % 5 == 0:\n",
        "    print(\"Buzz\")\n",
        "  else:\n",
        "    print(number)"
      ]
    }
  ]
}