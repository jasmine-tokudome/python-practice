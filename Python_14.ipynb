{
  "nbformat": 4,
  "nbformat_minor": 0,
  "metadata": {
    "colab": {
      "provenance": [],
      "authorship_tag": "ABX9TyMwUOtig5z6XbrCHSlpk+xX",
      "include_colab_link": true
    },
    "kernelspec": {
      "name": "python3",
      "display_name": "Python 3"
    },
    "language_info": {
      "name": "python"
    }
  },
  "cells": [
    {
      "cell_type": "markdown",
      "metadata": {
        "id": "view-in-github",
        "colab_type": "text"
      },
      "source": [
        "<a href=\"https://colab.research.google.com/github/jasmine-tokudome/python-practice/blob/main/Python_14.ipynb\" target=\"_parent\"><img src=\"https://colab.research.google.com/assets/colab-badge.svg\" alt=\"Open In Colab\"/></a>"
      ]
    },
    {
      "cell_type": "markdown",
      "source": [
        "# FizzBuzz問題"
      ],
      "metadata": {
        "id": "kEJmafIHY5t8"
      }
    },
    {
      "cell_type": "code",
      "execution_count": null,
      "metadata": {
        "colab": {
          "base_uri": "https://localhost:8080/"
        },
        "id": "o1APZFIvY19n",
        "outputId": "c5ccf35b-b13b-4803-ba33-6b5ae46312eb"
      },
      "outputs": [
        {
          "output_type": "stream",
          "name": "stdout",
          "text": [
            "1\n",
            "2\n",
            "Fizz\n",
            "4\n",
            "Buzz\n",
            "Fizz\n",
            "7\n",
            "8\n",
            "Fizz\n",
            "Buzz\n",
            "11\n",
            "Fizz\n",
            "13\n",
            "14\n",
            "FizzBuzz\n"
          ]
        }
      ],
      "source": [
        "numbers = range(1,16)\n",
        "for number in numbers:\n",
        "  if number % 3 == 0 and number % 5 == 0:\n",
        "    print(\"FizzBuzz\")\n",
        "  elif number % 3 == 0:\n",
        "    print(\"Fizz\")\n",
        "  elif number % 5 == 0:\n",
        "    print(\"Buzz\")\n",
        "  else:\n",
        "    print(number)"
      ]
    },
    {
      "cell_type": "markdown",
      "source": [
        "# 演習問題"
      ],
      "metadata": {
        "id": "KHvZaKtil5v9"
      }
    },
    {
      "cell_type": "code",
      "source": [
        "a, b = map(int, input().split())\n",
        "if 1 <= a <= 10000 and 1 <= b <= 10000:\n",
        "    print(\"Even\" if a * b % 2 == 0 else \"Odd\")\n",
        "else:\n",
        "    print(\"無効な数値です\")\n"
      ],
      "metadata": {
        "id": "znjJ7vtSl7wE",
        "colab": {
          "base_uri": "https://localhost:8080/"
        },
        "outputId": "6b2e5fb4-5007-46e9-bea7-66118dc84d7c"
      },
      "execution_count": null,
      "outputs": [
        {
          "output_type": "stream",
          "name": "stdout",
          "text": [
            "3 4\n",
            "Even\n"
          ]
        }
      ]
    },
    {
      "cell_type": "code",
      "source": [
        "def count_combinations(A, B, C, X):\n",
        "    count = 0\n",
        "    for a in range(A + 1):\n",
        "        for b in range(B + 1):\n",
        "            remaining = X - (500 * a + 100 * b)\n",
        "            if remaining < 0:\n",
        "                break\n",
        "            if remaining % 50 == 0:\n",
        "                c = remaining // 50\n",
        "                if 0 <= c <= C:\n",
        "                    count += 1\n",
        "    return count\n",
        "\n",
        "def valid_input(A, B, C, X):\n",
        "    return (\n",
        "        0 <= A <= 50 and\n",
        "        0 <= B <= 50 and\n",
        "        0 <= C <= 50 and\n",
        "        A + B + C >= 1 and\n",
        "        50 <= X <= 20000 and\n",
        "        X % 50 == 0\n",
        "    )\n",
        "\n",
        "A, B, C, X = map(int, input().split())\n",
        "\n",
        "if valid_input(A, B, C, X):\n",
        "    result = count_combinations(A, B, C, X)\n",
        "    print(result)\n",
        "else:\n",
        "    print(\"入力が制約を満たしていません。\")\n"
      ],
      "metadata": {
        "id": "1xxGc1QyniOH",
        "colab": {
          "base_uri": "https://localhost:8080/"
        },
        "outputId": "f0133802-9ac1-4e54-f960-97ede42a3945"
      },
      "execution_count": 7,
      "outputs": [
        {
          "output_type": "stream",
          "name": "stdout",
          "text": [
            "2 2 2 100\n",
            "2\n"
          ]
        }
      ]
    },
    {
      "cell_type": "code",
      "source": [],
      "metadata": {
        "id": "5ZG7d6bnIzPG"
      },
      "execution_count": null,
      "outputs": []
    }
  ]
}