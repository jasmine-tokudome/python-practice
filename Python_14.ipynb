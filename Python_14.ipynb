{
  "nbformat": 4,
  "nbformat_minor": 0,
  "metadata": {
    "colab": {
      "provenance": [],
      "authorship_tag": "ABX9TyPstXnSNR5S2SS9AopKmHjC",
      "include_colab_link": true
    },
    "kernelspec": {
      "name": "python3",
      "display_name": "Python 3"
    },
    "language_info": {
      "name": "python"
    }
  },
  "cells": [
    {
      "cell_type": "markdown",
      "metadata": {
        "id": "view-in-github",
        "colab_type": "text"
      },
      "source": [
        "<a href=\"https://colab.research.google.com/github/jasmine-tokudome/python-practice/blob/main/Python_14.ipynb\" target=\"_parent\"><img src=\"https://colab.research.google.com/assets/colab-badge.svg\" alt=\"Open In Colab\"/></a>"
      ]
    },
    {
      "cell_type": "markdown",
      "source": [
        "# FizzBuzz問題"
      ],
      "metadata": {
        "id": "kEJmafIHY5t8"
      }
    },
    {
      "cell_type": "code",
      "execution_count": null,
      "metadata": {
        "colab": {
          "base_uri": "https://localhost:8080/"
        },
        "id": "o1APZFIvY19n",
        "outputId": "c5ccf35b-b13b-4803-ba33-6b5ae46312eb"
      },
      "outputs": [
        {
          "output_type": "stream",
          "name": "stdout",
          "text": [
            "1\n",
            "2\n",
            "Fizz\n",
            "4\n",
            "Buzz\n",
            "Fizz\n",
            "7\n",
            "8\n",
            "Fizz\n",
            "Buzz\n",
            "11\n",
            "Fizz\n",
            "13\n",
            "14\n",
            "FizzBuzz\n"
          ]
        }
      ],
      "source": [
        "numbers = range(1,16)\n",
        "for number in numbers:\n",
        "  if number % 3 == 0 and number % 5 == 0:\n",
        "    print(\"FizzBuzz\")\n",
        "  elif number % 3 == 0:\n",
        "    print(\"Fizz\")\n",
        "  elif number % 5 == 0:\n",
        "    print(\"Buzz\")\n",
        "  else:\n",
        "    print(number)"
      ]
    },
    {
      "cell_type": "markdown",
      "source": [
        "# 演習問題"
      ],
      "metadata": {
        "id": "KHvZaKtil5v9"
      }
    },
    {
      "cell_type": "code",
      "source": [
        "a, b = map(int, input().split())\n",
        "if 1 <= a <= 10000 and 1 <= b <= 10000:\n",
        "    print(\"Even\" if a * b % 2 == 0 else \"Odd\")\n",
        "else:\n",
        "    print(\"無効な数値です\")\n"
      ],
      "metadata": {
        "id": "znjJ7vtSl7wE",
        "colab": {
          "base_uri": "https://localhost:8080/"
        },
        "outputId": "6b2e5fb4-5007-46e9-bea7-66118dc84d7c"
      },
      "execution_count": null,
      "outputs": [
        {
          "output_type": "stream",
          "name": "stdout",
          "text": [
            "3 4\n",
            "Even\n"
          ]
        }
      ]
    },
    {
      "cell_type": "code",
      "source": [
        "a, b, c, x = map(int, input().split())\n",
        "if 1 <= a <= 50 and 1 <= b <= 50 and 1 <= c <= 50 and 50 <= x <= 20000 and x % 50 == 0 and 500*a + 100*b + 50*c == x:\n",
        "    print(x - 500*a - 100*b - 50*c)\n",
        "else:\n",
        "    print(\"無効な数値です\")"
      ],
      "metadata": {
        "colab": {
          "base_uri": "https://localhost:8080/"
        },
        "id": "OL1FRYNzG0Cx",
        "outputId": "15ec3c01-57c9-44b5-a159-9f09796e8ece"
      },
      "execution_count": null,
      "outputs": [
        {
          "output_type": "stream",
          "name": "stdout",
          "text": [
            "2 2 2 100\n",
            "無効な数値です\n"
          ]
        }
      ]
    },
    {
      "cell_type": "code",
      "source": [
        "a, b, c, x = map(int, input().split())\n",
        "if 1 <= a <= 50 and 1 <= b <= 50 and 1 <= c <= 50 and 50 <= x <= 20000 and x % 50 == 0 and 500*a + 100*b + 50*c == x:\n",
        "      # 解の数を初期化\n",
        "    count = 0\n",
        "\n",
        "    # 500円玉を0枚からA枚まで選ぶ\n",
        "    for i in range(a + 1):\n",
        "        # 100円玉を0枚からB枚まで選ぶ\n",
        "        for j in range(b + 1):\n",
        "            # 50円玉を0枚からC枚まで選ぶ\n",
        "            for k in range(c + 1):\n",
        "                # 合計金額を計算\n",
        "                total = 500 * i + 100 * j + 50 * k\n",
        "                # 合計がX円の場合、カウントを増やす\n",
        "                if total == x:\n",
        "                    count += 1\n",
        "    count\n",
        "else:\n",
        "    print(\"無効な数値です\")\n"
      ],
      "metadata": {
        "id": "1xxGc1QyniOH",
        "colab": {
          "base_uri": "https://localhost:8080/"
        },
        "outputId": "62bbc792-56a2-4819-e45c-0d783de1ca17"
      },
      "execution_count": 10,
      "outputs": [
        {
          "output_type": "stream",
          "name": "stdout",
          "text": [
            "2 2 2 100\n",
            "無効な数値です\n"
          ]
        }
      ]
    },
    {
      "cell_type": "code",
      "source": [],
      "metadata": {
        "id": "5ZG7d6bnIzPG"
      },
      "execution_count": null,
      "outputs": []
    }
  ]
}