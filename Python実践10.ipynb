{
  "nbformat": 4,
  "nbformat_minor": 0,
  "metadata": {
    "colab": {
      "provenance": [],
      "authorship_tag": "ABX9TyO3JGcC1vBUJhoUTLQbYmF0",
      "include_colab_link": true
    },
    "kernelspec": {
      "name": "python3",
      "display_name": "Python 3"
    },
    "language_info": {
      "name": "python"
    }
  },
  "cells": [
    {
      "cell_type": "markdown",
      "metadata": {
        "id": "view-in-github",
        "colab_type": "text"
      },
      "source": [
        "<a href=\"https://colab.research.google.com/github/jasmine-tokudome/python-practice/blob/main/Python%E5%AE%9F%E8%B7%B510.ipynb\" target=\"_parent\"><img src=\"https://colab.research.google.com/assets/colab-badge.svg\" alt=\"Open In Colab\"/></a>"
      ]
    },
    {
      "cell_type": "code",
      "execution_count": null,
      "metadata": {
        "id": "oFqotlyv41b5"
      },
      "outputs": [],
      "source": [
        "class Car:\n",
        "    def __init__(self, name, value):\n",
        "        self.name = name\n",
        "        self.value = value\n",
        "\n",
        "    def run(self, speed):\n",
        "      return f'running{speed}'"
      ]
    },
    {
      "cell_type": "markdown",
      "source": [
        "# クラス変数"
      ],
      "metadata": {
        "id": "n0NNvyTP5fui"
      }
    },
    {
      "cell_type": "markdown",
      "source": [
        "クラスに紐づいた変数"
      ],
      "metadata": {
        "id": "lEH1BLW9D9qm"
      }
    },
    {
      "cell_type": "code",
      "source": [
        "class Car:\n",
        "  wheel = 4\n",
        "  def __init__(self, name, value):\n",
        "    self.name = name\n",
        "    self.value = value\n",
        "\n",
        "  @classmethod\n",
        "  def run(cls, speed):\n",
        "    return f'running{speed}'\n",
        "\n",
        "  @staticmethod\n",
        "  def stop():\n",
        "    return 'stopping'"
      ],
      "metadata": {
        "id": "18-tH9MI5djF"
      },
      "execution_count": 10,
      "outputs": []
    },
    {
      "cell_type": "code",
      "source": [
        "car1 = Car('BMW','3M')"
      ],
      "metadata": {
        "id": "7sEXg0sREGGA"
      },
      "execution_count": 3,
      "outputs": []
    },
    {
      "cell_type": "code",
      "source": [
        "car1.name"
      ],
      "metadata": {
        "colab": {
          "base_uri": "https://localhost:8080/",
          "height": 35
        },
        "id": "rsyKHSt0EU60",
        "outputId": "242150f2-cedf-49bc-d0c6-de746a56ef4e"
      },
      "execution_count": 4,
      "outputs": [
        {
          "output_type": "execute_result",
          "data": {
            "text/plain": [
              "'BMW'"
            ],
            "application/vnd.google.colaboratory.intrinsic+json": {
              "type": "string"
            }
          },
          "metadata": {},
          "execution_count": 4
        }
      ]
    },
    {
      "cell_type": "code",
      "source": [
        "car1.run('100km/h')"
      ],
      "metadata": {
        "colab": {
          "base_uri": "https://localhost:8080/",
          "height": 35
        },
        "id": "1GELFhlYEYCR",
        "outputId": "7d47a128-3587-4dba-ba2d-3d010414c5a1"
      },
      "execution_count": 5,
      "outputs": [
        {
          "output_type": "execute_result",
          "data": {
            "text/plain": [
              "'running100km/h'"
            ],
            "application/vnd.google.colaboratory.intrinsic+json": {
              "type": "string"
            }
          },
          "metadata": {},
          "execution_count": 5
        }
      ]
    },
    {
      "cell_type": "code",
      "source": [
        "Car.wheel"
      ],
      "metadata": {
        "colab": {
          "base_uri": "https://localhost:8080/"
        },
        "id": "QupkkaoPEoK4",
        "outputId": "3d8c24f7-aa92-4971-baf5-0f7071105668"
      },
      "execution_count": 6,
      "outputs": [
        {
          "output_type": "execute_result",
          "data": {
            "text/plain": [
              "4"
            ]
          },
          "metadata": {},
          "execution_count": 6
        }
      ]
    },
    {
      "cell_type": "code",
      "source": [
        "car1.wheel"
      ],
      "metadata": {
        "colab": {
          "base_uri": "https://localhost:8080/"
        },
        "id": "aDpY_PJ3ErSA",
        "outputId": "99637cda-3957-4118-c9ed-05eb633d9e3c"
      },
      "execution_count": 7,
      "outputs": [
        {
          "output_type": "execute_result",
          "data": {
            "text/plain": [
              "4"
            ]
          },
          "metadata": {},
          "execution_count": 7
        }
      ]
    },
    {
      "cell_type": "markdown",
      "source": [
        "クラスから生成されるオブジェクトによらずに一致させたい値（共通してもたせたい状態）がある時に便利"
      ],
      "metadata": {
        "id": "ZuX5rmFREzWE"
      }
    },
    {
      "cell_type": "markdown",
      "source": [
        "# クラスメソッド"
      ],
      "metadata": {
        "id": "TYkoy3ozXBT9"
      }
    },
    {
      "cell_type": "code",
      "source": [
        "Car.run('100km/h')"
      ],
      "metadata": {
        "colab": {
          "base_uri": "https://localhost:8080/",
          "height": 35
        },
        "id": "kSdJPZhIXDV_",
        "outputId": "ddc1a16a-45c6-40a0-b433-0464fcd2ec03"
      },
      "execution_count": 8,
      "outputs": [
        {
          "output_type": "execute_result",
          "data": {
            "text/plain": [
              "'running100km/h'"
            ],
            "application/vnd.google.colaboratory.intrinsic+json": {
              "type": "string"
            }
          },
          "metadata": {},
          "execution_count": 8
        }
      ]
    },
    {
      "cell_type": "markdown",
      "source": [
        "# スティックメソッド"
      ],
      "metadata": {
        "id": "8pAlAwCXYdzO"
      }
    },
    {
      "cell_type": "markdown",
      "source": [
        "クラスにもインスタンスにも紐づかない.\n",
        "クラスからもインスタンスからも呼び出せる。"
      ],
      "metadata": {
        "id": "synSo5VDZMhl"
      }
    },
    {
      "cell_type": "code",
      "source": [
        "Car.stop()"
      ],
      "metadata": {
        "colab": {
          "base_uri": "https://localhost:8080/",
          "height": 35
        },
        "id": "Cza7j9SsYhYH",
        "outputId": "4ebefb2d-a6eb-43af-a9a4-29e1dd16f85a"
      },
      "execution_count": 11,
      "outputs": [
        {
          "output_type": "execute_result",
          "data": {
            "text/plain": [
              "'stopping'"
            ],
            "application/vnd.google.colaboratory.intrinsic+json": {
              "type": "string"
            }
          },
          "metadata": {},
          "execution_count": 11
        }
      ]
    },
    {
      "cell_type": "code",
      "source": [
        "def stop():\n",
        "  return 'stopping'"
      ],
      "metadata": {
        "id": "NFtJ4gqtZKRi"
      },
      "execution_count": 12,
      "outputs": []
    },
    {
      "cell_type": "code",
      "source": [
        "stop()"
      ],
      "metadata": {
        "colab": {
          "base_uri": "https://localhost:8080/",
          "height": 35
        },
        "id": "sPcEXbcHZnEZ",
        "outputId": "f6a6bfe9-5520-48fd-e9df-0be864b4bfa0"
      },
      "execution_count": 13,
      "outputs": [
        {
          "output_type": "execute_result",
          "data": {
            "text/plain": [
              "'stopping'"
            ],
            "application/vnd.google.colaboratory.intrinsic+json": {
              "type": "string"
            }
          },
          "metadata": {},
          "execution_count": 13
        }
      ]
    },
    {
      "cell_type": "markdown",
      "source": [
        "スタティックメソッドはクラスに入れる必要はない。スティックメソッドは使用頻度は少ない。積極的に使用する必要はなく、通常の関数を使用する方が可読性も上がる。"
      ],
      "metadata": {
        "id": "iAN7HfSmZs34"
      }
    },
    {
      "cell_type": "code",
      "source": [],
      "metadata": {
        "id": "n3Tx9sk7ZshM"
      },
      "execution_count": null,
      "outputs": []
    }
  ]
}