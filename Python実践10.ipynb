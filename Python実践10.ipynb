{
  "nbformat": 4,
  "nbformat_minor": 0,
  "metadata": {
    "colab": {
      "provenance": [],
      "authorship_tag": "ABX9TyO6pfWgnPbwqNhORscpmBQ1",
      "include_colab_link": true
    },
    "kernelspec": {
      "name": "python3",
      "display_name": "Python 3"
    },
    "language_info": {
      "name": "python"
    }
  },
  "cells": [
    {
      "cell_type": "markdown",
      "metadata": {
        "id": "view-in-github",
        "colab_type": "text"
      },
      "source": [
        "<a href=\"https://colab.research.google.com/github/jasmine-tokudome/python-practice/blob/main/Python%E5%AE%9F%E8%B7%B510.ipynb\" target=\"_parent\"><img src=\"https://colab.research.google.com/assets/colab-badge.svg\" alt=\"Open In Colab\"/></a>"
      ]
    },
    {
      "cell_type": "code",
      "execution_count": 1,
      "metadata": {
        "id": "oFqotlyv41b5"
      },
      "outputs": [],
      "source": [
        "class Car:\n",
        "    def __init__(self, name, value):\n",
        "        self.name = name\n",
        "        self.value = value\n",
        "\n",
        "    def run(self, speed):\n",
        "      return f'running{speed}'"
      ]
    },
    {
      "cell_type": "markdown",
      "source": [
        "# クラス変数"
      ],
      "metadata": {
        "id": "n0NNvyTP5fui"
      }
    },
    {
      "cell_type": "markdown",
      "source": [
        "クラスに紐づいた変数"
      ],
      "metadata": {
        "id": "lEH1BLW9D9qm"
      }
    },
    {
      "cell_type": "code",
      "source": [
        "class Car:\n",
        "  wheel = 4\n",
        "  def __init__(self, name, value):\n",
        "      self.name = name\n",
        "      self.value = value\n",
        "\n",
        "  def run(self, speed):\n",
        "      return f'running{speed}'"
      ],
      "metadata": {
        "id": "18-tH9MI5djF"
      },
      "execution_count": 2,
      "outputs": []
    },
    {
      "cell_type": "code",
      "source": [
        "car1 = Car('BMW','3M')"
      ],
      "metadata": {
        "id": "7sEXg0sREGGA"
      },
      "execution_count": 3,
      "outputs": []
    },
    {
      "cell_type": "code",
      "source": [
        "car1.name"
      ],
      "metadata": {
        "colab": {
          "base_uri": "https://localhost:8080/",
          "height": 35
        },
        "id": "rsyKHSt0EU60",
        "outputId": "242150f2-cedf-49bc-d0c6-de746a56ef4e"
      },
      "execution_count": 4,
      "outputs": [
        {
          "output_type": "execute_result",
          "data": {
            "text/plain": [
              "'BMW'"
            ],
            "application/vnd.google.colaboratory.intrinsic+json": {
              "type": "string"
            }
          },
          "metadata": {},
          "execution_count": 4
        }
      ]
    },
    {
      "cell_type": "code",
      "source": [
        "car1.run('100km/h')"
      ],
      "metadata": {
        "colab": {
          "base_uri": "https://localhost:8080/",
          "height": 35
        },
        "id": "1GELFhlYEYCR",
        "outputId": "7d47a128-3587-4dba-ba2d-3d010414c5a1"
      },
      "execution_count": 5,
      "outputs": [
        {
          "output_type": "execute_result",
          "data": {
            "text/plain": [
              "'running100km/h'"
            ],
            "application/vnd.google.colaboratory.intrinsic+json": {
              "type": "string"
            }
          },
          "metadata": {},
          "execution_count": 5
        }
      ]
    },
    {
      "cell_type": "code",
      "source": [
        "Car.wheel"
      ],
      "metadata": {
        "colab": {
          "base_uri": "https://localhost:8080/"
        },
        "id": "QupkkaoPEoK4",
        "outputId": "3d8c24f7-aa92-4971-baf5-0f7071105668"
      },
      "execution_count": 6,
      "outputs": [
        {
          "output_type": "execute_result",
          "data": {
            "text/plain": [
              "4"
            ]
          },
          "metadata": {},
          "execution_count": 6
        }
      ]
    },
    {
      "cell_type": "code",
      "source": [
        "car1.wheel"
      ],
      "metadata": {
        "colab": {
          "base_uri": "https://localhost:8080/"
        },
        "id": "aDpY_PJ3ErSA",
        "outputId": "99637cda-3957-4118-c9ed-05eb633d9e3c"
      },
      "execution_count": 7,
      "outputs": [
        {
          "output_type": "execute_result",
          "data": {
            "text/plain": [
              "4"
            ]
          },
          "metadata": {},
          "execution_count": 7
        }
      ]
    },
    {
      "cell_type": "markdown",
      "source": [
        "クラスから生成されるオブジェクトによらずに一致させたい値（共通してもたせたい状態）がある時に便利"
      ],
      "metadata": {
        "id": "ZuX5rmFREzWE"
      }
    }
  ]
}