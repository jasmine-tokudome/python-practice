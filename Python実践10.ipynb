{
  "nbformat": 4,
  "nbformat_minor": 0,
  "metadata": {
    "colab": {
      "provenance": [],
      "authorship_tag": "ABX9TyM/W2ar6OzawplO2+G1ID9K",
      "include_colab_link": true
    },
    "kernelspec": {
      "name": "python3",
      "display_name": "Python 3"
    },
    "language_info": {
      "name": "python"
    }
  },
  "cells": [
    {
      "cell_type": "markdown",
      "metadata": {
        "id": "view-in-github",
        "colab_type": "text"
      },
      "source": [
        "<a href=\"https://colab.research.google.com/github/jasmine-tokudome/python-practice/blob/main/Python%E5%AE%9F%E8%B7%B510.ipynb\" target=\"_parent\"><img src=\"https://colab.research.google.com/assets/colab-badge.svg\" alt=\"Open In Colab\"/></a>"
      ]
    },
    {
      "cell_type": "code",
      "execution_count": 1,
      "metadata": {
        "id": "oFqotlyv41b5"
      },
      "outputs": [],
      "source": [
        "class Car:\n",
        "    def __init__(self, name, value):\n",
        "        self.name = name\n",
        "        self.value = value\n",
        "\n",
        "    def run(self, speed):\n",
        "      return f'running{speed}'"
      ]
    },
    {
      "cell_type": "markdown",
      "source": [
        "# クラス変数"
      ],
      "metadata": {
        "id": "n0NNvyTP5fui"
      }
    },
    {
      "cell_type": "code",
      "source": [],
      "metadata": {
        "id": "18-tH9MI5djF"
      },
      "execution_count": null,
      "outputs": []
    }
  ]
}