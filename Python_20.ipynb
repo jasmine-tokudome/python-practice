{
  "nbformat": 4,
  "nbformat_minor": 0,
  "metadata": {
    "colab": {
      "provenance": [],
      "authorship_tag": "ABX9TyPb7MYp2EUHNMYt5655LgIT",
      "include_colab_link": true
    },
    "kernelspec": {
      "name": "python3",
      "display_name": "Python 3"
    },
    "language_info": {
      "name": "python"
    }
  },
  "cells": [
    {
      "cell_type": "markdown",
      "metadata": {
        "id": "view-in-github",
        "colab_type": "text"
      },
      "source": [
        "<a href=\"https://colab.research.google.com/github/jasmine-tokudome/python-practice/blob/main/Python_20.ipynb\" target=\"_parent\"><img src=\"https://colab.research.google.com/assets/colab-badge.svg\" alt=\"Open In Colab\"/></a>"
      ]
    },
    {
      "cell_type": "markdown",
      "source": [
        "# モジュールと import文"
      ],
      "metadata": {
        "id": "p3QQUYoRSnAK"
      }
    },
    {
      "cell_type": "markdown",
      "source": [
        "スクリプト　ソースコードをファイルに書き出して繰り返し実行できるようにしたもの。\n",
        "Pythonの関数やクラスの定義が書かれたファイルを「モジュール」という。モジュールは.pyという拡張子を使う。モジュールをまとめてたものをパッケージという。"
      ],
      "metadata": {
        "id": "bE9oTR4nSxoG"
      }
    },
    {
      "cell_type": "code",
      "execution_count": 1,
      "metadata": {
        "id": "YOgbqQYvSgDw"
      },
      "outputs": [],
      "source": [
        "import math"
      ]
    },
    {
      "cell_type": "code",
      "source": [
        "math.sqrt(2)"
      ],
      "metadata": {
        "colab": {
          "base_uri": "https://localhost:8080/"
        },
        "id": "dMmh-hmTTmrE",
        "outputId": "2ecb221a-1a20-46b5-e2f7-ef5cecba2596"
      },
      "execution_count": 2,
      "outputs": [
        {
          "output_type": "execute_result",
          "data": {
            "text/plain": [
              "1.4142135623730951"
            ]
          },
          "metadata": {},
          "execution_count": 2
        }
      ]
    },
    {
      "cell_type": "markdown",
      "source": [
        "import モジュール名でモジュールを導入した際は呼び出しで「モジュール.関数名（）」とかく"
      ],
      "metadata": {
        "id": "MoOjbPpNT1bk"
      }
    },
    {
      "cell_type": "code",
      "source": [
        "from math import sqrt"
      ],
      "metadata": {
        "id": "006rj9QdUPP6"
      },
      "execution_count": 3,
      "outputs": []
    },
    {
      "cell_type": "code",
      "source": [
        "sqrt(2)"
      ],
      "metadata": {
        "colab": {
          "base_uri": "https://localhost:8080/"
        },
        "id": "xhN2kXLgUSbE",
        "outputId": "5bcacdf8-f4f2-4570-b36b-a77487b81d86"
      },
      "execution_count": 4,
      "outputs": [
        {
          "output_type": "execute_result",
          "data": {
            "text/plain": [
              "1.4142135623730951"
            ]
          },
          "metadata": {},
          "execution_count": 4
        }
      ]
    }
  ]
}