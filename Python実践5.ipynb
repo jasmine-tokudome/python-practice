{
  "nbformat": 4,
  "nbformat_minor": 0,
  "metadata": {
    "colab": {
      "provenance": [],
      "authorship_tag": "ABX9TyMTB/G9sEwnRM/DJN44KOOI",
      "include_colab_link": true
    },
    "kernelspec": {
      "name": "python3",
      "display_name": "Python 3"
    },
    "language_info": {
      "name": "python"
    }
  },
  "cells": [
    {
      "cell_type": "markdown",
      "metadata": {
        "id": "view-in-github",
        "colab_type": "text"
      },
      "source": [
        "<a href=\"https://colab.research.google.com/github/jasmine-tokudome/python-practice/blob/main/Python%E5%AE%9F%E8%B7%B55.ipynb\" target=\"_parent\"><img src=\"https://colab.research.google.com/assets/colab-badge.svg\" alt=\"Open In Colab\"/></a>"
      ]
    },
    {
      "cell_type": "markdown",
      "source": [
        "# コメントアウト"
      ],
      "metadata": {
        "id": "oruYl3QEp-KE"
      }
    },
    {
      "cell_type": "code",
      "source": [
        "a = 1 #コメントアウト"
      ],
      "metadata": {
        "id": "ej8_Ke07p8sp"
      },
      "execution_count": 1,
      "outputs": []
    },
    {
      "cell_type": "markdown",
      "source": [],
      "metadata": {
        "id": "nPToKCG2p8Yh"
      }
    },
    {
      "cell_type": "code",
      "execution_count": null,
      "metadata": {
        "id": "VLBr3bwwp36Z"
      },
      "outputs": [],
      "source": []
    },
    {
      "cell_type": "markdown",
      "source": [
        "# docstring"
      ],
      "metadata": {
        "id": "n4dPiXURUFjA"
      }
    },
    {
      "cell_type": "code",
      "source": [
        "a = 1\n",
        "\"\"\"\n",
        "b = 2\n",
        "c = 3\n",
        "d = 4\n",
        "\"\"\"\n",
        "e = 5"
      ],
      "metadata": {
        "id": "-LbUMjFPUeHy"
      },
      "execution_count": 2,
      "outputs": []
    },
    {
      "cell_type": "code",
      "source": [
        "b"
      ],
      "metadata": {
        "colab": {
          "base_uri": "https://localhost:8080/",
          "height": 141
        },
        "id": "wkH_fp-hUnHA",
        "outputId": "cc2782f9-121c-492c-a298-b08f4d42fcf0"
      },
      "execution_count": 3,
      "outputs": [
        {
          "output_type": "error",
          "ename": "NameError",
          "evalue": "name 'b' is not defined",
          "traceback": [
            "\u001b[0;31m---------------------------------------------------------------------------\u001b[0m",
            "\u001b[0;31mNameError\u001b[0m                                 Traceback (most recent call last)",
            "\u001b[0;32m<ipython-input-3-89e6c98d9288>\u001b[0m in \u001b[0;36m<cell line: 0>\u001b[0;34m()\u001b[0m\n\u001b[0;32m----> 1\u001b[0;31m \u001b[0mb\u001b[0m\u001b[0;34m\u001b[0m\u001b[0;34m\u001b[0m\u001b[0m\n\u001b[0m",
            "\u001b[0;31mNameError\u001b[0m: name 'b' is not defined"
          ]
        }
      ]
    },
    {
      "cell_type": "markdown",
      "source": [
        "docstringはあくまで文字列の一種であってコメントアウトではない。docstring内で文法的なエラーがあると無視されずに実行結果に反映される。"
      ],
      "metadata": {
        "id": "vZivDgrGUrEg"
      }
    },
    {
      "cell_type": "code",
      "source": [
        "a = 1\n",
        "  #b = 2\n",
        "  #c = 3\n",
        "  #d = 4\n",
        "e = 5"
      ],
      "metadata": {
        "id": "baoSgOgAU0EH"
      },
      "execution_count": 4,
      "outputs": []
    },
    {
      "cell_type": "code",
      "source": [
        "a = 1\n",
        "  \"\"\"\n",
        "  b = 2\n",
        "  c = 3\n",
        "  d = 4\n",
        "  \"\"\"\n",
        "e = 5"
      ],
      "metadata": {
        "colab": {
          "base_uri": "https://localhost:8080/",
          "height": 106
        },
        "id": "mJlNeqVTVDUR",
        "outputId": "f86ca211-3034-4a29-daef-abc181112035"
      },
      "execution_count": 5,
      "outputs": [
        {
          "output_type": "error",
          "ename": "IndentationError",
          "evalue": "unexpected indent (<ipython-input-5-8ef035792ac6>, line 2)",
          "traceback": [
            "\u001b[0;36m  File \u001b[0;32m\"<ipython-input-5-8ef035792ac6>\"\u001b[0;36m, line \u001b[0;32m2\u001b[0m\n\u001b[0;31m    \"\"\"\u001b[0m\n\u001b[0m    ^\u001b[0m\n\u001b[0;31mIndentationError\u001b[0m\u001b[0;31m:\u001b[0m unexpected indent\n"
          ]
        }
      ]
    }
  ]
}