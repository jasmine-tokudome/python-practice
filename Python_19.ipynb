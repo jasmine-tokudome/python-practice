{
  "nbformat": 4,
  "nbformat_minor": 0,
  "metadata": {
    "colab": {
      "provenance": [],
      "authorship_tag": "ABX9TyPv2sShp3Fp+1Az0/uT5AYz",
      "include_colab_link": true
    },
    "kernelspec": {
      "name": "python3",
      "display_name": "Python 3"
    },
    "language_info": {
      "name": "python"
    }
  },
  "cells": [
    {
      "cell_type": "markdown",
      "metadata": {
        "id": "view-in-github",
        "colab_type": "text"
      },
      "source": [
        "<a href=\"https://colab.research.google.com/github/jasmine-tokudome/python-practice/blob/main/Python_19.ipynb\" target=\"_parent\"><img src=\"https://colab.research.google.com/assets/colab-badge.svg\" alt=\"Open In Colab\"/></a>"
      ]
    },
    {
      "cell_type": "markdown",
      "source": [
        "# 可変長引数"
      ],
      "metadata": {
        "id": "Qu-u6WAf2xgf"
      }
    },
    {
      "cell_type": "markdown",
      "source": [
        "引数として実引数を関数に渡す時に長さが呼び出しごとに変わる引数"
      ],
      "metadata": {
        "id": "re-V70u523xB"
      }
    },
    {
      "cell_type": "code",
      "execution_count": 1,
      "metadata": {
        "colab": {
          "base_uri": "https://localhost:8080/"
        },
        "id": "tFGtzFAd2o-n",
        "outputId": "9734592f-e463-4a35-9298-6448e20e95a3"
      },
      "outputs": [
        {
          "output_type": "stream",
          "name": "stdout",
          "text": [
            "2 3 4\n"
          ]
        }
      ],
      "source": [
        "print(2, 3, 4)"
      ]
    },
    {
      "cell_type": "code",
      "source": [
        "print(2, 3, 4, 5)"
      ],
      "metadata": {
        "colab": {
          "base_uri": "https://localhost:8080/"
        },
        "id": "qevqzp1g4zAv",
        "outputId": "331d26a1-8145-4595-8adf-1dd74186e7ea"
      },
      "execution_count": 2,
      "outputs": [
        {
          "output_type": "stream",
          "name": "stdout",
          "text": [
            "2 3 4 5\n"
          ]
        }
      ]
    },
    {
      "cell_type": "code",
      "source": [
        "def print_greeting(*args):\n",
        "  print(\"@@@@@@@@@@@@\")\n",
        "  for greet in args:\n",
        "    print(greet)\n",
        "  print(\"@@@@@@@@@@@@\")"
      ],
      "metadata": {
        "id": "behy9Y5u43PS"
      },
      "execution_count": 9,
      "outputs": []
    },
    {
      "cell_type": "markdown",
      "source": [
        "*の後ろの仮引数名はなんでもいいが、慣例的にargsと書くことが多い。"
      ],
      "metadata": {
        "id": "Qfw0tURa5Vc0"
      }
    },
    {
      "cell_type": "markdown",
      "source": [
        "可変長の位置引数（*args)はタプルとして任意長の一引数を受け取る（関数定義内でargsで参照可能）"
      ],
      "metadata": {
        "id": "lxw23mYD5kkw"
      }
    },
    {
      "cell_type": "code",
      "source": [
        "print_greeting(\"Good morning\", \"Good afternoon\", \"Good evening\",\"Good night\")"
      ],
      "metadata": {
        "colab": {
          "base_uri": "https://localhost:8080/"
        },
        "id": "9fyNsLAY5cK4",
        "outputId": "ece64315-4f28-4243-ac9f-c920e3393b10"
      },
      "execution_count": 7,
      "outputs": [
        {
          "output_type": "stream",
          "name": "stdout",
          "text": [
            "@@@@@@@@@@@@\n",
            "('Good morning', 'Good afternoon', 'Good evening', 'Good night')\n",
            "Good morning\n",
            "Good afternoon\n",
            "Good evening\n",
            "Good night\n",
            "@@@@@@@@@@@@\n"
          ]
        }
      ]
    },
    {
      "cell_type": "markdown",
      "source": [
        "引数リストのアンパック\n"
      ],
      "metadata": {
        "id": "vKNLLb6h6ZR9"
      }
    },
    {
      "cell_type": "code",
      "source": [
        "greet = ['Good morning', 'Good afternoon', 'Good evening', 'Good night']"
      ],
      "metadata": {
        "id": "jXuGUe5I6M2S"
      },
      "execution_count": 8,
      "outputs": []
    },
    {
      "cell_type": "code",
      "source": [
        "print_greeting(greet)"
      ],
      "metadata": {
        "colab": {
          "base_uri": "https://localhost:8080/"
        },
        "id": "7H0Dm6tY6jPU",
        "outputId": "48d60e98-6c64-44d3-ef4d-fe8f4cb1057b"
      },
      "execution_count": 10,
      "outputs": [
        {
          "output_type": "stream",
          "name": "stdout",
          "text": [
            "@@@@@@@@@@@@\n",
            "['Good morning', 'Good afternoon', 'Good evening', 'Good night']\n",
            "@@@@@@@@@@@@\n"
          ]
        }
      ]
    },
    {
      "cell_type": "code",
      "source": [
        "print_greeting(*greet)"
      ],
      "metadata": {
        "colab": {
          "base_uri": "https://localhost:8080/"
        },
        "id": "8JSsfKOl6qXU",
        "outputId": "cfc79667-11ec-4169-c15b-4b81f893fda5"
      },
      "execution_count": 11,
      "outputs": [
        {
          "output_type": "stream",
          "name": "stdout",
          "text": [
            "@@@@@@@@@@@@\n",
            "Good morning\n",
            "Good afternoon\n",
            "Good evening\n",
            "Good night\n",
            "@@@@@@@@@@@@\n"
          ]
        }
      ]
    },
    {
      "cell_type": "markdown",
      "source": [
        "引数リストのアンパックを使うとリストやタプルで保持している値を位置引数として渡せる。"
      ],
      "metadata": {
        "id": "cwyAUgOQ6wOe"
      }
    },
    {
      "cell_type": "markdown",
      "source": [
        "可変長のキーワード引数"
      ],
      "metadata": {
        "id": "OVlAJ_j_pE9m"
      }
    },
    {
      "cell_type": "code",
      "source": [
        "day = {\"year\": 2022, \"month\": 2, \"day\": 9, \"day_of_week\": \"Wednesday\"}"
      ],
      "metadata": {
        "id": "TKTUE3sGpCvp"
      },
      "execution_count": 2,
      "outputs": []
    },
    {
      "cell_type": "markdown",
      "source": [
        "可変長のキーワード引数（**kwargs)は辞書として任意長のキーワード引数を受け取る（関数定義内でkwargsで参照可能）。"
      ],
      "metadata": {
        "id": "VUBFKC_Kp1wc"
      }
    },
    {
      "cell_type": "code",
      "source": [
        "def today_info(**kwargs):\n",
        "  print(\"@@@@@@@@@@@@\")\n",
        "  for key, value in kwargs.items():\n",
        "    print(f\"{key} = {value}\")\n",
        "  print(\"@@@@@@@@@@@@\")"
      ],
      "metadata": {
        "id": "s1K6Kfnvpd6V"
      },
      "execution_count": 3,
      "outputs": []
    },
    {
      "cell_type": "code",
      "source": [],
      "metadata": {
        "id": "2dQ4QKjkqF9L"
      },
      "execution_count": null,
      "outputs": []
    }
  ]
}