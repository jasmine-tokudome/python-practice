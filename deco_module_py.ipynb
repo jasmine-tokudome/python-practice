{
  "nbformat": 4,
  "nbformat_minor": 0,
  "metadata": {
    "colab": {
      "provenance": [],
      "authorship_tag": "ABX9TyPTnFuSQSqgFKPI2t4Icdup",
      "include_colab_link": true
    },
    "kernelspec": {
      "name": "python3",
      "display_name": "Python 3"
    },
    "language_info": {
      "name": "python"
    }
  },
  "cells": [
    {
      "cell_type": "markdown",
      "metadata": {
        "id": "view-in-github",
        "colab_type": "text"
      },
      "source": [
        "<a href=\"https://colab.research.google.com/github/jasmine-tokudome/python-practice/blob/main/deco_module_py.ipynb\" target=\"_parent\"><img src=\"https://colab.research.google.com/assets/colab-badge.svg\" alt=\"Open In Colab\"/></a>"
      ]
    },
    {
      "cell_type": "code",
      "execution_count": null,
      "metadata": {
        "id": "iCgS_sRli5a4"
      },
      "outputs": [],
      "source": [
        "def deco_print(p = \"no content\"):\n",
        "  print(\"@@@@@@@@@@@@@@@@@@\")\n",
        "  print(p)\n",
        "  print(\"@@@@@@@@@@@@@@@@@@\")\n",
        "\n",
        "def print_greeting(*args):\n",
        "  print(\"@@@@@@@@@@@@@@@@@@\")\n",
        "  for greet in args:\n",
        "    print(greet)\n",
        "  print(\"@@@@@@@@@@@@@@@@@@\")\n",
        "\n",
        "def today_info(**kwargs):\n",
        "  print(\"@@@@@@@@@@@@@@@@@@\")\n",
        "  for key, values in kwargs.items():\n",
        "    print(f'{key}: {values}')\n",
        "    print(\"@@@@@@@@@@@@@@@@@@\")"
      ]
    },
    {
      "cell_type": "markdown",
      "source": [
        "モジュールは.pyの拡張子で表されるファイル。"
      ],
      "metadata": {
        "id": "xG49A8gQkqEU"
      }
    }
  ]
}