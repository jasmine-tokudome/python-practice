{
  "nbformat": 4,
  "nbformat_minor": 0,
  "metadata": {
    "colab": {
      "provenance": [],
      "authorship_tag": "ABX9TyNsfVAJhqnL1o2crNbhYv8u",
      "include_colab_link": true
    },
    "kernelspec": {
      "name": "python3",
      "display_name": "Python 3"
    },
    "language_info": {
      "name": "python"
    }
  },
  "cells": [
    {
      "cell_type": "markdown",
      "metadata": {
        "id": "view-in-github",
        "colab_type": "text"
      },
      "source": [
        "<a href=\"https://colab.research.google.com/github/jasmine-tokudome/python-practice/blob/main/Python_4.ipynb\" target=\"_parent\"><img src=\"https://colab.research.google.com/assets/colab-badge.svg\" alt=\"Open In Colab\"/></a>"
      ]
    },
    {
      "cell_type": "markdown",
      "source": [
        "# 文字列の操作　#1"
      ],
      "metadata": {
        "id": "59_PKii3SETU"
      }
    },
    {
      "cell_type": "code",
      "source": [
        "\"Hello World\""
      ],
      "metadata": {
        "colab": {
          "base_uri": "https://localhost:8080/",
          "height": 35
        },
        "id": "dRgvGIL9SURM",
        "outputId": "1f31749e-801b-46b4-991b-c68ae64e9ade"
      },
      "execution_count": null,
      "outputs": [
        {
          "output_type": "execute_result",
          "data": {
            "text/plain": [
              "'Hello World'"
            ],
            "application/vnd.google.colaboratory.intrinsic+json": {
              "type": "string"
            }
          },
          "metadata": {},
          "execution_count": 1
        }
      ]
    },
    {
      "cell_type": "code",
      "source": [],
      "metadata": {
        "id": "pdXMZ_03ShvH"
      },
      "execution_count": null,
      "outputs": []
    },
    {
      "cell_type": "markdown",
      "source": [
        "'' でも\"\"でも可能。文字列の中にどちらのクォーテーションが含まれているかで選択する。"
      ],
      "metadata": {
        "id": "N9y5xQeVTFs_"
      }
    },
    {
      "cell_type": "code",
      "source": [
        "a = \"I say 'Hello World'\"\n",
        "print(a)"
      ],
      "metadata": {
        "colab": {
          "base_uri": "https://localhost:8080/"
        },
        "id": "t1UMBA-KTPti",
        "outputId": "eb279414-b170-4d9d-c67d-e26d7d030ec1"
      },
      "execution_count": null,
      "outputs": [
        {
          "output_type": "stream",
          "name": "stdout",
          "text": [
            "I say 'Hello World'\n"
          ]
        }
      ]
    },
    {
      "cell_type": "code",
      "source": [
        "b = \"I say 'Hello World'\"\n",
        "print(b)"
      ],
      "metadata": {
        "colab": {
          "base_uri": "https://localhost:8080/"
        },
        "id": "44LayFvPSJVh",
        "outputId": "a0441fbc-1518-44f3-a07d-89fbc5217d89"
      },
      "execution_count": null,
      "outputs": [
        {
          "output_type": "stream",
          "name": "stdout",
          "text": [
            "I say 'Hello World'\n"
          ]
        }
      ]
    },
    {
      "cell_type": "code",
      "source": [
        "c = \"\"\"Hello. My name is Jasmine.\n",
        "I like programming.\n",
        "I am studing Python.\"\"\"\n",
        "print(c)"
      ],
      "metadata": {
        "colab": {
          "base_uri": "https://localhost:8080/"
        },
        "id": "ROfMz_q8T0EV",
        "outputId": "b1c99fe8-1327-4665-89df-6f711b01f70e"
      },
      "execution_count": null,
      "outputs": [
        {
          "output_type": "stream",
          "name": "stdout",
          "text": [
            "Hello. My name is Jasmine.\n",
            "I like programming.\n",
            "I am studing Python.\n"
          ]
        }
      ]
    },
    {
      "cell_type": "code",
      "source": [
        "c"
      ],
      "metadata": {
        "colab": {
          "base_uri": "https://localhost:8080/",
          "height": 35
        },
        "id": "CXXECLz5UXcH",
        "outputId": "f2df7253-cc48-49f4-cc29-1be8f3e35a2a"
      },
      "execution_count": null,
      "outputs": [
        {
          "output_type": "execute_result",
          "data": {
            "text/plain": [
              "'Hello. My name is Jasmine.\\nI like programming.\\nI am studing Python.'"
            ],
            "application/vnd.google.colaboratory.intrinsic+json": {
              "type": "string"
            }
          },
          "metadata": {},
          "execution_count": 10
        }
      ]
    },
    {
      "cell_type": "markdown",
      "source": [
        "# エスケープ文字(エスケープシーケンス）"
      ],
      "metadata": {
        "id": "BnjRhviGUdaj"
      }
    },
    {
      "cell_type": "code",
      "source": [
        "d = \"Hello. My name is Jasmine.\\nI like programming.\\nI am studing Python.\""
      ],
      "metadata": {
        "id": "a2grFmUUUf-v"
      },
      "execution_count": null,
      "outputs": []
    },
    {
      "cell_type": "code",
      "source": [
        "print(d)"
      ],
      "metadata": {
        "colab": {
          "base_uri": "https://localhost:8080/"
        },
        "id": "LKXi5GQUVPo6",
        "outputId": "83b04405-3103-43be-afb0-ce8cab8e3988"
      },
      "execution_count": null,
      "outputs": [
        {
          "output_type": "stream",
          "name": "stdout",
          "text": [
            "Hello. My name is Jasmine.\n",
            "I like programming.\n",
            "I am studing Python.\n"
          ]
        }
      ]
    },
    {
      "cell_type": "code",
      "source": [
        "print(\"Hello World\")\n",
        "print(\"\\tHello World\")"
      ],
      "metadata": {
        "colab": {
          "base_uri": "https://localhost:8080/"
        },
        "id": "8twapanaVgZm",
        "outputId": "0fb7334c-45cf-4fed-c5b4-3db91b57ad42"
      },
      "execution_count": null,
      "outputs": [
        {
          "output_type": "stream",
          "name": "stdout",
          "text": [
            "Hello World\n",
            "\tHello World\n"
          ]
        }
      ]
    },
    {
      "cell_type": "code",
      "source": [
        "e = \"Hello.My name is Jasmine.\\\n",
        "I like programming.\""
      ],
      "metadata": {
        "id": "5kWeErzwV2JX"
      },
      "execution_count": null,
      "outputs": []
    },
    {
      "cell_type": "code",
      "source": [
        "print(e)"
      ],
      "metadata": {
        "colab": {
          "base_uri": "https://localhost:8080/"
        },
        "id": "aMbGonsvWE5R",
        "outputId": "b7cb8063-fa1b-43bc-e113-3e69bce51c2c"
      },
      "execution_count": null,
      "outputs": [
        {
          "output_type": "stream",
          "name": "stdout",
          "text": [
            "Hello.My name is Jasmine.I like programming.\n"
          ]
        }
      ]
    },
    {
      "cell_type": "markdown",
      "source": [
        "# 演習問題"
      ],
      "metadata": {
        "id": "Zvbb_jKscM0w"
      }
    },
    {
      "cell_type": "code",
      "source": [
        "print(\"'C:\\some\\\\name'\")"
      ],
      "metadata": {
        "colab": {
          "base_uri": "https://localhost:8080/"
        },
        "id": "OYsp1qSIcPWB",
        "outputId": "c48707eb-1c72-4ea1-9660-acc526589e98"
      },
      "execution_count": 2,
      "outputs": [
        {
          "output_type": "stream",
          "name": "stdout",
          "text": [
            "'C:\\some\\name'\n"
          ]
        }
      ]
    },
    {
      "cell_type": "code",
      "source": [],
      "metadata": {
        "id": "wEhSf4uGchSO"
      },
      "execution_count": null,
      "outputs": []
    }
  ]
}