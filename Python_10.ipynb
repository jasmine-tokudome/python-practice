{
  "nbformat": 4,
  "nbformat_minor": 0,
  "metadata": {
    "colab": {
      "provenance": [],
      "authorship_tag": "ABX9TyPi38pAtriXBXmDK+4+iqvi",
      "include_colab_link": true
    },
    "kernelspec": {
      "name": "python3",
      "display_name": "Python 3"
    },
    "language_info": {
      "name": "python"
    }
  },
  "cells": [
    {
      "cell_type": "markdown",
      "metadata": {
        "id": "view-in-github",
        "colab_type": "text"
      },
      "source": [
        "<a href=\"https://colab.research.google.com/github/jasmine-tokudome/python-practice/blob/main/Python_10.ipynb\" target=\"_parent\"><img src=\"https://colab.research.google.com/assets/colab-badge.svg\" alt=\"Open In Colab\"/></a>"
      ]
    },
    {
      "cell_type": "markdown",
      "source": [
        "# 辞書"
      ],
      "metadata": {
        "id": "98MyKnz-uNfM"
      }
    },
    {
      "cell_type": "code",
      "execution_count": 3,
      "metadata": {
        "id": "JDrxCryVrjNT"
      },
      "outputs": [],
      "source": [
        "color = {\"red\": 1, \"blue\": 2, \"yellow\": 3}"
      ]
    },
    {
      "cell_type": "code",
      "source": [
        "color"
      ],
      "metadata": {
        "colab": {
          "base_uri": "https://localhost:8080/"
        },
        "id": "avescqrHufDT",
        "outputId": "01cbb3bc-1c28-4af8-86e2-23344af4d3e9"
      },
      "execution_count": 5,
      "outputs": [
        {
          "output_type": "execute_result",
          "data": {
            "text/plain": [
              "{'red': 1, 'blue': 2, 'yellow': 3}"
            ]
          },
          "metadata": {},
          "execution_count": 5
        }
      ]
    },
    {
      "cell_type": "code",
      "source": [
        "color.get(\"red\")"
      ],
      "metadata": {
        "colab": {
          "base_uri": "https://localhost:8080/"
        },
        "id": "041hqpHtugXj",
        "outputId": "f592d561-858f-4cb1-fe47-380ccc87f07b"
      },
      "execution_count": 8,
      "outputs": [
        {
          "output_type": "execute_result",
          "data": {
            "text/plain": [
              "1"
            ]
          },
          "metadata": {},
          "execution_count": 8
        }
      ]
    },
    {
      "cell_type": "code",
      "source": [
        "color.get(\"grren\")"
      ],
      "metadata": {
        "id": "XpOFpzI0vQDs"
      },
      "execution_count": 9,
      "outputs": []
    },
    {
      "cell_type": "markdown",
      "source": [
        "辞書はミュータブル。"
      ],
      "metadata": {
        "id": "ZPg4nmi1vUZ9"
      }
    },
    {
      "cell_type": "code",
      "source": [
        "color[\"green\"] = 4\n",
        "color"
      ],
      "metadata": {
        "colab": {
          "base_uri": "https://localhost:8080/"
        },
        "id": "TsvQZmMivWaS",
        "outputId": "2fe3bd31-8ba8-425e-936d-e66c11ffd801"
      },
      "execution_count": 11,
      "outputs": [
        {
          "output_type": "execute_result",
          "data": {
            "text/plain": [
              "{'red': 1, 'blue': 2, 'yellow': 3, 'green': 4}"
            ]
          },
          "metadata": {},
          "execution_count": 11
        }
      ]
    },
    {
      "cell_type": "code",
      "source": [
        "color.key()"
      ],
      "metadata": {
        "id": "VebnGrFsvbea"
      },
      "execution_count": null,
      "outputs": []
    },
    {
      "cell_type": "code",
      "source": [
        "color"
      ],
      "metadata": {
        "id": "lmRq7vVDvuQJ"
      },
      "execution_count": null,
      "outputs": []
    },
    {
      "cell_type": "code",
      "source": [
        "!"
      ],
      "metadata": {
        "id": "ehZp2HNUvwWk"
      },
      "execution_count": null,
      "outputs": []
    }
  ]
}