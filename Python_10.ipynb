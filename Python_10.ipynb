{
  "nbformat": 4,
  "nbformat_minor": 0,
  "metadata": {
    "colab": {
      "provenance": [],
      "authorship_tag": "ABX9TyO9nCzub7kGzGqdxWquyCbz",
      "include_colab_link": true
    },
    "kernelspec": {
      "name": "python3",
      "display_name": "Python 3"
    },
    "language_info": {
      "name": "python"
    }
  },
  "cells": [
    {
      "cell_type": "markdown",
      "metadata": {
        "id": "view-in-github",
        "colab_type": "text"
      },
      "source": [
        "<a href=\"https://colab.research.google.com/github/jasmine-tokudome/python-practice/blob/main/Python_10.ipynb\" target=\"_parent\"><img src=\"https://colab.research.google.com/assets/colab-badge.svg\" alt=\"Open In Colab\"/></a>"
      ]
    },
    {
      "cell_type": "markdown",
      "source": [
        "# 辞書"
      ],
      "metadata": {
        "id": "98MyKnz-uNfM"
      }
    },
    {
      "cell_type": "code",
      "execution_count": 1,
      "metadata": {
        "id": "JDrxCryVrjNT"
      },
      "outputs": [],
      "source": [
        "color = {\"red\": 1, \"blue\": 2, \"yellow\": 3}"
      ]
    },
    {
      "cell_type": "code",
      "source": [
        "color"
      ],
      "metadata": {
        "colab": {
          "base_uri": "https://localhost:8080/"
        },
        "id": "avescqrHufDT",
        "outputId": "98b9ffb5-f0c0-4f7f-e581-1f7e6f980363"
      },
      "execution_count": 2,
      "outputs": [
        {
          "output_type": "execute_result",
          "data": {
            "text/plain": [
              "{'red': 1, 'blue': 2, 'yellow': 3}"
            ]
          },
          "metadata": {},
          "execution_count": 2
        }
      ]
    },
    {
      "cell_type": "markdown",
      "source": [
        "辞書は要素（keyとvalue）を複数もつ"
      ],
      "metadata": {
        "id": "Sk4kB7b85vOh"
      }
    },
    {
      "cell_type": "code",
      "source": [
        "color[\"red\"]"
      ],
      "metadata": {
        "id": "gwYAlJT36BKO",
        "outputId": "74d5e726-cab8-4383-95d6-bd24164d1bd6",
        "colab": {
          "base_uri": "https://localhost:8080/"
        }
      },
      "execution_count": 3,
      "outputs": [
        {
          "output_type": "execute_result",
          "data": {
            "text/plain": [
              "1"
            ]
          },
          "metadata": {},
          "execution_count": 3
        }
      ]
    },
    {
      "cell_type": "markdown",
      "source": [
        "辞書に含まれる一意なkeyを使って要素を取り出すので順序は関係ない。"
      ],
      "metadata": {
        "id": "rfk_vIkZ6K3M"
      }
    },
    {
      "cell_type": "code",
      "source": [
        "color.get(\"red\")"
      ],
      "metadata": {
        "colab": {
          "base_uri": "https://localhost:8080/"
        },
        "id": "041hqpHtugXj",
        "outputId": "17f527ca-9d39-49b5-972f-12b95e1b34bc"
      },
      "execution_count": 17,
      "outputs": [
        {
          "output_type": "execute_result",
          "data": {
            "text/plain": [
              "1"
            ]
          },
          "metadata": {},
          "execution_count": 17
        }
      ]
    },
    {
      "cell_type": "code",
      "source": [
        "color[\"green]"
      ],
      "metadata": {
        "id": "35BfUgdS6Tss",
        "outputId": "4b9b9066-ce03-483c-f093-0ec597f54166",
        "colab": {
          "base_uri": "https://localhost:8080/",
          "height": 109
        }
      },
      "execution_count": 4,
      "outputs": [
        {
          "output_type": "error",
          "ename": "SyntaxError",
          "evalue": "unterminated string literal (detected at line 1) (<ipython-input-4-e7ac3dd71fd0>, line 1)",
          "traceback": [
            "\u001b[0;36m  File \u001b[0;32m\"<ipython-input-4-e7ac3dd71fd0>\"\u001b[0;36m, line \u001b[0;32m1\u001b[0m\n\u001b[0;31m    color[\"green]\u001b[0m\n\u001b[0m          ^\u001b[0m\n\u001b[0;31mSyntaxError\u001b[0m\u001b[0;31m:\u001b[0m unterminated string literal (detected at line 1)\n"
          ]
        }
      ]
    },
    {
      "cell_type": "code",
      "source": [
        "color.get(\"red\")"
      ],
      "metadata": {
        "id": "D7wMWJnf6euK",
        "outputId": "b0121b2c-bc0e-433d-81c6-bc558b4302cd",
        "colab": {
          "base_uri": "https://localhost:8080/"
        }
      },
      "execution_count": 6,
      "outputs": [
        {
          "output_type": "execute_result",
          "data": {
            "text/plain": [
              "1"
            ]
          },
          "metadata": {},
          "execution_count": 6
        }
      ]
    },
    {
      "cell_type": "code",
      "source": [
        "color.get(\"green\")"
      ],
      "metadata": {
        "id": "XpOFpzI0vQDs"
      },
      "execution_count": 5,
      "outputs": []
    },
    {
      "cell_type": "markdown",
      "source": [
        "getを使うと存在しないkeyを指定した場合にエラーが起きない（何も返さない）"
      ],
      "metadata": {
        "id": "wYs0boSt6kPc"
      }
    },
    {
      "cell_type": "markdown",
      "source": [
        "辞書はミュータブル。あとで書き換えができる。"
      ],
      "metadata": {
        "id": "ZPg4nmi1vUZ9"
      }
    },
    {
      "cell_type": "code",
      "source": [
        "color[\"green\"] = 4\n",
        "color"
      ],
      "metadata": {
        "colab": {
          "base_uri": "https://localhost:8080/"
        },
        "id": "TsvQZmMivWaS",
        "outputId": "9a5761bb-9753-4206-fda4-1986de7a1867"
      },
      "execution_count": 7,
      "outputs": [
        {
          "output_type": "execute_result",
          "data": {
            "text/plain": [
              "{'red': 1, 'blue': 2, 'yellow': 3, 'green': 4}"
            ]
          },
          "metadata": {},
          "execution_count": 7
        }
      ]
    },
    {
      "cell_type": "code",
      "source": [
        "color.pop(\"red\")\n",
        "color"
      ],
      "metadata": {
        "colab": {
          "base_uri": "https://localhost:8080/"
        },
        "id": "ehZp2HNUvwWk",
        "outputId": "fc463dde-a1e6-4246-b176-5a9913c80d11"
      },
      "execution_count": 8,
      "outputs": [
        {
          "output_type": "execute_result",
          "data": {
            "text/plain": [
              "{'blue': 2, 'yellow': 3, 'green': 4}"
            ]
          },
          "metadata": {},
          "execution_count": 8
        }
      ]
    },
    {
      "cell_type": "code",
      "source": [
        "color.clear()"
      ],
      "metadata": {
        "id": "tJ1WyYPFZ2v3"
      },
      "execution_count": 9,
      "outputs": []
    },
    {
      "cell_type": "code",
      "source": [
        "color"
      ],
      "metadata": {
        "id": "4_vf2j9C67VJ",
        "outputId": "023de6ca-a712-4f16-9e91-e72c83fe074d",
        "colab": {
          "base_uri": "https://localhost:8080/"
        }
      },
      "execution_count": 10,
      "outputs": [
        {
          "output_type": "execute_result",
          "data": {
            "text/plain": [
              "{}"
            ]
          },
          "metadata": {},
          "execution_count": 10
        }
      ]
    },
    {
      "cell_type": "code",
      "source": [
        "color = {\"red\": 1, \"blue\": 2, \"yellow\": 3}"
      ],
      "metadata": {
        "id": "E3OHzfR97CjL"
      },
      "execution_count": 11,
      "outputs": []
    },
    {
      "cell_type": "code",
      "source": [
        "color.keys()"
      ],
      "metadata": {
        "colab": {
          "base_uri": "https://localhost:8080/"
        },
        "id": "J7p7t8xQbNWE",
        "outputId": "91e4fd8f-0ac7-42e7-825f-66a67680f591"
      },
      "execution_count": 12,
      "outputs": [
        {
          "output_type": "execute_result",
          "data": {
            "text/plain": [
              "dict_keys(['red', 'blue', 'yellow'])"
            ]
          },
          "metadata": {},
          "execution_count": 12
        }
      ]
    },
    {
      "cell_type": "code",
      "source": [
        "color.values()"
      ],
      "metadata": {
        "colab": {
          "base_uri": "https://localhost:8080/"
        },
        "id": "cpMjUPzcbTyN",
        "outputId": "4e690133-fe6b-4732-a24d-6674aad2d086"
      },
      "execution_count": 13,
      "outputs": [
        {
          "output_type": "execute_result",
          "data": {
            "text/plain": [
              "dict_values([1, 2, 3])"
            ]
          },
          "metadata": {},
          "execution_count": 13
        }
      ]
    },
    {
      "cell_type": "code",
      "source": [
        "\"red\" in color.keys()"
      ],
      "metadata": {
        "colab": {
          "base_uri": "https://localhost:8080/"
        },
        "id": "85VgRYfObaXY",
        "outputId": "29deba70-e00a-463f-8227-6380c625e0c3"
      },
      "execution_count": 14,
      "outputs": [
        {
          "output_type": "execute_result",
          "data": {
            "text/plain": [
              "True"
            ]
          },
          "metadata": {},
          "execution_count": 14
        }
      ]
    },
    {
      "cell_type": "markdown",
      "source": [
        "redというkeyが含まれるかどうかを探す"
      ],
      "metadata": {
        "id": "mgdCUEiu7IjZ"
      }
    },
    {
      "cell_type": "code",
      "source": [
        "1 in color.values()"
      ],
      "metadata": {
        "colab": {
          "base_uri": "https://localhost:8080/"
        },
        "id": "JT2r73ijjia9",
        "outputId": "f55198e3-4ae8-45eb-c49f-89f9255d6a03"
      },
      "execution_count": 15,
      "outputs": [
        {
          "output_type": "execute_result",
          "data": {
            "text/plain": [
              "True"
            ]
          },
          "metadata": {},
          "execution_count": 15
        }
      ]
    },
    {
      "cell_type": "markdown",
      "source": [
        "タプルはkeyにできるが、リストはkeyにできない。\n",
        "hasg可能かどうかがkeyとして使えるかの条件"
      ],
      "metadata": {
        "id": "ya5ih7XD7Sem"
      }
    },
    {
      "cell_type": "code",
      "source": [
        "color = {[\"red\", \"blue\"]: 1, \"yellow\": 2}"
      ],
      "metadata": {
        "id": "cdTEgX1e7ZOW",
        "outputId": "2ab5076b-225f-496e-9705-a4e241025b39",
        "colab": {
          "base_uri": "https://localhost:8080/",
          "height": 145
        }
      },
      "execution_count": 19,
      "outputs": [
        {
          "output_type": "error",
          "ename": "TypeError",
          "evalue": "unhashable type: 'list'",
          "traceback": [
            "\u001b[0;31m---------------------------------------------------------------------------\u001b[0m",
            "\u001b[0;31mTypeError\u001b[0m                                 Traceback (most recent call last)",
            "\u001b[0;32m<ipython-input-19-f3d835a6baf7>\u001b[0m in \u001b[0;36m<cell line: 1>\u001b[0;34m()\u001b[0m\n\u001b[0;32m----> 1\u001b[0;31m \u001b[0mcolor\u001b[0m \u001b[0;34m=\u001b[0m \u001b[0;34m{\u001b[0m\u001b[0;34m[\u001b[0m\u001b[0;34m\"red\"\u001b[0m\u001b[0;34m,\u001b[0m \u001b[0;34m\"blue\"\u001b[0m\u001b[0;34m]\u001b[0m\u001b[0;34m:\u001b[0m \u001b[0;36m1\u001b[0m\u001b[0;34m,\u001b[0m \u001b[0;34m\"yellow\"\u001b[0m\u001b[0;34m:\u001b[0m \u001b[0;36m2\u001b[0m\u001b[0;34m}\u001b[0m\u001b[0;34m\u001b[0m\u001b[0;34m\u001b[0m\u001b[0m\n\u001b[0m",
            "\u001b[0;31mTypeError\u001b[0m: unhashable type: 'list'"
          ]
        }
      ]
    },
    {
      "cell_type": "code",
      "source": [
        "color = {(\"red\", \"blue\"): 1, \"yellow\": 2}"
      ],
      "metadata": {
        "id": "y2-pitPI7hf4"
      },
      "execution_count": 20,
      "outputs": []
    },
    {
      "cell_type": "markdown",
      "source": [
        "正確には、そのオブジェクトがhash関数を内部的に実装しているかどうかがhash可能性を決める。\n",
        "\n",
        "現時点では、辞書のkeyとして使うことができるのは、イミュータブルなデータ（文字列やタプル）のみとおぼえておくと良い。"
      ],
      "metadata": {
        "id": "Kscq_pJr79Iz"
      }
    },
    {
      "cell_type": "code",
      "source": [
        "color = {{1, 2}: \"red\", 3: \"blue\"}"
      ],
      "metadata": {
        "id": "7cK0LASR9Kyh",
        "outputId": "92a137e5-52a7-4292-cafc-9930f6f7f618",
        "colab": {
          "base_uri": "https://localhost:8080/",
          "height": 145
        }
      },
      "execution_count": 21,
      "outputs": [
        {
          "output_type": "error",
          "ename": "TypeError",
          "evalue": "unhashable type: 'set'",
          "traceback": [
            "\u001b[0;31m---------------------------------------------------------------------------\u001b[0m",
            "\u001b[0;31mTypeError\u001b[0m                                 Traceback (most recent call last)",
            "\u001b[0;32m<ipython-input-21-77bf74094607>\u001b[0m in \u001b[0;36m<cell line: 1>\u001b[0;34m()\u001b[0m\n\u001b[0;32m----> 1\u001b[0;31m \u001b[0mcolor\u001b[0m \u001b[0;34m=\u001b[0m \u001b[0;34m{\u001b[0m\u001b[0;34m{\u001b[0m\u001b[0;36m1\u001b[0m\u001b[0;34m,\u001b[0m \u001b[0;36m2\u001b[0m\u001b[0;34m}\u001b[0m\u001b[0;34m:\u001b[0m \u001b[0;34m\"red\"\u001b[0m\u001b[0;34m,\u001b[0m \u001b[0;36m3\u001b[0m\u001b[0;34m:\u001b[0m \u001b[0;34m\"blue\"\u001b[0m\u001b[0;34m}\u001b[0m\u001b[0;34m\u001b[0m\u001b[0;34m\u001b[0m\u001b[0m\n\u001b[0m",
            "\u001b[0;31mTypeError\u001b[0m: unhashable type: 'set'"
          ]
        }
      ]
    },
    {
      "cell_type": "code",
      "source": [],
      "metadata": {
        "id": "09_6Xapn9TRt"
      },
      "execution_count": null,
      "outputs": []
    }
  ]
}