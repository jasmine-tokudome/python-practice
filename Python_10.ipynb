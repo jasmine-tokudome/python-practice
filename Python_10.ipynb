{
  "cells": [
    {
      "cell_type": "markdown",
      "metadata": {
        "id": "view-in-github",
        "colab_type": "text"
      },
      "source": [
        "<a href=\"https://colab.research.google.com/github/jasmine-tokudome/python-practice/blob/main/Python_10.ipynb\" target=\"_parent\"><img src=\"https://colab.research.google.com/assets/colab-badge.svg\" alt=\"Open In Colab\"/></a>"
      ]
    },
    {
      "cell_type": "markdown",
      "metadata": {
        "id": "98MyKnz-uNfM"
      },
      "source": [
        "# 辞書"
      ]
    },
    {
      "cell_type": "code",
      "execution_count": 30,
      "metadata": {
        "id": "JDrxCryVrjNT"
      },
      "outputs": [],
      "source": [
        "color = {\"red\": 1, \"blue\": 2, \"yellow\": 3}"
      ]
    },
    {
      "cell_type": "code",
      "execution_count": 31,
      "metadata": {
        "colab": {
          "base_uri": "https://localhost:8080/"
        },
        "id": "avescqrHufDT",
        "outputId": "db113f9e-b3c7-4b0f-e806-9146eeb38af3"
      },
      "outputs": [
        {
          "output_type": "execute_result",
          "data": {
            "text/plain": [
              "{'red': 1, 'blue': 2, 'yellow': 3}"
            ]
          },
          "metadata": {},
          "execution_count": 31
        }
      ],
      "source": [
        "color"
      ]
    },
    {
      "cell_type": "code",
      "execution_count": 32,
      "metadata": {
        "colab": {
          "base_uri": "https://localhost:8080/"
        },
        "id": "041hqpHtugXj",
        "outputId": "3636d690-e670-4d16-c914-03cfcaad8224"
      },
      "outputs": [
        {
          "output_type": "execute_result",
          "data": {
            "text/plain": [
              "1"
            ]
          },
          "metadata": {},
          "execution_count": 32
        }
      ],
      "source": [
        "color.get(\"red\")"
      ]
    },
    {
      "cell_type": "markdown",
      "source": [
        "その辞書に含まれる一意なkeyを使って要素を取り出すので順序は関係ない。"
      ],
      "metadata": {
        "id": "wqXXuR2ACv4i"
      }
    },
    {
      "cell_type": "code",
      "execution_count": 33,
      "metadata": {
        "id": "XpOFpzI0vQDs",
        "colab": {
          "base_uri": "https://localhost:8080/",
          "height": 141
        },
        "outputId": "c75ad166-8a72-4aba-b376-659dc87dc451"
      },
      "outputs": [
        {
          "output_type": "error",
          "ename": "KeyError",
          "evalue": "'green'",
          "traceback": [
            "\u001b[0;31m---------------------------------------------------------------------------\u001b[0m",
            "\u001b[0;31mKeyError\u001b[0m                                  Traceback (most recent call last)",
            "\u001b[0;32m<ipython-input-33-e16f569947da>\u001b[0m in \u001b[0;36m<cell line: 1>\u001b[0;34m()\u001b[0m\n\u001b[0;32m----> 1\u001b[0;31m \u001b[0mcolor\u001b[0m\u001b[0;34m[\u001b[0m\u001b[0;34m\"green\"\u001b[0m\u001b[0;34m]\u001b[0m\u001b[0;34m\u001b[0m\u001b[0;34m\u001b[0m\u001b[0m\n\u001b[0m",
            "\u001b[0;31mKeyError\u001b[0m: 'green'"
          ]
        }
      ],
      "source": [
        "color[\"green\"]"
      ]
    },
    {
      "cell_type": "markdown",
      "metadata": {
        "id": "ZPg4nmi1vUZ9"
      },
      "source": [
        "辞書はミュータブル。あとで書き換えできる。"
      ]
    },
    {
      "cell_type": "code",
      "source": [
        "color.get(\"red\")"
      ],
      "metadata": {
        "colab": {
          "base_uri": "https://localhost:8080/"
        },
        "id": "FYK5Aty3DG1U",
        "outputId": "97a6f777-7f0c-4d55-b8d0-4b66e26fa317"
      },
      "execution_count": 34,
      "outputs": [
        {
          "output_type": "execute_result",
          "data": {
            "text/plain": [
              "1"
            ]
          },
          "metadata": {},
          "execution_count": 34
        }
      ]
    },
    {
      "cell_type": "code",
      "source": [
        "getを使うとエラーが出ない。そのvalueがなかったら何も帰ってこない。"
      ],
      "metadata": {
        "id": "g53hDFnzDVI9"
      },
      "execution_count": null,
      "outputs": []
    },
    {
      "cell_type": "code",
      "source": [
        "color.get(\"green\")"
      ],
      "metadata": {
        "id": "Thp2kF8kDLh1"
      },
      "execution_count": 35,
      "outputs": []
    },
    {
      "cell_type": "code",
      "execution_count": 36,
      "metadata": {
        "colab": {
          "base_uri": "https://localhost:8080/"
        },
        "id": "TsvQZmMivWaS",
        "outputId": "240c5285-932f-4f2b-e263-28990d8de1b1"
      },
      "outputs": [
        {
          "output_type": "execute_result",
          "data": {
            "text/plain": [
              "{'red': 1, 'blue': 2, 'yellow': 3, 'green': 4}"
            ]
          },
          "metadata": {},
          "execution_count": 36
        }
      ],
      "source": [
        "color[\"green\"] = 4\n",
        "color"
      ]
    },
    {
      "cell_type": "markdown",
      "source": [
        "辞書から要素を消すこともできる。一つがpop"
      ],
      "metadata": {
        "id": "qjQO1oYkDmg7"
      }
    },
    {
      "cell_type": "code",
      "execution_count": 38,
      "metadata": {
        "colab": {
          "base_uri": "https://localhost:8080/"
        },
        "id": "ehZp2HNUvwWk",
        "outputId": "ee27c9e7-eec0-4757-ec34-3c61df981aa8"
      },
      "outputs": [
        {
          "output_type": "execute_result",
          "data": {
            "text/plain": [
              "{'blue': 2, 'yellow': 3, 'green': 4}"
            ]
          },
          "metadata": {},
          "execution_count": 38
        }
      ],
      "source": [
        "color.pop(\"red\")\n",
        "color"
      ]
    },
    {
      "cell_type": "code",
      "source": [
        "全部消すならclearを使う"
      ],
      "metadata": {
        "id": "wAA8V9FvDsAP"
      },
      "execution_count": null,
      "outputs": []
    },
    {
      "cell_type": "code",
      "source": [
        "color.clear()"
      ],
      "metadata": {
        "id": "xYOLiCw7Dvh3"
      },
      "execution_count": 40,
      "outputs": []
    },
    {
      "cell_type": "code",
      "source": [
        "color"
      ],
      "metadata": {
        "colab": {
          "base_uri": "https://localhost:8080/"
        },
        "id": "419hUobADyS6",
        "outputId": "109a3116-b2b6-4557-b005-5428c91e43f5"
      },
      "execution_count": 41,
      "outputs": [
        {
          "output_type": "execute_result",
          "data": {
            "text/plain": [
              "{}"
            ]
          },
          "metadata": {},
          "execution_count": 41
        }
      ]
    },
    {
      "cell_type": "code",
      "execution_count": 42,
      "metadata": {
        "id": "8td66Q2yXAfZ"
      },
      "outputs": [],
      "source": [
        "color = {\"red\": 1, \"blue\": 2, \"yellow\": 3}"
      ]
    },
    {
      "cell_type": "code",
      "source": [
        "color.keys()"
      ],
      "metadata": {
        "colab": {
          "base_uri": "https://localhost:8080/"
        },
        "id": "nsndQm3JEMd1",
        "outputId": "a01ab04c-bd17-45fe-dbe2-8fd31f728a87"
      },
      "execution_count": 43,
      "outputs": [
        {
          "output_type": "execute_result",
          "data": {
            "text/plain": [
              "dict_keys(['red', 'blue', 'yellow'])"
            ]
          },
          "metadata": {},
          "execution_count": 43
        }
      ]
    },
    {
      "cell_type": "code",
      "source": [
        "color.values()"
      ],
      "metadata": {
        "colab": {
          "base_uri": "https://localhost:8080/"
        },
        "id": "4GxGJ4ljESIH",
        "outputId": "a9096fc0-7f79-4c3a-fd4b-78cee389597f"
      },
      "execution_count": 44,
      "outputs": [
        {
          "output_type": "execute_result",
          "data": {
            "text/plain": [
              "dict_values([1, 2, 3])"
            ]
          },
          "metadata": {},
          "execution_count": 44
        }
      ]
    },
    {
      "cell_type": "code",
      "source": [
        "\"red\" in color.keys()"
      ],
      "metadata": {
        "colab": {
          "base_uri": "https://localhost:8080/"
        },
        "id": "dcEKbHn5EVng",
        "outputId": "06cb996a-9916-40de-e9d2-14e5ebb233ec"
      },
      "execution_count": 45,
      "outputs": [
        {
          "output_type": "execute_result",
          "data": {
            "text/plain": [
              "True"
            ]
          },
          "metadata": {},
          "execution_count": 45
        }
      ]
    },
    {
      "cell_type": "code",
      "source": [
        "1 in color.values()"
      ],
      "metadata": {
        "colab": {
          "base_uri": "https://localhost:8080/"
        },
        "id": "m9cSiITcEeGf",
        "outputId": "9e37526f-0c35-4510-80cc-83cf03aa1df3"
      },
      "execution_count": 46,
      "outputs": [
        {
          "output_type": "execute_result",
          "data": {
            "text/plain": [
              "True"
            ]
          },
          "metadata": {},
          "execution_count": 46
        }
      ]
    },
    {
      "cell_type": "markdown",
      "source": [
        "タプルはkeyにできるが、リストはkeyにできない。hash可能かどうかがkeyとして使えるかの条件。"
      ],
      "metadata": {
        "id": "WS64rRrOEnhr"
      }
    },
    {
      "cell_type": "code",
      "source": [
        "color = {[\"red\",\"blue\"]:1, \"yellow\":2}"
      ],
      "metadata": {
        "colab": {
          "base_uri": "https://localhost:8080/",
          "height": 141
        },
        "id": "4A5m68A5Egg4",
        "outputId": "8b82dc8b-e5ff-45a0-8e60-6196882a200c"
      },
      "execution_count": 47,
      "outputs": [
        {
          "output_type": "error",
          "ename": "TypeError",
          "evalue": "unhashable type: 'list'",
          "traceback": [
            "\u001b[0;31m---------------------------------------------------------------------------\u001b[0m",
            "\u001b[0;31mTypeError\u001b[0m                                 Traceback (most recent call last)",
            "\u001b[0;32m<ipython-input-47-6e152b966fd6>\u001b[0m in \u001b[0;36m<cell line: 1>\u001b[0;34m()\u001b[0m\n\u001b[0;32m----> 1\u001b[0;31m \u001b[0mcolor\u001b[0m \u001b[0;34m=\u001b[0m \u001b[0;34m{\u001b[0m\u001b[0;34m[\u001b[0m\u001b[0;34m\"red\"\u001b[0m\u001b[0;34m,\u001b[0m\u001b[0;34m\"blue\"\u001b[0m\u001b[0;34m]\u001b[0m\u001b[0;34m:\u001b[0m\u001b[0;36m1\u001b[0m\u001b[0;34m,\u001b[0m \u001b[0;34m\"yellow\"\u001b[0m\u001b[0;34m:\u001b[0m\u001b[0;36m2\u001b[0m\u001b[0;34m}\u001b[0m\u001b[0;34m\u001b[0m\u001b[0;34m\u001b[0m\u001b[0m\n\u001b[0m",
            "\u001b[0;31mTypeError\u001b[0m: unhashable type: 'list'"
          ]
        }
      ]
    },
    {
      "cell_type": "code",
      "source": [
        "color = {(\"red\",\"blue\"):1, \"yellow\":2}"
      ],
      "metadata": {
        "id": "Hb-KL2kvE9wm"
      },
      "execution_count": 49,
      "outputs": []
    },
    {
      "cell_type": "code",
      "source": [
        "color"
      ],
      "metadata": {
        "colab": {
          "base_uri": "https://localhost:8080/"
        },
        "id": "P-qNuWODFSVR",
        "outputId": "b07278bd-eec9-4e27-c768-24f3b0b2b3a2"
      },
      "execution_count": 50,
      "outputs": [
        {
          "output_type": "execute_result",
          "data": {
            "text/plain": [
              "{('red', 'blue'): 1, 'yellow': 2}"
            ]
          },
          "metadata": {},
          "execution_count": 50
        }
      ]
    },
    {
      "cell_type": "markdown",
      "source": [
        "keyにできるかどうかは、そのオブジェクトがhash関数を内部的に実装しているかどうかがhash可能性を決める。"
      ],
      "metadata": {
        "id": "90lTjI0EF8sN"
      }
    },
    {
      "cell_type": "code",
      "source": [
        "color = {{1,2}:\"red\", 3:blue}"
      ],
      "metadata": {
        "colab": {
          "base_uri": "https://localhost:8080/",
          "height": 141
        },
        "id": "DaSWML1lFwPx",
        "outputId": "f78510ab-9948-40de-e20d-f1e1245306f9"
      },
      "execution_count": 1,
      "outputs": [
        {
          "output_type": "error",
          "ename": "NameError",
          "evalue": "name 'blue' is not defined",
          "traceback": [
            "\u001b[0;31m---------------------------------------------------------------------------\u001b[0m",
            "\u001b[0;31mNameError\u001b[0m                                 Traceback (most recent call last)",
            "\u001b[0;32m<ipython-input-1-aa7cfa9d418e>\u001b[0m in \u001b[0;36m<cell line: 1>\u001b[0;34m()\u001b[0m\n\u001b[0;32m----> 1\u001b[0;31m \u001b[0mcolor\u001b[0m \u001b[0;34m=\u001b[0m \u001b[0;34m{\u001b[0m\u001b[0;34m{\u001b[0m\u001b[0;36m1\u001b[0m\u001b[0;34m,\u001b[0m\u001b[0;36m2\u001b[0m\u001b[0;34m}\u001b[0m\u001b[0;34m:\u001b[0m\u001b[0;34m\"red\"\u001b[0m\u001b[0;34m,\u001b[0m \u001b[0;36m3\u001b[0m\u001b[0;34m:\u001b[0m\u001b[0mblue\u001b[0m\u001b[0;34m}\u001b[0m\u001b[0;34m\u001b[0m\u001b[0;34m\u001b[0m\u001b[0m\n\u001b[0m",
            "\u001b[0;31mNameError\u001b[0m: name 'blue' is not defined"
          ]
        }
      ]
    },
    {
      "cell_type": "markdown",
      "source": [
        "# 演習問題"
      ],
      "metadata": {
        "id": "0C3PrVYqAV6l"
      }
    },
    {
      "cell_type": "code",
      "execution_count": 3,
      "metadata": {
        "id": "tY55pSTuXZ43"
      },
      "outputs": [],
      "source": [
        "d = {\"key1\": 1, \"key2\": 2, \"key3\": 3}\n",
        "val = 2\n",
        "def get_key_from_value(d, val):\n",
        ""
      ]
    },
    {
      "cell_type": "code",
      "source": [],
      "metadata": {
        "id": "-cKsyeLqtN0F"
      },
      "execution_count": null,
      "outputs": []
    },
    {
      "cell_type": "code",
      "source": [],
      "metadata": {
        "colab": {
          "base_uri": "https://localhost:8080/"
        },
        "id": "JLIJO9KrAfWn",
        "outputId": "1ef3814b-d71e-4e95-a15c-6377ac1f0398"
      },
      "execution_count": 19,
      "outputs": [
        {
          "output_type": "stream",
          "name": "stdout",
          "text": [
            "dict_items([('key1', 1), ('key2', 2), ('key3', 3)])\n"
          ]
        }
      ]
    }
  ],
  "metadata": {
    "colab": {
      "provenance": [],
      "authorship_tag": "ABX9TyOmDfqQW50pPHiPAY09YmUL",
      "include_colab_link": true
    },
    "kernelspec": {
      "display_name": "Python 3",
      "name": "python3"
    },
    "language_info": {
      "name": "python"
    }
  },
  "nbformat": 4,
  "nbformat_minor": 0
}