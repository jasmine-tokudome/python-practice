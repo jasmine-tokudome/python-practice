{
  "nbformat": 4,
  "nbformat_minor": 0,
  "metadata": {
    "colab": {
      "provenance": [],
      "authorship_tag": "ABX9TyOuemQJkpZ0CUQSfhsknPXd",
      "include_colab_link": true
    },
    "kernelspec": {
      "name": "python3",
      "display_name": "Python 3"
    },
    "language_info": {
      "name": "python"
    }
  },
  "cells": [
    {
      "cell_type": "markdown",
      "metadata": {
        "id": "view-in-github",
        "colab_type": "text"
      },
      "source": [
        "<a href=\"https://colab.research.google.com/github/jasmine-tokudome/python-practice/blob/main/Python%E5%AE%9F%E8%B7%B5%EF%BC%94.ipynb\" target=\"_parent\"><img src=\"https://colab.research.google.com/assets/colab-badge.svg\" alt=\"Open In Colab\"/></a>"
      ]
    },
    {
      "cell_type": "markdown",
      "source": [
        "# 無名関数とlambda式"
      ],
      "metadata": {
        "id": "0IiN7qgs_CCq"
      }
    },
    {
      "cell_type": "code",
      "execution_count": 2,
      "metadata": {
        "id": "h31KTfZ--zGD"
      },
      "outputs": [],
      "source": [
        "def increment(num):\n",
        "  return num + 1"
      ]
    },
    {
      "cell_type": "code",
      "source": [
        "increment(3)"
      ],
      "metadata": {
        "colab": {
          "base_uri": "https://localhost:8080/"
        },
        "id": "raCvGy94_MWH",
        "outputId": "aae91a29-395d-44c1-892f-ea4d2cd15e51"
      },
      "execution_count": 3,
      "outputs": [
        {
          "output_type": "execute_result",
          "data": {
            "text/plain": [
              "4"
            ]
          },
          "metadata": {},
          "execution_count": 3
        }
      ]
    },
    {
      "cell_type": "code",
      "source": [
        "increment = lambda num : num + 1"
      ],
      "metadata": {
        "id": "UPNrF85l_Rmo"
      },
      "execution_count": 4,
      "outputs": []
    },
    {
      "cell_type": "code",
      "source": [
        "increment(4)"
      ],
      "metadata": {
        "colab": {
          "base_uri": "https://localhost:8080/"
        },
        "id": "F2b-b1--_Zhc",
        "outputId": "25529f8d-3b72-4fc1-a9a1-c2873d475b56"
      },
      "execution_count": 5,
      "outputs": [
        {
          "output_type": "execute_result",
          "data": {
            "text/plain": [
              "5"
            ]
          },
          "metadata": {},
          "execution_count": 5
        }
      ]
    },
    {
      "cell_type": "markdown",
      "source": [
        "（関数名＝）lambda　引数：戻り値\n",
        "※無名関数は定義の際に関数の名前を省略し、１行でかく。"
      ],
      "metadata": {
        "id": "9Vj_Pr0i_lr-"
      }
    },
    {
      "cell_type": "code",
      "source": [],
      "metadata": {
        "id": "UHcSVDBV_yt1"
      },
      "execution_count": null,
      "outputs": []
    }
  ]
}