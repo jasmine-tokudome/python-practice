{
  "nbformat": 4,
  "nbformat_minor": 0,
  "metadata": {
    "colab": {
      "provenance": [],
      "authorship_tag": "ABX9TyNrbZzN6EpeTvTiI6B+a9PR",
      "include_colab_link": true
    },
    "kernelspec": {
      "name": "python3",
      "display_name": "Python 3"
    },
    "language_info": {
      "name": "python"
    }
  },
  "cells": [
    {
      "cell_type": "markdown",
      "metadata": {
        "id": "view-in-github",
        "colab_type": "text"
      },
      "source": [
        "<a href=\"https://colab.research.google.com/github/jasmine-tokudome/python-practice/blob/main/Python%E5%AE%9F%E8%B7%B5%EF%BC%94.ipynb\" target=\"_parent\"><img src=\"https://colab.research.google.com/assets/colab-badge.svg\" alt=\"Open In Colab\"/></a>"
      ]
    },
    {
      "cell_type": "markdown",
      "source": [
        "# 無名関数とlambda式"
      ],
      "metadata": {
        "id": "0IiN7qgs_CCq"
      }
    },
    {
      "cell_type": "code",
      "execution_count": 2,
      "metadata": {
        "id": "h31KTfZ--zGD"
      },
      "outputs": [],
      "source": [
        "def increment(num):\n",
        "  return num + 1"
      ]
    },
    {
      "cell_type": "code",
      "source": [
        "increment(3)"
      ],
      "metadata": {
        "colab": {
          "base_uri": "https://localhost:8080/"
        },
        "id": "raCvGy94_MWH",
        "outputId": "aae91a29-395d-44c1-892f-ea4d2cd15e51"
      },
      "execution_count": 3,
      "outputs": [
        {
          "output_type": "execute_result",
          "data": {
            "text/plain": [
              "4"
            ]
          },
          "metadata": {},
          "execution_count": 3
        }
      ]
    },
    {
      "cell_type": "code",
      "source": [
        "increment = lambda num : num + 1"
      ],
      "metadata": {
        "id": "UPNrF85l_Rmo"
      },
      "execution_count": 4,
      "outputs": []
    },
    {
      "cell_type": "code",
      "source": [
        "increment(4)"
      ],
      "metadata": {
        "colab": {
          "base_uri": "https://localhost:8080/"
        },
        "id": "F2b-b1--_Zhc",
        "outputId": "25529f8d-3b72-4fc1-a9a1-c2873d475b56"
      },
      "execution_count": 5,
      "outputs": [
        {
          "output_type": "execute_result",
          "data": {
            "text/plain": [
              "5"
            ]
          },
          "metadata": {},
          "execution_count": 5
        }
      ]
    },
    {
      "cell_type": "markdown",
      "source": [
        "（関数名＝）lambda　引数：戻り値\n",
        "※無名関数は定義の際に関数の名前を省略し、１行でかく。"
      ],
      "metadata": {
        "id": "9Vj_Pr0i_lr-"
      }
    },
    {
      "cell_type": "code",
      "source": [
        "add = lambda a, b : a + b\n",
        "add(3,2)"
      ],
      "metadata": {
        "colab": {
          "base_uri": "https://localhost:8080/"
        },
        "id": "UHcSVDBV_yt1",
        "outputId": "fd80adc8-c9a4-4457-a6ee-90f506971258"
      },
      "execution_count": 2,
      "outputs": [
        {
          "output_type": "execute_result",
          "data": {
            "text/plain": [
              "5"
            ]
          },
          "metadata": {},
          "execution_count": 2
        }
      ]
    },
    {
      "cell_type": "markdown",
      "source": [
        "# 関数を引数として受け取る関数"
      ],
      "metadata": {
        "id": "uqaK-XIg4I5w"
      }
    },
    {
      "cell_type": "markdown",
      "source": [
        "# filter"
      ],
      "metadata": {
        "id": "sCmuQTZy4OaY"
      }
    },
    {
      "cell_type": "code",
      "source": [
        "nums = ['1', '2', '3']\n",
        "def list_len(nums):\n",
        "  return len(nums) == 3"
      ],
      "metadata": {
        "id": "M3ePumOo4Kr_"
      },
      "execution_count": 6,
      "outputs": []
    },
    {
      "cell_type": "code",
      "source": [
        "list_len(nums)"
      ],
      "metadata": {
        "colab": {
          "base_uri": "https://localhost:8080/"
        },
        "id": "t3EEzx4c4692",
        "outputId": "ea99fd27-901e-4b62-9428-cc25ed4fe8fa"
      },
      "execution_count": 7,
      "outputs": [
        {
          "output_type": "execute_result",
          "data": {
            "text/plain": [
              "True"
            ]
          },
          "metadata": {},
          "execution_count": 7
        }
      ]
    },
    {
      "cell_type": "code",
      "source": [
        "filter(list_len, ['one','two','three'])"
      ],
      "metadata": {
        "colab": {
          "base_uri": "https://localhost:8080/"
        },
        "id": "wQ6t1Bki5Xnm",
        "outputId": "aa1a92d8-64bd-4cf3-b27b-0fcd431f3b6d"
      },
      "execution_count": 8,
      "outputs": [
        {
          "output_type": "execute_result",
          "data": {
            "text/plain": [
              "<filter at 0x7a13b42763b0>"
            ]
          },
          "metadata": {},
          "execution_count": 8
        }
      ]
    },
    {
      "cell_type": "markdown",
      "source": [
        "filter関数は戻り値がイテラブルなオブジェクト"
      ],
      "metadata": {
        "id": "5pwtDLig5nr7"
      }
    },
    {
      "cell_type": "code",
      "source": [
        "list(filter(list_len, ['one','two','three']))"
      ],
      "metadata": {
        "colab": {
          "base_uri": "https://localhost:8080/"
        },
        "id": "QnlN6lqQ9wAf",
        "outputId": "93a65300-1e4d-437f-94c0-126c4ec38fe9"
      },
      "execution_count": 10,
      "outputs": [
        {
          "output_type": "execute_result",
          "data": {
            "text/plain": [
              "['one', 'two']"
            ]
          },
          "metadata": {},
          "execution_count": 10
        }
      ]
    },
    {
      "cell_type": "code",
      "source": [
        "for i in filter(list_len, ['one','two','three']):\n",
        "  print(i)"
      ],
      "metadata": {
        "colab": {
          "base_uri": "https://localhost:8080/"
        },
        "id": "SABbzMjk-Fp7",
        "outputId": "7a384171-9366-4adf-ece9-435d5dce94fe"
      },
      "execution_count": 11,
      "outputs": [
        {
          "output_type": "stream",
          "name": "stdout",
          "text": [
            "one\n",
            "two\n"
          ]
        }
      ]
    },
    {
      "cell_type": "code",
      "source": [
        "list(filter(lambda x : len(x) == 3, ['one', 'two', 'three']))"
      ],
      "metadata": {
        "colab": {
          "base_uri": "https://localhost:8080/"
        },
        "id": "ldnh3tvnX6SM",
        "outputId": "5021fec3-e5c5-4b72-ee80-3d0d90fdace3"
      },
      "execution_count": 2,
      "outputs": [
        {
          "output_type": "execute_result",
          "data": {
            "text/plain": [
              "['one', 'two']"
            ]
          },
          "metadata": {},
          "execution_count": 2
        }
      ]
    },
    {
      "cell_type": "markdown",
      "source": [
        "関数の引数に関数を渡す際に無名関数を使う"
      ],
      "metadata": {
        "id": "QN0Z6O_1-ga5"
      }
    },
    {
      "cell_type": "markdown",
      "source": [
        "# map"
      ],
      "metadata": {
        "id": "e2KqyARr4Q-O"
      }
    },
    {
      "cell_type": "code",
      "source": [
        "square = map(lambda x : x * x, [1,2,3,4])\n",
        "list(square)"
      ],
      "metadata": {
        "colab": {
          "base_uri": "https://localhost:8080/"
        },
        "id": "_iGKVansYjLC",
        "outputId": "a3044f01-6f30-4a33-d672-9aa0cde499eb"
      },
      "execution_count": 3,
      "outputs": [
        {
          "output_type": "execute_result",
          "data": {
            "text/plain": [
              "[1, 4, 9, 16]"
            ]
          },
          "metadata": {},
          "execution_count": 3
        }
      ]
    }
  ]
}